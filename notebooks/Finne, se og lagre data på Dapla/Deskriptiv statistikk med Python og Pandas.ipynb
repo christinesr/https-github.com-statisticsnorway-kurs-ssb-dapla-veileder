{
 "cells": [
  {
   "cell_type": "markdown",
   "metadata": {},
   "source": [
    "## Beregning av statistiske størrelser med pyhton og pandas\n",
    "### I denne noten viser vi hvordan vi kan beregne statistiske størrelser i pyhton og ved bruk av pandas. Utgangspunkt for beregninger er parquet datasett som leses inn fra dapla."
   ]
  },
  {
   "cell_type": "markdown",
   "metadata": {},
   "source": [
    "#### Innhenter verktøy fra bibliotek\n",
    "Daplas Python pakke (dapla), samt bibliotekene statistics og pandas importeres."
   ]
  },
  {
   "cell_type": "code",
   "execution_count": null,
   "metadata": {},
   "outputs": [],
   "source": [
    "import dapla as dp\n",
    "import statistics as st\n",
    "import pandas as pd"
   ]
  },
  {
   "cell_type": "markdown",
   "metadata": {},
   "source": [
    "#### Vis tilgjengelige datasett\n",
    "Kjører metoden show for å få oversikt over parquet datasett som skal være utgangspunkt for beregninger.<br> Oversikten blir lest inn i egen dataframe - df_datasets.\n",
    "Aktuelt lagringsområde blir lagt inn som parameter (string objekt som vi definerer selv) INNDATA_PATH."
   ]
  },
  {
   "cell_type": "code",
   "execution_count": null,
   "metadata": {},
   "outputs": [],
   "source": [
    "INNDATA_PATH = '/felles/veiledning/datasett/'\n",
    "df_datasets = dp.show(INNDATA_PATH)"
   ]
  },
  {
   "cell_type": "markdown",
   "metadata": {},
   "source": [
    "#### Formater output\n",
    "df_datsets skrives ut i output vindu. Setter opsjonen max_colwith til 150 slik at vi får se all informasjon i df_datasets i output.\n",
    "Oversikt over ulike options som kan settes i Pandas:https://pandas.pydata.org/pandas-docs/stable/user_guide/options.html"
   ]
  },
  {
   "cell_type": "code",
   "execution_count": null,
   "metadata": {},
   "outputs": [],
   "source": [
    "pd.options.display.max_colwidth = 150\n",
    "pd.options.display.float_format = '{:.2f}'.format\n",
    "df_datasets"
   ]
  },
  {
   "cell_type": "markdown",
   "metadata": {},
   "source": [
    "Parquet datasettene df_sammensatt_pyspark og df_sammensatt_python over skal i utgangspunktet være identiske. De er produsert i henholdsvis pyspark og python. I vårt eksempel tar vi utgangspunkt i df_sammensatt_python."
   ]
  },
  {
   "cell_type": "markdown",
   "metadata": {},
   "source": [
    "#### Leser inn parquet datasett\n",
    "Leser inn parquet datasett som vi skal utføre beregninger på."
   ]
  },
  {
   "cell_type": "code",
   "execution_count": null,
   "metadata": {},
   "outputs": [],
   "source": [
    "df_areal_bnp_og_innbyggerantall = dp.read_pandas('/felles/veiledning/datasett/df_sammensatt_python')\n",
    "df_areal_bnp_og_innbyggerantall\n"
   ]
  },
  {
   "cell_type": "markdown",
   "metadata": {},
   "source": [
    "### Beregninger - eksempel 1\n",
    "Vi ønsker som utgangspunkt å beregne størrelsene count, mean, std, min, max og median for alle variable i df_areal_bnp_og_innbyggerantall. Ved å kjøre metoden describe på datasettet får vi ut  størrelsene count, mean, std, min, max, 25% percentile, 50% percentile og 75% percentile.  Vi betrakter 50% percentile som medianen. Dvs at vi får ut alle de størrelser vi ønsker å beregne i dette eksempelet kun ved å benytte describe metoden i pandas. "
   ]
  },
  {
   "cell_type": "markdown",
   "metadata": {},
   "source": [
    "##### Kjører ut statistiske størrelser\n",
    "Kjører ut statistike størrelser fra dataframe df_areal_bnp_og_innbyggerantall med metoden describe. Resultat fra metoden blir lagt i dataframen df_stat."
   ]
  },
  {
   "cell_type": "code",
   "execution_count": null,
   "metadata": {},
   "outputs": [],
   "source": [
    "df_stat = df_areal_bnp_og_innbyggerantall.describe()\n",
    "df_stat"
   ]
  },
  {
   "cell_type": "markdown",
   "metadata": {},
   "source": [
    "##### Transformere\n",
    "Transformerer df_stat med transpose metoden i pandas slik at rader i df_stat blir kolonner i dataframe df_stat_trans. Formål er å gjøre output mer oversiktlig ved at alle størrelser på en gitt variabel blir liggende i samme rad. Dette kan være hensiktsmessig i de tilfeller antall \"statistikkvaiable\" er høyt (dvs langt høyere enn de fire som inngår i eksempel)."
   ]
  },
  {
   "cell_type": "code",
   "execution_count": null,
   "metadata": {},
   "outputs": [],
   "source": [
    "df_stat_trans = df_stat.transpose()\n",
    "df_stat_trans"
   ]
  },
  {
   "cell_type": "markdown",
   "metadata": {},
   "source": [
    "### Beregninger - eksempel 2\n",
    "I eksempel 1 fikk vi beregnet de størrelsene vi var ute etter kun ved å bruke metoden describe. Hvis vi ønsker å beregne størrelser som ikke er støttet av describe metoden kan vi bruke andre bibliotek - f.eks. statistics bilioteket. \n",
    "\n",
    "I eksempel 2 ønsker vi å beregne størrelsen mode (viser den verdien som opptrer oftest i variabel) gjennom å bruke en fuksjon/metode fra statistics biblioteket. Videre ønsker vi i samme steg å inkludere mode \"sammen\" med størrelsene vi får ved å kjøre describe metoden. Resultat skal transformeres på tilsvarende måte som i eksempel 1.\n",
    "\n",
    "Det er satt opp en funksjon - desc_statistics - som utører nødvendige steg for beregningene. \n",
    "\n"
   ]
  },
  {
   "cell_type": "markdown",
   "metadata": {},
   "source": [
    "Parametere til desc_statistics\n",
    "- df  : dataframen som er input til funksjon\n",
    "- dec : Numerisk variabel som hvis satt til 0 endrer datatyper til integer\n",
    "- mod : Boolsk variabel som hvis satt til True beregner mode ved å bruke funksjonen (mode) i statistics(st) biblioteket"
   ]
  },
  {
   "cell_type": "code",
   "execution_count": null,
   "metadata": {},
   "outputs": [],
   "source": [
    "def desc_statistics(df, dec, mod):\n",
    "    df_desc = df.describe()\n",
    "    if mod: \n",
    "        mode_value = []\n",
    "        for col in df_desc.columns:\n",
    "            mode_value.append(st.mode(df[col]))\n",
    "        df_desc.loc['mode']= mode_value \n",
    "    if dec==0:\n",
    "        df_desc = df_desc.astype(int)\n",
    "    #return df_desc.transpose().round(dec)\n",
    "    return df_desc.transpose()"
   ]
  },
  {
   "cell_type": "code",
   "execution_count": null,
   "metadata": {},
   "outputs": [],
   "source": [
    "df_stat_advanced = desc_statistics(df_areal_bnp_og_innbyggerantall,0,True)\n",
    "df_stat_advanced"
   ]
  },
  {
   "cell_type": "code",
   "execution_count": null,
   "metadata": {},
   "outputs": [],
   "source": []
  }
 ],
 "metadata": {
  "kernelspec": {
   "display_name": "Python 3",
   "language": "python",
   "name": "python3"
  },
  "language_info": {
   "codemirror_mode": {
    "name": "ipython",
    "version": 3
   },
   "file_extension": ".py",
   "mimetype": "text/x-python",
   "name": "python",
   "nbconvert_exporter": "python",
   "pygments_lexer": "ipython3",
   "version": "3.8.6"
  }
 },
 "nbformat": 4,
 "nbformat_minor": 4
}
