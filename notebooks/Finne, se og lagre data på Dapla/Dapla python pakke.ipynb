{
 "cells": [
  {
   "cell_type": "markdown",
   "metadata": {},
   "source": [
    "#### Daplas Python pakke\n",
    "Dapla har utviklet en egen Python pakke for å kunne kommunisere direkte med Dapla-tjenester og jobbe med datasett uten\n",
    "å bruke spark. Denne pakken inneholder for tiden følgende funksjonalitet:\n",
    "- Lese datasett fra Google Cloud Storage (GCS) inn som en Pandas dataframe.\n",
    "- Skrive innholdet i en Pandas dataframe til en \"bøtte\" i GCS\n",
    "- Vise innhold i en GCS \"bøtte\"\n",
    "- Lete etter datasett"
   ]
  },
  {
   "cell_type": "markdown",
   "metadata": {},
   "source": [
    "#### Python pakken til Dapla importeres på følgende måte:"
   ]
  },
  {
   "cell_type": "code",
   "execution_count": null,
   "metadata": {},
   "outputs": [],
   "source": [
    "import dapla as dp"
   ]
  },
  {
   "cell_type": "markdown",
   "metadata": {},
   "source": [
    "#### Følgende eksempel oppretter en Pandas dataframe og skriver denne til GCS:"
   ]
  },
  {
   "cell_type": "code",
   "execution_count": null,
   "metadata": {},
   "outputs": [],
   "source": [
    "import dapla as dp\n",
    "import pandas as pd\n",
    "\n",
    "# Create pandas dataframe\n",
    "data = {\n",
    "    'apples': [3, 2, 0, 1], \n",
    "    'oranges': [0, 3, 7, 2]\n",
    "}\n",
    "purchases = pd.DataFrame(data, index=['June', 'Robert', 'Lily', 'David'])\n",
    "\n",
    "# Write pandas dataframe to GCS bucket\n",
    "dp.write_pandas(purchases, 'gs://ssb-prod-dapla-felles-data-delt/felles/veiledning/python/eksempler/purchases/data.parquet')"
   ]
  },
  {
   "cell_type": "markdown",
   "metadata": {},
   "source": [
    "#### Datasett kan også leses inn fra GCS, og blir automatisk konvertert til en Pandas dataframe:"
   ]
  },
  {
   "cell_type": "code",
   "execution_count": null,
   "metadata": {},
   "outputs": [],
   "source": [
    "import dapla as dp\n",
    "\n",
    "# Read path into pandas dataframe \n",
    "dp.read_pandas('gs://ssb-prod-dapla-felles-data-delt/felles/veiledning/python/eksempler/purchases')"
   ]
  },
  {
   "cell_type": "markdown",
   "metadata": {},
   "source": [
    "#### Man kan også bruke denne pakken til å lete etter datasett"
   ]
  },
  {
   "cell_type": "code",
   "execution_count": null,
   "metadata": {},
   "outputs": [],
   "source": [
    "dp.show('gs://ssb-prod-dapla-felles-data-delt/felles/veiledning/python/eksempler')"
   ]
  },
  {
   "cell_type": "markdown",
   "metadata": {},
   "source": [
    "#### Og til å vise innholdet (filene) i en bøtte"
   ]
  },
  {
   "cell_type": "code",
   "execution_count": null,
   "metadata": {},
   "outputs": [],
   "source": [
    "dp.details('gs://ssb-prod-dapla-felles-data-delt/felles/veiledning/python/eksempler/purchases')"
   ]
  },
  {
   "cell_type": "code",
   "execution_count": null,
   "metadata": {},
   "outputs": [],
   "source": [
    "dp.show(\"gs://ssb-prod-dapla-felles-data-delt/felles/veiledning/python\")"
   ]
  },
  {
   "cell_type": "code",
   "execution_count": null,
   "metadata": {},
   "outputs": [],
   "source": []
  }
 ],
 "metadata": {
  "kernelspec": {
   "display_name": "Python 3 (ipykernel)",
   "language": "python",
   "name": "python3"
  },
  "language_info": {
   "codemirror_mode": {
    "name": "ipython",
    "version": 3
   },
   "file_extension": ".py",
   "mimetype": "text/x-python",
   "name": "python",
   "nbconvert_exporter": "python",
   "pygments_lexer": "ipython3",
   "version": "3.9.10"
  }
 },
 "nbformat": 4,
 "nbformat_minor": 4
}
