{
 "cells": [
  {
   "cell_type": "markdown",
   "metadata": {},
   "source": [
    "### Finne, se og lagre data på Dapla\n",
    "Det vil være ulike måter brukeren kan finne dataene på Dapla. I grove trekk kan vi skille på søk i metadata (beskrivelsene av dataene) og utforske i en filstruktur.\n",
    "\n",
    "* [Utforske og lese inn eksempeldata fra Dapla (PySpark)](Lese%20eksempeldata%20fra%20dataplattformen%20(PySpark).ipynb)\n",
    "\n",
    "### Se og operere på dataene (via DataFrame-objekter)\n",
    "I både PySpark, Python og SparkR kan datasett håndteres via et <code>DataFrame</code> <b>objekt</b>.\n",
    "\n",
    "Se og lære:\n",
    "* [Intro til Pyspark.sql.Dataframe](Intro%20til%20Pyspark.sql.Dataframe.ipynb)\n",
    "* [Lese inn og skrive dataframes i R](Lese%20inn%20og%20skrive%20dataframes%20i%20R.ipynb)\n",
    "* [Intro til Pandas DataFrame](Intro%20til%20Pandas%20DataFrame.ipynb)\n",
    "\n",
    "### Lagre data på Dapla\n",
    "* [Opprette og lagre eksempeldata på Dapla (PySpark)](Opprette%20og%20skrive%20PySpark%20DataFrame%20til%20felles%20datalager.ipynb)"
   ]
  },
  {
   "cell_type": "code",
   "execution_count": null,
   "metadata": {},
   "outputs": [],
   "source": []
  }
 ],
 "metadata": {
  "kernelspec": {
   "display_name": "Pyspark (local)",
   "language": "python",
   "name": "pyspark_local"
  },
  "language_info": {
   "codemirror_mode": {
    "name": "ipython",
    "version": 3
   },
   "file_extension": ".py",
   "mimetype": "text/x-python",
   "name": "python",
   "nbconvert_exporter": "python",
   "pygments_lexer": "ipython3",
   "version": "3.8.5"
  }
 },
 "nbformat": 4,
 "nbformat_minor": 4
}
