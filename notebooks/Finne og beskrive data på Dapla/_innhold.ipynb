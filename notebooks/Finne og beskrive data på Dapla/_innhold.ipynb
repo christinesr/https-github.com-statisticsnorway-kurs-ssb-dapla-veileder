{
 "cells": [
  {
   "cell_type": "markdown",
   "metadata": {},
   "source": [
    "## Finne og beskrive data på Dapla\n",
    "Det vil være ulike måter brukeren kan finne dataene på Dapla. I grove trekk kan vi skille på søk i metadata (beskrivelsene av dataene) og utforske i en filstruktur.\n",
    "\n",
    "* [Utforske og lese inn eksempeldata fra Dapla (PySpark)](Lese%20eksempeldata%20fra%20dataplattformen%20(PySpark).ipynb)\n",
    "* [Opprette og lagre eksempeldata på Dapla (PySpark)](Opprette%20og%20skrive%20PySpark%20DataFrame%20til%20felles%20datalager.ipynb)\n",
    "\n",
    "\n",
    "* [(POC) Dokumentasjon av datasett](Dokumentasjon%20av%20datasett.ipynb)"
   ]
  },
  {
   "cell_type": "code",
   "execution_count": null,
   "metadata": {},
   "outputs": [],
   "source": []
  }
 ],
 "metadata": {
  "kernelspec": {
   "display_name": "Pyspark (local)",
   "language": "python",
   "name": "pyspark_local"
  },
  "language_info": {
   "codemirror_mode": {
    "name": "ipython",
    "version": 3
   },
   "file_extension": ".py",
   "mimetype": "text/x-python",
   "name": "python",
   "nbconvert_exporter": "python",
   "pygments_lexer": "ipython3",
   "version": "3.8.5"
  }
 },
 "nbformat": 4,
 "nbformat_minor": 4
}
