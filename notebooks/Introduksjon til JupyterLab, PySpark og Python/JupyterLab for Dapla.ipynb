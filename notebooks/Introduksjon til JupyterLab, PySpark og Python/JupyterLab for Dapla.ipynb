{
 "cells": [
  {
   "cell_type": "markdown",
   "metadata": {},
   "source": [
    "<center><img src=\"../../img/jupyterlab_dapla.png\" width=500></center>"
   ]
  },
  {
   "cell_type": "markdown",
   "metadata": {},
   "source": [
    "Dataplattformen i SSB ([Dapla](https://github.com/statisticsnorway/dapla-project)) tilbyr [JupyterLab](https://jupyterlab.readthedocs.io/en/stable/) som verktøy for å designe, bygge og produsere statistikk."
   ]
  },
  {
   "cell_type": "markdown",
   "metadata": {},
   "source": [
    "Innhold:\n",
    "- [Velge kjerne](Velge%20kjerne.ipynb)\n",
    "- [Slå av kjerner](Sl%C3%A5%20av%20kjerner.ipynb)"
   ]
  },
  {
   "cell_type": "code",
   "execution_count": null,
   "metadata": {},
   "outputs": [],
   "source": []
  }
 ],
 "metadata": {
  "kernelspec": {
   "display_name": "Pyspark (local)",
   "language": "python",
   "name": "pyspark_local"
  },
  "language_info": {
   "codemirror_mode": {
    "name": "ipython",
    "version": 3
   },
   "file_extension": ".py",
   "mimetype": "text/x-python",
   "name": "python",
   "nbconvert_exporter": "python",
   "pygments_lexer": "ipython3",
   "version": "3.7.6"
  }
 },
 "nbformat": 4,
 "nbformat_minor": 4
}
