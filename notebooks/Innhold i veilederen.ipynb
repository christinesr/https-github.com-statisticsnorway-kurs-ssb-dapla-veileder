{
 "cells": [
  {
   "cell_type": "markdown",
   "metadata": {},
   "source": [
    "### Innhold i veilederen\n",
    "\n",
    "##### [Introduksjon til Dapla, JupyterLab og GitHub](Introduksjon%20til%20Dapla,%20JupyterLab%20og%20GitHub/Introduksjon%20til%20Dapla,%20JupyterLab%20og%20GitHub.ipynb)\n",
    "Introduksjoner til verktøy og språk for å bygge og produsere klargjørings- og analysedelen av statistikkløpet.\n",
    "##### [Finne, se og lagre data på Dapla](Finne,%20se%20og%20lagre%20data%20p%C3%A5%20Dapla/Finne,%20se%20og%20lagre%20data%20p%C3%A5%20Dapla.ipynb)\n",
    "Dapla tilbyr funksjonalitet både for søk og utforsking for å finne data på plattformen. Her er det også introduksjon i hvordan se og operere på dataene via [Pandas DataFrame](Finne,%20se%20og%20lagre%20data%20p%C3%A5%20Dapla/Intro%20til%20Pandas%20DataFrame.ipynb), [PySpark DataFrame](Finne,%20se%20og%20lagre%20data%20p%C3%A5%20Dapla/Intro%20til%20Pyspark.sql.Dataframe.ipynb) og [SparkR DataFrame](Finne,%20se%20og%20lagre%20data%20p%C3%A5%20Dapla/Lese%20inn%20og%20skrive%20dataframes%20i%20R.ipynb). Finnes det en parallell til PROC CONTENTS i SAS?\n",
    "##### [Funksjoner i klargjøring](Funksjoner%20i%20klargjøring/Funksjoner%20i%20klargjøring.ipynb)\n",
    "Eksempler på funksjoner for å etablere klargjøringsgrunnlag ved bruk av Pyspark; hvordan koble datasett, håndtere dubletter, gjøre en logisk imputering, pivotere, sette sammen datasett og noen enkle beregninger.\n",
    "##### [Fellesfunksjoner (SSB Spark tools)](Fellesfunksjoner%20(SSB%20Spark%20tools)/Fellesfunksjoner%20(SSB%20Spark%20tools).ipynb)\n",
    "I biblioteket SSB-Spark_tools finnes det PySpark-funksjoner som er laget til bruk i statistikkproduksjonen på SSB. Her vises det hvordan man kan se hvilke funksjoner som ligger i SSB_Spark_tools og et eksempel på hvordan disse funksjonene kan brukes. \n",
    "##### [Metadata og kodelister](Metadata%20og%20kodelister/Metadata%20og%20kodelister.ipynb)\n",
    "Metadata og kodelister er viktig for statistikkproduksjonen. Her får du eksempler på hvordan du kan laste inn og sjekke kodelister fra KLASS\n",
    "##### [Statistikkproduksjon](Statistikkproduksjon/mod_statistikkproduksjon.ipynb)\n",
    "Hjelp til organisering av statistikkproduksjonen i prosessene Samle inn, Etablere klargjøringsgrunnlag, Klargjøringsanalyse, Etablere analysegrunnlag og Statistikkanalyse (som følger av SSBs prosessbeskrivelser for modernisering av klargjøring og analyse).\n",
    "##### [Oppgaver og løsningsforslag](Oppgaver%20og%20løsningsforslag/Oppgaver%20og%20løsningsforslag.ipynb)\n",
    "Det er lettere å lære når du prøve selv!\n"
   ]
  },
  {
   "cell_type": "code",
   "execution_count": null,
   "metadata": {},
   "outputs": [],
   "source": []
  }
 ],
 "metadata": {
  "kernelspec": {
   "display_name": "Pyspark (local)",
   "language": "python",
   "name": "pyspark_local"
  },
  "language_info": {
   "codemirror_mode": {
    "name": "ipython",
    "version": 3
   },
   "file_extension": ".py",
   "mimetype": "text/x-python",
   "name": "python",
   "nbconvert_exporter": "python",
   "pygments_lexer": "ipython3",
   "version": "3.8.5"
  }
 },
 "nbformat": 4,
 "nbformat_minor": 4
}
