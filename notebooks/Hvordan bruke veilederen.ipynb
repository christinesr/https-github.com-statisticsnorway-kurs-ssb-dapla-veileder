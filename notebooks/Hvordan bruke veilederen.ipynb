{
 "cells": [
  {
   "cell_type": "markdown",
   "metadata": {},
   "source": [
    "SSB utvikler løsninger for modernisert statistikkproduksjon. Denne veilederen har til hensikt å hjelpe nye og erfarene brukere i å bruke dataplattformen Dapla for å <a href=\"https://wiki.ssb.no/pages/viewpage.action?pageId=115278064\" target=\"planlegge \">planlegge</a>, <a href=\"https://wiki.ssb.no/pages/viewpage.action?pageId=115281281\" target=\"bygge\">bygge</a> og <a href=\"https://wiki.ssb.no/pages/viewpage.action?pageId=117149061\" target=\"Fase 5&6: Klargjøre og analysere\">produsere</a> statistikk. Den er skrevet i kjørende kode. \n",
    "\n",
    "Veledningsteksten er skrevet i <a href=\"https://daringfireball.net/projects/markdown/\" target=\"Markdown Project Page\">Markdown</a>, mens eksemplene er skrevet i <a href=\"https://spark.apache.org/docs/latest/api/python/index.html\" target=\"Spark Python API Docs\">Pyspark</a>, <a href=\"https://www.python.org/\" target=\"python.org\">Python</a> og <a href=\"https://www.r-project.org/\" target =\"r-project.org\">R</a>.\n",
    "\n",
    "Utviklingen av veilederen er behovsstyrt og må forholde seg til et produksjonssystem i utvikling.\n",
    "\n",
    "### Forklare bruk av veilederen\n",
    "\n",
    "#### navigering\n",
    "- [Hvordan navigere i JupyterLab](Introduksjon%20til%20Dapla,%20JupyterLab%20og%20GitHub/Navigering.ipynb)\n",
    "\n",
    "#### kjøring\n",
    "\n",
    "#### endringer\n",
    "\n",
    "### Tilgang til data\n",
    "\n",
    "### ...\n"
   ]
  },
  {
   "cell_type": "code",
   "execution_count": null,
   "metadata": {},
   "outputs": [],
   "source": []
  }
 ],
 "metadata": {
  "kernelspec": {
   "display_name": "Pyspark (local)",
   "language": "python",
   "name": "pyspark_local"
  },
  "language_info": {
   "codemirror_mode": {
    "name": "ipython",
    "version": 3
   },
   "file_extension": ".py",
   "mimetype": "text/x-python",
   "name": "python",
   "nbconvert_exporter": "python",
   "pygments_lexer": "ipython3",
   "version": "3.8.5"
  }
 },
 "nbformat": 4,
 "nbformat_minor": 4
}
