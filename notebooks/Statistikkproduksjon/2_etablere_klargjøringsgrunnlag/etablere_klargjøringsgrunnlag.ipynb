{
 "cells": [
  {
   "cell_type": "markdown",
   "metadata": {},
   "source": [
    "## Etablere klargjøringsgrunnlag\n",
    "Denne prosessen innebærer at man legger til rette data, inkl. inndata, referansedata og klassifikasjoner, for å gjøre en klargjøringsanalyse. Dette er en *automatisk* prosess, og resultatet av disse kjøringene skal vurderes i klargjøringsanalysen. Prosessteget omfatter kjøring av kontroller og tabeller for kontrollformål. \n",
    "\n",
    "Det kan også være behov for omforming av datastrukturen slik at det er mulig å utføre statistiskemetoder og funksjoner. \n",
    "\n",
    "Inkluderer følgende prosessteg:\n",
    "- Hente startdata\n",
    "- Logiske kontroller\n",
    "- Fordelingskontroller\n",
    "- Innflytelseskontroller\n",
    "- Enhetskontroller, f.eks. dublettkontroll\n",
    "- Lage klargjøringstabeller for kontrollformål\n",
    "- Etablere og lagre klargjøringsgrunnlag\n",
    "\n",
    "Kan inkludere følgende prosessteg:\n",
    "- Strukturere - omforme datastruktur og variabler\n",
    "- Autokorrigere - automatisk korrigere verdier\n",
    "- Integrere - horisontal og vertikal integrasjon av datakilder\n",
    "- Klassifisere - klassifisere og kode data\n",
    "- Avlede - avlede nye variabler og enheter\n",
    "- Lage vekter\n",
    "- Imputere enheter\n",
    "- Beregne"
   ]
  },
  {
   "cell_type": "markdown",
   "metadata": {},
   "source": [
    "### Hente startdata\n",
    "Fellesbegrepet for all data som går inn i en klargjøringsprosess har vi valgt å kalle **startdata**. Startdata ikke er en datatilstand i seg selv, men består av data med ulike datatilstander. Det kan være **inndata**, **klargjorte data** eller **statistikkdata**."
   ]
  },
  {
   "cell_type": "code",
   "execution_count": null,
   "metadata": {},
   "outputs": [],
   "source": []
  }
 ],
 "metadata": {
  "kernelspec": {
   "display_name": "Python 3",
   "language": "python",
   "name": "python3"
  },
  "language_info": {
   "codemirror_mode": {
    "name": "ipython",
    "version": 3
   },
   "file_extension": ".py",
   "mimetype": "text/x-python",
   "name": "python",
   "nbconvert_exporter": "python",
   "pygments_lexer": "ipython3",
   "version": "3.8.5"
  }
 },
 "nbformat": 4,
 "nbformat_minor": 4
}
