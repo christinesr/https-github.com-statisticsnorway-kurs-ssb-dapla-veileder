{
 "cells": [
  {
   "cell_type": "markdown",
   "metadata": {},
   "source": [
    "## Klargjøre og analysere statistikk i Dapla\n",
    "SSB har laget prosessbeskrivelser for modernisering av klargjøring og analyse.\n",
    "\n",
    "Figuren under viser de overordnede prosessene for klargjøring og analyse. Det er disse prosessene som produserer hovedtilstandene **klargjorte data**, **statistikkdata** og **utdata**. I grove trekk dreier det seg først om å etablere datagrunnlag, deretter analyseres dette og til slutt etableres hovedtilstander.\n",
    "\n",
    "<center><img src=\"img/prosessKA.png\" width=1000></center>\n",
    "\n",
    "Etablering av datagrunnlagene (**klargjøringsgrunnlag** og **analysegrunnlag**) er automatiserte prosessteg. Automatiserte IT-tjenester for strukturering, kontroll, beregning, korrigering og presentasjon er spesifisert og etablert på forhånd, i henholdsvis fase 2 Design og 3 Bygge. \n",
    "\n",
    "I prosessteget **klargjøringsanalyse** vurderes og eventuelt korrigeres kvaliteten på datagrunnlaget, mens i **statistikkanalyse** tolkes data om populasjonen for å forklare fenomener. Disse analyseprosessene krever høy grad av menneskelig interaksjon. Tabeller, lister og figurer av data blir vist til statistikkprodusenten som skal analysere dataene. \n",
    "\n",
    "I klargjøring kan drilling i figurer og tabeller være effektive metoder for å avdekke mangler og feil. Feil kan manuelt korrigeres, eller det kan designes og bygges automatiserte korrigeringer. I det siste tilfellet må klargjøringsgrunnlaget etableres på nytt. \n",
    "\n",
    "I etableringene av hovedtilstander velges de dataene som skal brukes videre i prosessen og som skal deles med andre. Dette er automatisert."
   ]
  },
  {
   "cell_type": "markdown",
   "metadata": {},
   "source": [
    "Prosesstegene:\n",
    "* [Samle inn](1_samle_inn/samle_inn.ipynb)\n",
    "* [Etablere klagjøringsgrunnlag](2_etablere_klargjøringsgrunnlag/etablere_klargjøringsgrunnlag.ipynb)\n",
    "* [Klargjøringsanalyse](3_klargjøringsanalyse/klargjøringsanalyse.ipynb)\n",
    "* [Etablere analysegrunnlag](4_etablere_analysegrunnlag/etablere_analysegrunnlag.ipynb)\n",
    "* [Statistikkanalyse](5_statistikkanalyse/statistikkanalyse.ipynb)"
   ]
  },
  {
   "cell_type": "code",
   "execution_count": null,
   "metadata": {},
   "outputs": [],
   "source": []
  }
 ],
 "metadata": {
  "kernelspec": {
   "display_name": "Python 3 (ipykernel)",
   "language": "python",
   "name": "python3"
  },
  "language_info": {
   "codemirror_mode": {
    "name": "ipython",
    "version": 3
   },
   "file_extension": ".py",
   "mimetype": "text/x-python",
   "name": "python",
   "nbconvert_exporter": "python",
   "pygments_lexer": "ipython3",
   "version": "3.9.10"
  }
 },
 "nbformat": 4,
 "nbformat_minor": 4
}
