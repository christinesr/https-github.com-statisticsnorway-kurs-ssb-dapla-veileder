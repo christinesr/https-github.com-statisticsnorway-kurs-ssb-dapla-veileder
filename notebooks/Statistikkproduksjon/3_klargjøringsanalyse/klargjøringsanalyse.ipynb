{
 "cells": [
  {
   "cell_type": "markdown",
   "metadata": {},
   "source": [
    "## Klargjøringsanalyse\n",
    "Klargjøringsanalysen dekker prosesstegene **Vurdere**, **Inspisere** og **Korrigere**. Vurdering er et prosessteg hvor datakvaliteten vurderes opp mot de kvalitetsmål som er satt for statistikken. I analysen som ligger til grunn for vurderingen vektlegges et makroperspektiv. Eksempelvis kan totaler og aggregater velges og vises som en tabell eller som en grafisk fremstilling, etter hva bruker har behov for. Hvis datakvaliteten ikke tilfredsstiller kravene som er satt, vil statistikkprodusenten inspisere og korrigere dataene. \n",
    "\n",
    "Inspisere er prosessteget der årsaken til manglende kvalitet blir forsøkt avdekket, mens korrigering er prosessteget der klargjøringsgrunnlaget endres. \n",
    "\n",
    "Inkluderer følgende prosessteg:\n",
    "- **Hente data fra klargjøringsgrunnlaget**\n",
    "- **Vurdere** - analysere klargjøringsgrunnlaget for å vurdere om datakvaliteten møter de krav som er satt\n",
    "    - Vurdere klargjøringstabeller\n",
    "    - Vurdere kontroller som har slått ut\n",
    "    - Vurdere prosessmåling og prosesslogg\n",
    "- **Inspisere** - avdekke årsak til utilstrekkelig kvalitet\n",
    "    - Drille i tabeller og grafer\n",
    "    - Sjekke data mot referansedata (andre datakilder, registre og internett)  for å finne forklaring eller mulig ny verdi\n",
    "- **Korrigere** - korrigere klargjøringsgrunnlaget for å øke kvaliteten\n",
    "    - Korrigere manuelt - korrigering direkte i datasettet\n",
    "    - Gå tilbake til design- og byggefasen for å etablere en automatisk korrigering\n",
    "- **Etablere og lagre klargjorte data**"
   ]
  },
  {
   "cell_type": "markdown",
   "metadata": {},
   "source": [
    "### Hente klargjøringsgrunnlag"
   ]
  },
  {
   "cell_type": "code",
   "execution_count": null,
   "metadata": {},
   "outputs": [],
   "source": []
  }
 ],
 "metadata": {
  "kernelspec": {
   "display_name": "Python 3",
   "language": "python",
   "name": "python3"
  },
  "language_info": {
   "codemirror_mode": {
    "name": "ipython",
    "version": 3
   },
   "file_extension": ".py",
   "mimetype": "text/x-python",
   "name": "python",
   "nbconvert_exporter": "python",
   "pygments_lexer": "ipython3",
   "version": "3.8.5"
  }
 },
 "nbformat": 4,
 "nbformat_minor": 4
}
