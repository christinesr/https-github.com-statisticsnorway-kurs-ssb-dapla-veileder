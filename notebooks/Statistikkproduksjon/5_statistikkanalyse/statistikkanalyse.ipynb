{
 "cells": [
  {
   "cell_type": "markdown",
   "metadata": {},
   "source": [
    "## Statistikkanalyse\n",
    "Prosessteget innebærer analyse av data med fokus på hva som skal formidles om statistikken. **Tolke og forstå** viser analysegrunnlaget i form av tabeller og grafer, for at statistikkprodusenten skal kunne etablere en god forståelse av hva dataene kan si og ikke si. **Teste hypoteser**  er en mulighet til å mer fritt kunne analysere analysegrunnlaget for å teste ut mulige teorier.  \n",
    "\n",
    "Inkluderer følgende prosessteg:\n",
    "- Hente analysegrunnlag\n",
    "- Tolke og forstå - vurdere analysegrunnlaget\n",
    "- Teste hypoteser - fri bruk av analyseverktøy for å teste og forstå data. Fri lek med data, grafikk og metoder for å forstå statistikk, underliggende sammenhenger og samfunnsutvikling.\n",
    "- Lagre statistikkdata\n",
    "- Lagre utdata"
   ]
  },
  {
   "cell_type": "markdown",
   "metadata": {},
   "source": [
    "### Hente analysegrunnlaget"
   ]
  },
  {
   "cell_type": "code",
   "execution_count": null,
   "metadata": {},
   "outputs": [],
   "source": []
  }
 ],
 "metadata": {
  "kernelspec": {
   "display_name": "Python 3",
   "language": "python",
   "name": "python3"
  },
  "language_info": {
   "codemirror_mode": {
    "name": "ipython",
    "version": 3
   },
   "file_extension": ".py",
   "mimetype": "text/x-python",
   "name": "python",
   "nbconvert_exporter": "python",
   "pygments_lexer": "ipython3",
   "version": "3.8.5"
  }
 },
 "nbformat": 4,
 "nbformat_minor": 4
}
