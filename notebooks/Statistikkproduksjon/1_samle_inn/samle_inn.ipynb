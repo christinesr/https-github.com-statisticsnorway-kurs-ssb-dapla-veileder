{
 "cells": [
  {
   "cell_type": "markdown",
   "metadata": {},
   "source": [
    "## Samle inn\n",
    "I fasen samle inn samles data fra eksterne og eller interne datakilder for den aktuelle statistikkproduksjonen.\n",
    "\n",
    "I Dapla er det applikasjonene [Data Collector](https://github.com/statisticsnorway/data-collector-project) og [Rawdata Converter](https://github.com/statisticsnorway/rawdata-converter-project) som settes opp og konfigureres for å samle inn data. Resultatet av Rawdata Converter er pseudonymiserte data tilgjengelig for videre bearbeiding i f.eks. JupyterLab."
   ]
  },
  {
   "cell_type": "markdown",
   "metadata": {},
   "source": [
    "### Uttrekk av innsamlede data\n",
    "Ved behov gjøres det her et uttrukk av dataene som er samlet inn. F.eks. hvis innsamlingen skjer kontinuerlig, kan det være behov for å gjøre et tverrsnitt av dataene og lagre disse ned før klargjøring og analyse."
   ]
  },
  {
   "cell_type": "code",
   "execution_count": null,
   "metadata": {},
   "outputs": [],
   "source": []
  }
 ],
 "metadata": {
  "kernelspec": {
   "display_name": "Python 3",
   "language": "python",
   "name": "python3"
  },
  "language_info": {
   "codemirror_mode": {
    "name": "ipython",
    "version": 3
   },
   "file_extension": ".py",
   "mimetype": "text/x-python",
   "name": "python",
   "nbconvert_exporter": "python",
   "pygments_lexer": "ipython3",
   "version": "3.8.5"
  }
 },
 "nbformat": 4,
 "nbformat_minor": 4
}
