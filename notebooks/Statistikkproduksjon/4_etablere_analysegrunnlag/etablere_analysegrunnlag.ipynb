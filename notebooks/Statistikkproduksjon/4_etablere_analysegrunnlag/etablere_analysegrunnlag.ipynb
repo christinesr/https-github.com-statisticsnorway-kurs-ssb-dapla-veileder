{
 "cells": [
  {
   "cell_type": "markdown",
   "metadata": {},
   "source": [
    "## Etablere analysegrunnlag \n",
    "Tilrettelegge data for å gjøre en analyse med formidlingsfokus. Dette er et *automatisert* prosessteg. Tilretteleggingen av data omfatter beregning av aggregater og å lage tabeller for analyseformål. Prosessteget kan også inkludere strukturering, integrering av data, avlede nye variabler, lage indikatorer, utføre indeksberegninger og sesongjustere.\n",
    "\n",
    "Inkluderer følgende prosessteg:\n",
    "- Hente klargjorte data\n",
    "- Beregne aggregater\n",
    "- Lage analysetabeller - produsere tabeller for analyseformål\n",
    "- Lagre analysegrunnlaget\n",
    "\n",
    "Kan inkludere følgende prosessteg:\n",
    "- Strukture\n",
    "- Integrere\n",
    "- Avlede\n",
    "- Lage indikatorer  \n",
    "- Lage indekser\n",
    "- Sesongjustere\n",
    "- Gjøre beregninger\n",
    "- Kontrollere"
   ]
  },
  {
   "cell_type": "markdown",
   "metadata": {},
   "source": [
    "### Hente klargjorte data"
   ]
  },
  {
   "cell_type": "code",
   "execution_count": null,
   "metadata": {},
   "outputs": [],
   "source": []
  }
 ],
 "metadata": {
  "kernelspec": {
   "display_name": "Python 3",
   "language": "python",
   "name": "python3"
  },
  "language_info": {
   "codemirror_mode": {
    "name": "ipython",
    "version": 3
   },
   "file_extension": ".py",
   "mimetype": "text/x-python",
   "name": "python",
   "nbconvert_exporter": "python",
   "pygments_lexer": "ipython3",
   "version": "3.8.5"
  }
 },
 "nbformat": 4,
 "nbformat_minor": 4
}
