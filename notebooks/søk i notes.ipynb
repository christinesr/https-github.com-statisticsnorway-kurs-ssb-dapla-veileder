{
 "cells": [
  {
   "cell_type": "code",
   "execution_count": null,
   "metadata": {},
   "outputs": [],
   "source": [
    "import os\n",
    "from IPython.core.display import display, HTML\n",
    "\n",
    "%run search.py\n",
    "\n",
    "keyword = \"\"\n",
    "\n",
    "while (keyword!=\"done\"):\n",
    "    # ask the user for keyword\n",
    "    keyword = input(\"Søk i veilederen: \")  \n",
    "    if keyword==\"done\":\n",
    "        break\n",
    "    # path to the root directory to search\n",
    "    root_dir = \".\"\n",
    "    ignore = \"-checkpoint.ipynb\"\n",
    "    \n",
    "    result = search_text_in_notes(keyword,root_dir,ignore)\n",
    "    for file in result:\n",
    "        display(file)"
   ]
  },
  {
   "cell_type": "code",
   "execution_count": null,
   "metadata": {},
   "outputs": [],
   "source": []
  },
  {
   "cell_type": "code",
   "execution_count": null,
   "metadata": {},
   "outputs": [],
   "source": []
  }
 ],
 "metadata": {
  "kernelspec": {
   "display_name": "Python 3",
   "language": "python",
   "name": "python3"
  },
  "language_info": {
   "codemirror_mode": {
    "name": "ipython",
    "version": 3
   },
   "file_extension": ".py",
   "mimetype": "text/x-python",
   "name": "python",
   "nbconvert_exporter": "python",
   "pygments_lexer": "ipython3",
   "version": "3.8.6"
  }
 },
 "nbformat": 4,
 "nbformat_minor": 4
}
