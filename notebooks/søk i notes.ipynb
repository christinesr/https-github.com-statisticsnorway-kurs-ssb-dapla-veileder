{
 "cells": [
  {
   "cell_type": "code",
   "execution_count": null,
   "metadata": {
    "jupyter": {
     "source_hidden": true
    }
   },
   "outputs": [],
   "source": [
    "import os\n",
    "from IPython.core.display import display\n",
    "from IPython.display import clear_output\n",
    "from ipywidgets import interact, widgets\n",
    "\n",
    "%run search.py"
   ]
  },
  {
   "cell_type": "code",
   "execution_count": null,
   "metadata": {
    "jupyter": {
     "source_hidden": true
    }
   },
   "outputs": [],
   "source": [
    "root_dir = \".\"\n",
    "ignore = \"-checkpoint.ipynb\"\n",
    "\n",
    "input_field = widgets.Text(\n",
    "    value='',\n",
    "    description='Søk i veilder:',\n",
    "    disabled=False\n",
    ")\n",
    "result_field = widgets.Output(layout={'border': '1px solid black'})\n",
    "display(input_field, result_field)\n",
    "\n",
    "def handle_submit(sender):\n",
    "    with result_field:\n",
    "        result_field.clear_output()\n",
    "        result = search_text_in_notes(sender.value,root_dir,ignore)\n",
    "        if not result:\n",
    "            display(f\"Vi finner dessverre ingen resultater når du søker etter {sender.value}\")\n",
    "        else:\n",
    "            for file in result:\n",
    "                display(file)\n",
    "\n",
    "input_field.on_submit(handle_submit)"
   ]
  }
 ],
 "metadata": {
  "kernelspec": {
   "display_name": "Python 3",
   "language": "python",
   "name": "python3"
  },
  "language_info": {
   "codemirror_mode": {
    "name": "ipython",
    "version": 3
   },
   "file_extension": ".py",
   "mimetype": "text/x-python",
   "name": "python",
   "nbconvert_exporter": "python",
   "pygments_lexer": "ipython3",
   "version": "3.8.6"
  }
 },
 "nbformat": 4,
 "nbformat_minor": 4
}
