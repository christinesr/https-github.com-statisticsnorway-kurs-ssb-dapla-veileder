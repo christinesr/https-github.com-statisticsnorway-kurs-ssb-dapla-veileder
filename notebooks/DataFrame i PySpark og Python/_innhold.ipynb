{
 "cells": [
  {
   "cell_type": "markdown",
   "metadata": {},
   "source": [
    "#### DataFrame\n",
    "I både PySpark og Python kan datasett håndteres via et <code>DataFrame</code> <b>objekt</b>.\n",
    "\n",
    "Se og lære:\n",
    "* [Intro til Pyspark.sql.Dataframe](Intro%20til%20Pyspark.sql.Dataframe.ipynb)"
   ]
  },
  {
   "cell_type": "code",
   "execution_count": null,
   "metadata": {},
   "outputs": [],
   "source": []
  }
 ],
 "metadata": {
  "kernelspec": {
   "display_name": "Pyspark (local)",
   "language": "python",
   "name": "pyspark_local"
  },
  "language_info": {
   "codemirror_mode": {
    "name": "ipython",
    "version": 3
   },
   "file_extension": ".py",
   "mimetype": "text/x-python",
   "name": "python",
   "nbconvert_exporter": "python",
   "pygments_lexer": "ipython3",
   "version": "3.8.5"
  }
 },
 "nbformat": 4,
 "nbformat_minor": 4
}
