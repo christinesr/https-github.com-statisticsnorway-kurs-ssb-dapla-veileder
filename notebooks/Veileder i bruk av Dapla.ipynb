{
 "cells": [
  {
   "cell_type": "markdown",
   "metadata": {},
   "source": [
    "## Innledning\n",
    "SSB utvikler løsninger for modernisert statistikkproduksjon. Denne veilederen har til hensikt å hjelpe nye og erfarene brukere i å bruke dataplattformen Dapla for å <a href=\"https://wiki.ssb.no/pages/viewpage.action?pageId=115278064\" target=\"planlegge \">planlegge</a>, <a href=\"https://wiki.ssb.no/pages/viewpage.action?pageId=115281281\" target=\"bygge\">bygge</a> og <a href=\"https://wiki.ssb.no/pages/viewpage.action?pageId=117149061\" target=\"Fase 5&6: Klargjøre og analysere\">produsere</a> statistikk. Den er skrevet i kjørende kode. \n",
    "\n",
    "Veledningsteksten er skrevet i <a href=\"https://daringfireball.net/projects/markdown/\" target=\"Markdown Project Page\">Markdown</a>, mens eksemplene er skrevet i <a href=\"https://spark.apache.org/docs/latest/api/python/index.html\" target=\"Spark Python API Docs\">Pyspark</a>. Jupiter støtter også andre språk. Pyspark <i>snakker med</i> og anvender <a href=\"http://spark.apache.org/sql/\" target=\"Spark SQL & Dataframes | Apache\">Sparks SQL</a>. \n",
    "\n",
    "Sparks SQL er en modul i Spark som håndterer strukturerte data. Og når vi først er inne på det, så er Spark omgivelsen, eller infrastrukturen, som anvendes i Byråets dataplattform for å prosesserer store datamengder.\n",
    "\n",
    "Utviklingen av veilederen er behovsstyrt og må forholde seg til et produksjonssystem i utvikling."
   ]
  },
  {
   "cell_type": "markdown",
   "metadata": {},
   "source": [
    "### Innhold i veilederen\n",
    "\n",
    "##### [Introduksjon til JupyterLap, PySpark og Python](Introduksjon%20til%20JupyterLab,%20PySpark%20og%20Python/JupyterLab%20for%20Dapla.ipynb)\n",
    "Introduksjoner til verktøy og språk for å bygge og produsere klargjørings- og analysedelen av statistikkløpet.\n",
    "##### [DataFrame i PySpark og Python](DataFrame%20i%20PySpark%20og%20Python/)"
   ]
  },
  {
   "cell_type": "markdown",
   "metadata": {},
   "source": []
  },
  {
   "cell_type": "markdown",
   "metadata": {},
   "source": []
  },
  {
   "cell_type": "markdown",
   "metadata": {},
   "source": []
  },
  {
   "cell_type": "code",
   "execution_count": null,
   "metadata": {},
   "outputs": [],
   "source": []
  }
 ],
 "metadata": {
  "kernelspec": {
   "display_name": "Pyspark (local)",
   "language": "python",
   "name": "pyspark_local"
  },
  "language_info": {
   "codemirror_mode": {
    "name": "ipython",
    "version": 3
   },
   "file_extension": ".py",
   "mimetype": "text/x-python",
   "name": "python",
   "nbconvert_exporter": "python",
   "pygments_lexer": "ipython3",
   "version": "3.8.5"
  }
 },
 "nbformat": 4,
 "nbformat_minor": 4
}
