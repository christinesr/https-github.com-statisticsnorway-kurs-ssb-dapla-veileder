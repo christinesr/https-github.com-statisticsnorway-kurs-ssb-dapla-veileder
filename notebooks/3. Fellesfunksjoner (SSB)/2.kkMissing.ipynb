{
 "cells": [
  {
   "cell_type": "markdown",
   "metadata": {},
   "source": [
    "<h3>Håndtere manglende verdier (kkMissing)</h3>\n",
    "<font size=2>Brukes slik: <code>dataframe|dictionary = kkMissing([dataframe|dictionary som skal sjekkes], [dataframe|dictionary med navn på variabler som ikke skal korrigeres])</code>\n",
    "\n",
    "Inn i denne funksjonen kan du sende et datasett eller en dictionary med flere datasett. I tillegg kan du fortelle hvilke variable i datasettet/datsettene som ikke skal korrigeres, ved å sende disse inn som en liste/en dictionary når du kaller på funksjonen.\n",
    "\n",
    "Numeriske variable med missing blir her satt til verdien <code>0</code>, mens boolske variable blir satt til <code>«false»</code>.\n",
    "\n",
    "Ut av funksjonen får vi både korrigert(e) datasett og kvalitetsdatasett.\n",
    "\n",
    "Korrigert(e) datasett er likt med opprinnelig(e) datasett, men med korrigerte verdier for de variablene vi har ønsket å korrigere for.\n",
    "\n",
    "Kvalitetsdatasett gir følgende informasjon for hver variabel på datasettet/hvert datasett i dictionaryen:\n",
    "<ul>\n",
    "<li> Antall missing (før korrigering)\n",
    "<li> Andel missing (før korrigering)\n",
    "<li> Antall korrigert\n",
    "<li> Ny andel missing (etter korrigering)\n",
    "</ul>\n",
    "</font>"
   ]
  },
  {
   "cell_type": "markdown",
   "metadata": {},
   "source": [
    " #### Importer fellesfunksjonen fra SSB_Spark_tools"
   ]
  },
  {
   "cell_type": "code",
   "execution_count": null,
   "metadata": {},
   "outputs": [],
   "source": []
  }
 ],
 "metadata": {
  "kernelspec": {
   "display_name": "Pyspark (local)",
   "language": "python",
   "name": "pyspark_local"
  },
  "language_info": {
   "codemirror_mode": {
    "name": "ipython",
    "version": 3
   },
   "file_extension": ".py",
   "mimetype": "text/x-python",
   "name": "python",
   "nbconvert_exporter": "python",
   "pygments_lexer": "ipython3",
   "version": "3.7.6"
  }
 },
 "nbformat": 4,
 "nbformat_minor": 4
}
