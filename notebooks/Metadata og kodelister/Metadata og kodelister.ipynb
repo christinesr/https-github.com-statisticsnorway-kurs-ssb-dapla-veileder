{
 "cells": [
  {
   "cell_type": "markdown",
   "metadata": {},
   "source": [
    "## Metadata og kodelister"
   ]
  },
  {
   "cell_type": "markdown",
   "metadata": {},
   "source": [
    "[KLASS og kodelister](klassogkodelister.ipynb)\n",
    "Eksempler på å lese inn KLASS-tabeller, gjøre KLASS-tabeller om til dataframe, sjekke koder og slå opp koder."
   ]
  }
 ],
 "metadata": {
  "kernelspec": {
   "display_name": "Pyspark (local)",
   "language": "python",
   "name": "pyspark_local"
  },
  "language_info": {
   "codemirror_mode": {
    "name": "ipython",
    "version": 3
   },
   "file_extension": ".py",
   "mimetype": "text/x-python",
   "name": "python",
   "nbconvert_exporter": "python",
   "pygments_lexer": "ipython3",
   "version": "3.8.5"
  }
 },
 "nbformat": 4,
 "nbformat_minor": 4
}
