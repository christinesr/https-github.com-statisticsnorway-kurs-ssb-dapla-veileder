{
 "cells": [
  {
   "cell_type": "markdown",
   "metadata": {},
   "source": [
    "### Lese inn og skrive dataframes i R"
   ]
  },
  {
   "cell_type": "markdown",
   "metadata": {},
   "source": [
    "#### Dapla har laget 2 funksjoner for dette formålet:\n",
    "\n",
    "* spark.read.path\n",
    "* spark.write.path\n",
    "\n",
    "Funksjonene håndterer automatisk kommunikasjonen mot tjenestene i Dapla. Disse må kjøres i __SparkR__ kernel."
   ]
  },
  {
   "cell_type": "markdown",
   "metadata": {},
   "source": [
    "#### Eksempel: Skrive en dataframe til fellesområdet:"
   ]
  },
  {
   "cell_type": "markdown",
   "metadata": {},
   "source": [
    "##### Oppretter en R dataframe"
   ]
  },
  {
   "cell_type": "code",
   "execution_count": 26,
   "metadata": {},
   "outputs": [],
   "source": [
    "employee <- c('John Doe','Peter Gynn','Jolie Hope')\n",
    "salary <- c(21000, 23400, 26800)\n",
    "startdate <- as.Date(c('2010-11-1','2008-3-25','2007-3-14'))\n",
    "employ.data <- data.frame(employee, salary, startdate)"
   ]
  },
  {
   "cell_type": "markdown",
   "metadata": {},
   "source": [
    "##### Skriver R dataframe til fellesområdet:"
   ]
  },
  {
   "cell_type": "code",
   "execution_count": 27,
   "metadata": {},
   "outputs": [],
   "source": [
    "# Create the SparkDataFrame\n",
    "spark_df <- as.DataFrame(employ.data)\n",
    "\n",
    "spark.write.path(spark_df, \"/felles/veiledning/r/eksempler/ansatte\", valuation = \"INTERNAL\", state = \"INPUT\")"
   ]
  },
  {
   "cell_type": "markdown",
   "metadata": {},
   "source": [
    "##### Lese ut data igjen fra fellesområdet:"
   ]
  },
  {
   "cell_type": "code",
   "execution_count": 30,
   "metadata": {},
   "outputs": [
    {
     "data": {
      "text/html": [
       "<table>\n",
       "<caption>A data.frame: 3 × 3</caption>\n",
       "<thead>\n",
       "\t<tr><th></th><th scope=col>employee</th><th scope=col>salary</th><th scope=col>startdate</th></tr>\n",
       "\t<tr><th></th><th scope=col>&lt;chr&gt;</th><th scope=col>&lt;dbl&gt;</th><th scope=col>&lt;date&gt;</th></tr>\n",
       "</thead>\n",
       "<tbody>\n",
       "\t<tr><th scope=row>1</th><td>John Doe  </td><td>21000</td><td>2010-11-01</td></tr>\n",
       "\t<tr><th scope=row>2</th><td>Peter Gynn</td><td>23400</td><td>2008-03-25</td></tr>\n",
       "\t<tr><th scope=row>3</th><td>Jolie Hope</td><td>26800</td><td>2007-03-14</td></tr>\n",
       "</tbody>\n",
       "</table>\n"
      ],
      "text/latex": [
       "A data.frame: 3 × 3\n",
       "\\begin{tabular}{r|lll}\n",
       "  & employee & salary & startdate\\\\\n",
       "  & <chr> & <dbl> & <date>\\\\\n",
       "\\hline\n",
       "\t1 & John Doe   & 21000 & 2010-11-01\\\\\n",
       "\t2 & Peter Gynn & 23400 & 2008-03-25\\\\\n",
       "\t3 & Jolie Hope & 26800 & 2007-03-14\\\\\n",
       "\\end{tabular}\n"
      ],
      "text/markdown": [
       "\n",
       "A data.frame: 3 × 3\n",
       "\n",
       "| <!--/--> | employee &lt;chr&gt; | salary &lt;dbl&gt; | startdate &lt;date&gt; |\n",
       "|---|---|---|---|\n",
       "| 1 | John Doe   | 21000 | 2010-11-01 |\n",
       "| 2 | Peter Gynn | 23400 | 2008-03-25 |\n",
       "| 3 | Jolie Hope | 26800 | 2007-03-14 |\n",
       "\n"
      ],
      "text/plain": [
       "  employee   salary startdate \n",
       "1 John Doe   21000  2010-11-01\n",
       "2 Peter Gynn 23400  2008-03-25\n",
       "3 Jolie Hope 26800  2007-03-14"
      ]
     },
     "metadata": {},
     "output_type": "display_data"
    }
   ],
   "source": [
    "df <- spark.read.path(\"/felles/veiledning/r/eksempler/ansatte\")\n",
    "head(df)"
   ]
  },
  {
   "cell_type": "markdown",
   "metadata": {},
   "source": [
    "##### Liste ut filstier fra fellesområdet:"
   ]
  },
  {
   "cell_type": "code",
   "execution_count": 31,
   "metadata": {},
   "outputs": [
    {
     "data": {
      "text/html": [
       "<table>\n",
       "<caption>A data.frame: 1 × 1</caption>\n",
       "<thead>\n",
       "\t<tr><th></th><th scope=col>path</th></tr>\n",
       "\t<tr><th></th><th scope=col>&lt;chr&gt;</th></tr>\n",
       "</thead>\n",
       "<tbody>\n",
       "\t<tr><th scope=row>1</th><td>/felles/veiledning/r/eksempler/ansatte</td></tr>\n",
       "</tbody>\n",
       "</table>\n"
      ],
      "text/latex": [
       "A data.frame: 1 × 1\n",
       "\\begin{tabular}{r|l}\n",
       "  & path\\\\\n",
       "  & <chr>\\\\\n",
       "\\hline\n",
       "\t1 & /felles/veiledning/r/eksempler/ansatte\\\\\n",
       "\\end{tabular}\n"
      ],
      "text/markdown": [
       "\n",
       "A data.frame: 1 × 1\n",
       "\n",
       "| <!--/--> | path &lt;chr&gt; |\n",
       "|---|---|\n",
       "| 1 | /felles/veiledning/r/eksempler/ansatte |\n",
       "\n"
      ],
      "text/plain": [
       "  path                                  \n",
       "1 /felles/veiledning/r/eksempler/ansatte"
      ]
     },
     "metadata": {},
     "output_type": "display_data"
    }
   ],
   "source": [
    "liste <- spark.read.path(\"/felles/veiledning/r/*\")\n",
    "head(liste)"
   ]
  },
  {
   "cell_type": "markdown",
   "metadata": {},
   "source": [
    "#### Eksempel: Lese inn eksempeldata fra fellesområdet:"
   ]
  },
  {
   "cell_type": "code",
   "execution_count": 32,
   "metadata": {},
   "outputs": [],
   "source": [
    "df_areal <- spark.read.path(\"/felles/veiledning/pyspark/eksempler/areal\")"
   ]
  },
  {
   "cell_type": "markdown",
   "metadata": {},
   "source": [
    "##### Datasettes skjema viser oss:\n",
    "* kolonnenes/variablenes navn\n",
    "* kolonne-/variabeltype"
   ]
  },
  {
   "cell_type": "code",
   "execution_count": 33,
   "metadata": {},
   "outputs": [
    {
     "name": "stdout",
     "output_type": "stream",
     "text": [
      "root\n",
      " |-- Land: string (nullable = true)\n",
      " |-- Areal: integer (nullable = true)\n",
      " |-- Årstall: integer (nullable = true)\n",
      " |-- Landkode: string (nullable = true)\n",
      " |-- Kilde: string (nullable = true)\n"
     ]
    }
   ],
   "source": [
    "printSchema(df_areal)"
   ]
  },
  {
   "cell_type": "markdown",
   "metadata": {},
   "source": [
    "##### count() for å finne antall rader:"
   ]
  },
  {
   "cell_type": "code",
   "execution_count": 34,
   "metadata": {},
   "outputs": [
    {
     "data": {
      "text/html": [
       "29"
      ],
      "text/latex": [
       "29"
      ],
      "text/markdown": [
       "29"
      ],
      "text/plain": [
       "[1] 29"
      ]
     },
     "metadata": {},
     "output_type": "display_data"
    }
   ],
   "source": [
    "count(df_areal)"
   ]
  },
  {
   "cell_type": "markdown",
   "metadata": {},
   "source": [
    "##### Viser de første 5 radene i datasettet ved å bruke head()"
   ]
  },
  {
   "cell_type": "code",
   "execution_count": 35,
   "metadata": {},
   "outputs": [
    {
     "data": {
      "text/html": [
       "<table>\n",
       "<caption>A data.frame: 5 × 5</caption>\n",
       "<thead>\n",
       "\t<tr><th></th><th scope=col>Land</th><th scope=col>Areal</th><th scope=col>Årstall</th><th scope=col>Landkode</th><th scope=col>Kilde</th></tr>\n",
       "\t<tr><th></th><th scope=col>&lt;chr&gt;</th><th scope=col>&lt;int&gt;</th><th scope=col>&lt;int&gt;</th><th scope=col>&lt;chr&gt;</th><th scope=col>&lt;chr&gt;</th></tr>\n",
       "</thead>\n",
       "<tbody>\n",
       "\t<tr><th scope=row>1</th><td>Norge   </td><td> 385178</td><td>2018</td><td>NO</td><td>https://www.fn.no/Statistikk/Areal</td></tr>\n",
       "\t<tr><th scope=row>2</th><td>Sverige </td><td> 447430</td><td>2018</td><td>SE</td><td>https://www.fn.no/Statistikk/Areal</td></tr>\n",
       "\t<tr><th scope=row>3</th><td>Finland </td><td> 338450</td><td>2018</td><td>FI</td><td>https://www.fn.no/Statistikk/Areal</td></tr>\n",
       "\t<tr><th scope=row>4</th><td>Island  </td><td> 103000</td><td>2018</td><td>IS</td><td>https://www.fn.no/Statistikk/Areal</td></tr>\n",
       "\t<tr><th scope=row>5</th><td>Grønland</td><td>2166086</td><td>2018</td><td>GL</td><td>https://snl.no/Gr%C3%B8nland      </td></tr>\n",
       "</tbody>\n",
       "</table>\n"
      ],
      "text/latex": [
       "A data.frame: 5 × 5\n",
       "\\begin{tabular}{r|lllll}\n",
       "  & Land & Areal & Årstall & Landkode & Kilde\\\\\n",
       "  & <chr> & <int> & <int> & <chr> & <chr>\\\\\n",
       "\\hline\n",
       "\t1 & Norge    &  385178 & 2018 & NO & https://www.fn.no/Statistikk/Areal\\\\\n",
       "\t2 & Sverige  &  447430 & 2018 & SE & https://www.fn.no/Statistikk/Areal\\\\\n",
       "\t3 & Finland  &  338450 & 2018 & FI & https://www.fn.no/Statistikk/Areal\\\\\n",
       "\t4 & Island   &  103000 & 2018 & IS & https://www.fn.no/Statistikk/Areal\\\\\n",
       "\t5 & Grønland & 2166086 & 2018 & GL & https://snl.no/Gr\\%C3\\%B8nland      \\\\\n",
       "\\end{tabular}\n"
      ],
      "text/markdown": [
       "\n",
       "A data.frame: 5 × 5\n",
       "\n",
       "| <!--/--> | Land &lt;chr&gt; | Areal &lt;int&gt; | Årstall &lt;int&gt; | Landkode &lt;chr&gt; | Kilde &lt;chr&gt; |\n",
       "|---|---|---|---|---|---|\n",
       "| 1 | Norge    |  385178 | 2018 | NO | https://www.fn.no/Statistikk/Areal |\n",
       "| 2 | Sverige  |  447430 | 2018 | SE | https://www.fn.no/Statistikk/Areal |\n",
       "| 3 | Finland  |  338450 | 2018 | FI | https://www.fn.no/Statistikk/Areal |\n",
       "| 4 | Island   |  103000 | 2018 | IS | https://www.fn.no/Statistikk/Areal |\n",
       "| 5 | Grønland | 2166086 | 2018 | GL | https://snl.no/Gr%C3%B8nland       |\n",
       "\n"
      ],
      "text/plain": [
       "  Land     Areal   Årstall Landkode Kilde                             \n",
       "1 Norge     385178 2018    NO       https://www.fn.no/Statistikk/Areal\n",
       "2 Sverige   447430 2018    SE       https://www.fn.no/Statistikk/Areal\n",
       "3 Finland   338450 2018    FI       https://www.fn.no/Statistikk/Areal\n",
       "4 Island    103000 2018    IS       https://www.fn.no/Statistikk/Areal\n",
       "5 Grønland 2166086 2018    GL       https://snl.no/Gr%C3%B8nland      "
      ]
     },
     "metadata": {},
     "output_type": "display_data"
    }
   ],
   "source": [
    "head(df_areal, 5)"
   ]
  }
 ],
 "metadata": {
  "kernelspec": {
   "display_name": "SparkR",
   "language": "R",
   "name": "ir"
  },
  "language_info": {
   "codemirror_mode": "r",
   "file_extension": ".r",
   "mimetype": "text/x-r-source",
   "name": "R",
   "pygments_lexer": "r",
   "version": "3.6.3"
  }
 },
 "nbformat": 4,
 "nbformat_minor": 4
}
