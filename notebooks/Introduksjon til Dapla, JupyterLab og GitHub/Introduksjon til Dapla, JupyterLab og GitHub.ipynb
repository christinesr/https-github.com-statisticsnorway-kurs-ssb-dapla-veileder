{
 "cells": [
  {
   "cell_type": "markdown",
   "metadata": {},
   "source": [
    "<center><img src=\"../../img/dapla_jupyterlab_github.png\" width=500></center>"
   ]
  },
  {
   "cell_type": "markdown",
   "metadata": {},
   "source": [
    "[Dapla](https://github.com/statisticsnorway/dapla-project) er SSBs dataplattform i sky. Dapla består av teknisk infrastruktur for å lagre og prosessere data, samt verktøy for å innhente og bearbeide data og metadata i statistikkproduksjonen.\n",
    "\n",
    "[JupyterLab](https://jupyterlab.readthedocs.io/en/stable/) og [GitHub](http://github.com) er de sentrale verktøyene for å bygge og produsere klargjørings- og analysedelen av et statistikkløp.\n",
    "\n",
    "Figuren under viser sammenhengen mellom de ulike teknologiene og verktøyene i Dapla.\n",
    "\n",
    "(FIGUR)\n",
    "\n",
    "#### JupyterLab og GitHub\n",
    "Produksjonsløpet for klargjøring og analyse bygges i [JupyterLab notebooks](https://jupyterlab.readthedocs.io/en/stable/user/notebook.html). Nootbook-teknologien kombinerer det å skrive kode, dokumentere og presentere kode og resultatet av en kjøring på samme side. En side er delt inn i paragrafer eller celler som kan kjøres individuelt, og hver side er koblet til én kjerne eller ingen kjerner. En kjerne kan forstås som eksikveringsmaskinen. Maskinen som forstår koden som er skrevet og kjører programmet på en teknisk infrastruktur.\n",
    "* [Hvordan bruke veilederen](../Hvordan%20bruke%20veilederen.ipynb)\n",
    "\n",
    "I JupyterLab får hver bruker sitt eget kjøremiljø i skyen. Så for å kunne samarbeide om kode og for å håndtere versjoner av kode, er JupiterLab i Dapla koblet opp med versjonshåndteringssystemet GitHub. Se veileder på wiki for [bruk av GitHub i statistikkproduksjon](https://wiki.ssb.no/display/MAS2/Bruk+av+github+i+statistikkproduksjon). \n",
    "\n",
    "#### Programmeringsspråkene\n",
    "PySpark\n",
    "Python\n",
    "SparkR\n",
    "\n",
    "#### Teknisk infrastruktur\n",
    "Forklare hva vi forstår med teknsik infastruktur\n",
    "##### Byråets IT-plattform (BIP)\n",
    "Teknisk infrastruktur i sky...\n",
    "Verktøy for kontinuerlige leveranser (DevOps)\n",
    "\n",
    "##### Distribusert prosessering (Apache Spark)\n",
    "Sparks SQL er en modul i Spark som håndterer strukturerte data. Og når vi først er inne på det, så er Spark omgivelsen, eller infrastrukturen, som anvendes i Byråets dataplattform for å prosesserer store datamengder.\n",
    "\n",
    "\n",
    "#### Datalager\n",
    "Filområder (figur)\n",
    "\n",
    "#### Metadata\n",
    "LDS\n",
    "GraphQL\n",
    "\n"
   ]
  },
  {
   "cell_type": "markdown",
   "metadata": {},
   "source": [
    "Innhold:\n",
    "- [Velge kjerne](Velge%20kjerne.ipynb)\n",
    "- [Kort om PySpark og Python](Kort%20om%20PySpark%20og%20Python.ipynb)\n",
    "- [Slå av kjerner](Sl%C3%A5%20av%20kjerner.ipynb)\n"
   ]
  },
  {
   "cell_type": "code",
   "execution_count": null,
   "metadata": {},
   "outputs": [],
   "source": []
  }
 ],
 "metadata": {
  "kernelspec": {
   "display_name": "Pyspark (local)",
   "language": "python",
   "name": "pyspark_local"
  },
  "language_info": {
   "codemirror_mode": {
    "name": "ipython",
    "version": 3
   },
   "file_extension": ".py",
   "mimetype": "text/x-python",
   "name": "python",
   "nbconvert_exporter": "python",
   "pygments_lexer": "ipython3",
   "version": "3.8.5"
  }
 },
 "nbformat": 4,
 "nbformat_minor": 4
}
