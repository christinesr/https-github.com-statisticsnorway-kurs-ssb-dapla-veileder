{
 "cells": [
  {
   "cell_type": "markdown",
   "metadata": {},
   "source": [
    "<center><img src=\"../../img/jupyterlab_dapla.png\" width=500></center>"
   ]
  },
  {
   "cell_type": "markdown",
   "metadata": {},
   "source": [
    "Dataplattformen i SSB ([Dapla](https://github.com/statisticsnorway/dapla-project)) tilbyr [JupyterLab](https://jupyterlab.readthedocs.io/en/stable/) som verktøy for å bygge og produsere klargjørings- og analysedelen av et statistikkløp.\n",
    "\n",
    "Via JupyterLab har brukeren tilgang til ulike språk for å kode produksjonsløpet. Dapla tilbyr også forskjellige tekniske infrasturkturer for enkelte av språkene.\n",
    "\n",
    "(TBD: LEGGE INNE EN FIGUR SOM FORKLARER Dapla, JupyterLab, GitHub ... )\n",
    "\n",
    "#### Apache Spark\n",
    "Skriv litt om distribuert prosessering...\n",
    "\n",
    "Sparks SQL er en modul i Spark som håndterer strukturerte data. Og når vi først er inne på det, så er Spark omgivelsen, eller infrastrukturen, som anvendes i Byråets dataplattform for å prosesserer store datamengder."
   ]
  },
  {
   "cell_type": "markdown",
   "metadata": {},
   "source": [
    "Innhold:\n",
    "- [Velge kjerne](Velge%20kjerne.ipynb)\n",
    "- [Kort om PySpark og Python](Kort%20om%20PySpark%20og%20Python.ipynb)\n",
    "- [Slå av kjerner](Sl%C3%A5%20av%20kjerner.ipynb)\n"
   ]
  },
  {
   "cell_type": "code",
   "execution_count": null,
   "metadata": {},
   "outputs": [],
   "source": []
  }
 ],
 "metadata": {
  "kernelspec": {
   "display_name": "Pyspark (local)",
   "language": "python",
   "name": "pyspark_local"
  },
  "language_info": {
   "codemirror_mode": {
    "name": "ipython",
    "version": 3
   },
   "file_extension": ".py",
   "mimetype": "text/x-python",
   "name": "python",
   "nbconvert_exporter": "python",
   "pygments_lexer": "ipython3",
   "version": "3.8.5"
  }
 },
 "nbformat": 4,
 "nbformat_minor": 4
}
