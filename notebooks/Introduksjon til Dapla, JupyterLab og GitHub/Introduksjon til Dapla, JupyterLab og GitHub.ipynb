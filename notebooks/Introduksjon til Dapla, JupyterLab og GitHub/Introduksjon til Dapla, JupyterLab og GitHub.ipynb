{
 "cells": [
  {
   "cell_type": "markdown",
   "metadata": {},
   "source": [
    "<center><img src=\"../../img/dapla_jupyterlab_github.png\" width=500></center>"
   ]
  },
  {
   "cell_type": "markdown",
   "metadata": {},
   "source": [
    "[Dapla](https://github.com/statisticsnorway/dapla-project) er SSBs dataplattform i sky på Byråets IT-plattform ([BIP](https://github.com/statisticsnorway/platform)). Dapla består av teknisk infrastruktur for å lagre og prosessere data, samt verktøy for å innhente og bearbeide data og metadata i statistikkproduksjonen.\n",
    "\n",
    "[JupyterLab](https://jupyterlab.readthedocs.io/en/stable/) og [GitHub](http://github.com) er de sentrale verktøyene for å bygge og produsere klargjørings- og analysedelen av et statistikkløp. Figuren under illustrerer hvordan disse blir brukt i å skrive, dele og kjøre kode i Dapla.\n",
    "<center><img src=\"../../img/dapla_coding_tools.png\" width=500></center>\n",
    "\n",
    "#### JupyterLab og GitHub\n",
    "Produksjonsløpet for klargjøring og analyse bygges i [JupyterLab notebooks](https://jupyterlab.readthedocs.io/en/stable/user/notebook.html). Nootbook-teknologien kombinerer det å skrive kode, dokumentere og presentere kode og resultatet av en kjøring på samme side. En side er delt inn i paragrafer eller celler som kan kjøres individuelt, og hver side er koblet til én kjerne eller ingen kjerner. En kjerne kan sees på som et program som kan forstå og kjøre kode i en teknisk infrastruktur. Høsten 2020 er det tilgjengelig kjerner for å kjøre kode i *PySpark*, *Python* og *SparkR*. ([Kort om PysPark og Python](Kort%20om%20PySpark%20og%20Python.ipynb))\n",
    "\n",
    "I JupyterLab har hver bruker sitt eget kjøremiljø (teknisk infrastruktur) i skyen. Så for å kunne samarbeide om kode og for å håndtere versjoner av kode, er JupiterLab i Dapla koblet opp med versjonshåndteringssystemet GitHub.\n",
    "\n",
    "GitHub er en selvstendig skytjeneste som er integrert med JupiterLab i Dapla. Se veileder på wiki for [bruk av GitHub i statistikkproduksjon](https://wiki.ssb.no/display/MAS2/Bruk+av+github+i+statistikkproduksjon). \n",
    "\n",
    "#### Datalager i Dapla\n",
    "Datalageret i Dapla er et skydatalager (cloud storage). Det vil si at alle data som skal brukes i statisikkproduksjonen på plattformen må være lagret i skydatalageret.\n",
    "\n",
    "(Se eksempler på [finne, se og lagre data på Dapla](../Finne,%20se%20og%20lagre%20data%20p%C3%A5%20Dapla/Finne,%20se%20og%20lagre%20data%20p%C3%A5%20Dapla.ipynb))"
   ]
  }
 ],
 "metadata": {
  "kernelspec": {
   "display_name": "Pyspark (local)",
   "language": "python",
   "name": "pyspark_local"
  },
  "language_info": {
   "codemirror_mode": {
    "name": "ipython",
    "version": 3
   },
   "file_extension": ".py",
   "mimetype": "text/x-python",
   "name": "python",
   "nbconvert_exporter": "python",
   "pygments_lexer": "ipython3",
   "version": "3.8.5"
  }
 },
 "nbformat": 4,
 "nbformat_minor": 4
}
