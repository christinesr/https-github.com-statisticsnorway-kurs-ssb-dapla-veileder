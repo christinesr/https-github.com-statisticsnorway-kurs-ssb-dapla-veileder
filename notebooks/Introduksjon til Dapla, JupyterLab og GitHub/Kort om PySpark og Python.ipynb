{
 "cells": [
  {
   "cell_type": "markdown",
   "metadata": {},
   "source": [
    "# PySpark og Python\n",
    "PySpark er et programmeringsspråk (Python API) skrevet i Python for å støtte [Apache Spark](http://spark.apache.org/). Apache Spark er et *open sourc* rammeverk for distribuert prosessering.\n",
    "\n",
    ">\"PySpark is the collaboration of Apache Spark and Python. Apache Spark is an open-source cluster-computing framework, built around speed, ease of use, and streaming analytics whereas Python is a general-purpose, high-level programming language\". [PySpark Programming – Integrating Speed With Simplicity](https://www.edureka.co/blog/pyspark-programming/#:~:text=i.e.%2C%20PySpark%20Programming.-,PySpark%20Programming,%2C%20high%2Dlevel%20programming%20language.)\n",
    "\n",
    "I og med at PySpark er skrevet i Python er alle innebygde funksjoner i Python også tilgjengelig i PySpark. "
   ]
  },
  {
   "cell_type": "markdown",
   "metadata": {},
   "source": [
    "## Objektorientert programmering\n",
    "Python er et objektorienterte programmeringsspråk for generelle formål (a general purpose language). \n",
    ">Objektorientert programmering (OOP) ble oppfunnet (eller oppdaget som Nygaard pleide å si) av Kristen Nygaard og Ole-Johan Dahl på Norsk Regnesentral på midten av sekstitallet i form av programmeringsspråket Simula. ([Objektorientering ++](https://www.hannemyr.com/no/oop.php) av Gisle Hannemyr)\n",
    "\n",
    "Objektorienteringen er en måte å strukturere programmer på:\n",
    "- Samle relaterte data og kode for å manipulere dataene i **objekter**\n",
    "- Objektene tilbyr resten av programmet (og andre objekter) et sett  **metoder** (grensenitt til å manipulerer dataene i objektet)\n",
    "- Hvordan objektet representerer og manipulerer sine data er skjult (**innkapsling**)\n",
    "\n",
    "Metodene utføres ved å kalle på dem: `objekt.metode(parametere)`\n",
    "\n",
    "Vi kan illustrere dette med å snakke oss igjennom ett eksempel. I Python finnes det et listeobjekt som holder data i en liste og metoder på å manipulerer disse listedataene.\n",
    "\n",
    "Først lager vi et listeobjekt bestående av fire favorittland (lister i Python er ordnede):"
   ]
  },
  {
   "cell_type": "code",
   "execution_count": null,
   "metadata": {},
   "outputs": [],
   "source": [
    "# oppretter et listeobjekt\n",
    "mine_favorittland = ['Norge','England','Frankrike','Japan']\n",
    "\n",
    "# skriver ut datainnholdet i listeobjektet\n",
    "mine_favorittland"
   ]
  },
  {
   "cell_type": "markdown",
   "metadata": {},
   "source": [
    "Deretter kaller vi på listeobjektet sin metode `append` som legger til nye listedata. Vi kan si: *mine_favorittland **sin** (metode) append **med** (parameteret) neste_land_på_lista*."
   ]
  },
  {
   "cell_type": "code",
   "execution_count": null,
   "metadata": {},
   "outputs": [],
   "source": [
    "# oppretter en tekststreng\n",
    "neste_land_på_lista = 'Danmark'\n",
    "\n",
    "# legger til tekststrengen (Danmark) til mine_favorittland\n",
    "mine_favorittland.append(neste_land_på_lista)\n",
    "mine_favorittland"
   ]
  },
  {
   "cell_type": "markdown",
   "metadata": {},
   "source": [
    "# Standardbiblioteket og andre biblioteker\n",
    "I Python finnes det noen innebygde objekter og funksjoner, som f.eks. listeobjekter og print(). Disse ligger i [Pythons standardbiblioteket](https://docs.python.org/3/library/index.html). Andre objekter og funksjoner må hentes inn fra spesifikke biblioteker, som f.eks python biblioteket [pandas](https://pandas.pydata.org/). PySpark har egne biblioteker (se https://spark.apache.org/docs/latest/api/python/index.html). Slike eksterne biblioteker importeres inn ved behov: `import [objekt|funksjon]`"
   ]
  },
  {
   "cell_type": "markdown",
   "metadata": {},
   "source": [
    "## Innebygde objekter og funksjoner i python og pyspark\n",
    "I Pythons standardbibliotek beskrives hvilke *[functions](https://docs.python.org/3/library/functions.html)*, *[types](https://docs.python.org/3/library/stdtypes.html)*, *[constants](https://docs.python.org/3/library/constants.html)* og *[exceptions](https://docs.python.org/3/library/exceptions.html)* som er innebygd.\n",
    "\n",
    "I eksempelet under vises bruk av innbygde:\n",
    "* funksjoner: `input()`, `print()` og `len()`\n",
    "* konstander: `True`\n",
    "* typer: `==`, `+`\n",
    "* *exceptions*: `ValueError`"
   ]
  },
  {
   "cell_type": "code",
   "execution_count": null,
   "metadata": {},
   "outputs": [],
   "source": [
    "fornavn = input(\"Fornavn: \")\n",
    "etternavn = input(\"Etternavn: \")\n",
    "\n",
    "i=0\n",
    "while True:\n",
    "    try:\n",
    "        alder = int(input(\"Alder: \"))\n",
    "        break\n",
    "    except ValueError:\n",
    "        if (i==0):\n",
    "            print(\"Ojsann, det ble feil! Du må skrive din alder i heltall. Prøv igjen ...\")\n",
    "        else: print(\"nei og nei, det ble feil igjen. Prøv igjen å skriv alder som tall\")\n",
    "    i=i+1"
   ]
  },
  {
   "cell_type": "code",
   "execution_count": null,
   "metadata": {},
   "outputs": [],
   "source": [
    "print(\"Hei, \"+fornavn+\" \"+etternavn)\n",
    "print (alder)"
   ]
  },
  {
   "cell_type": "code",
   "execution_count": null,
   "metadata": {},
   "outputs": [],
   "source": [
    "format(fornavn)"
   ]
  },
  {
   "cell_type": "code",
   "execution_count": null,
   "metadata": {},
   "outputs": [],
   "source": [
    "len(fornavn)"
   ]
  },
  {
   "cell_type": "code",
   "execution_count": null,
   "metadata": {},
   "outputs": [],
   "source": []
  }
 ],
 "metadata": {
  "kernelspec": {
   "display_name": "Pyspark (local)",
   "language": "python",
   "name": "pyspark_local"
  },
  "language_info": {
   "codemirror_mode": {
    "name": "ipython",
    "version": 3
   },
   "file_extension": ".py",
   "mimetype": "text/x-python",
   "name": "python",
   "nbconvert_exporter": "python",
   "pygments_lexer": "ipython3",
   "version": "3.8.5"
  }
 },
 "nbformat": 4,
 "nbformat_minor": 4
}
