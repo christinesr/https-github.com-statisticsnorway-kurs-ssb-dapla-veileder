{
 "cells": [
  {
   "cell_type": "markdown",
   "metadata": {},
   "source": [
    "## Enkel \"komme i gang\" veiledning for JupyterLab<br>"
   ]
  },
  {
   "cell_type": "markdown",
   "metadata": {},
   "source": [
    "<center><img src=\"../../img/jupyterlab_oversikt.png\" width=800></center>"
   ]
  },
  {
   "cell_type": "markdown",
   "metadata": {},
   "source": [
    "### Navigering - et lite utvalg av muligheter\n",
    "Finne frem til notebooker:<br>\n",
    "Velg katalog ikonet øverst til venstre (**<img src=\"../../img/katalog.png\" width=30>**) og klikkpå det.<br>\n",
    "Du vil da kunne navigere som i en vanlig filbrowser. Naviger ned i underkataloger til du finner riktig notebook og dobbelt-klikk på denne.<br>\n",
    "Du vil da få åpnet notebooken i høyre vindu.\n",
    "\n",
    "\n",
    "\n",
    "\n",
    "\n",
    "Opprette en ny notebokk:<br>\n",
    "**File -> New-> Notebook**<br>\n",
    "Andre funksjoner som *slett*, *nytt navn*, *kopier* etc.:<br>\n",
    "Høyreklikk på notebooknavnet i menyen til venstre. Velg katalog ikonet (**<img src=\"../../img/katalog.png\" width=30>**) hvis du ikke ser notebookene.\n",
    "    \n"
   ]
  },
  {
   "cell_type": "markdown",
   "metadata": {},
   "source": [
    "### Kjør hele eller deler av notebooken\n",
    "I toppmeny:<br>\n",
    "**Run -> Run selected cells:** Kjører den sellen du står på eller de som er valgt.<br>\n",
    "         Hvis flere celler er valgt vil de etter hvert som de kjøres får et løpenummer,<br>\n",
    "         og den celle som er under kjøring vil ha en stjerne,* så lenge kjøringen ikke er ferdig.<br>\n",
    "**Play-icon i Notebookmeny(**<img src=\"../../img/play.png\" width=40>)**:** Fjerner resultatet som er skrevet til skjerm for hele notebooken.<br>\n",
    "\n",
    "For flere kjøringsvalg se under *Run* i toppmeny.<br>"
   ]
  },
  {
   "cell_type": "markdown",
   "metadata": {},
   "source": [
    "### Fjerne resultat(Output)\n",
    "I toppmeny:<br>\n",
    "**Edit -> Clear Output:** Fjerner resultatet som er skrevet til skjerm for den cellen du står på.<br>\n",
    "**Edit -> Clear All Output:** Fjerner resultatet som er skrevet til skjerm for hele notebooken.<br>\n",
    "\n",
    "Eventuelt høyreklikk i en celle for å få opp valgene.<br>"
   ]
  },
  {
   "cell_type": "markdown",
   "metadata": {},
   "source": [
    "### Editering\n",
    "I toppmeny undet **Edit** finnes de vanligste editeringsmuligheter.<br>\n",
    "\n",
    "Når man står på en selle, spiller selletypen inn for hvilke editeringsmuligheter man har.<br>\n",
    "Selletype ser man *Notebookmeny*, det skilles mellom **Code, Markdown og Raw**<br>\n",
    "For utfyllende veiledning se <a href=\"https://jupyterlab.readthedocs.io/\" target=\"jupyterlab.readthedocs.io\">readthedocs</a><br>\n",
    "\n",
    "Det finnes også en rekke tilpasninger for editorer under *Settings* i toppmenyen.<br>\n"
   ]
  },
  {
   "cell_type": "code",
   "execution_count": null,
   "metadata": {},
   "outputs": [],
   "source": []
  }
 ],
 "metadata": {
  "kernelspec": {
   "display_name": "Python 3",
   "language": "python",
   "name": "python3"
  },
  "language_info": {
   "codemirror_mode": {
    "name": "ipython",
    "version": 3
   },
   "file_extension": ".py",
   "mimetype": "text/x-python",
   "name": "python",
   "nbconvert_exporter": "python",
   "pygments_lexer": "ipython3",
   "version": "3.8.5"
  }
 },
 "nbformat": 4,
 "nbformat_minor": 4
}
