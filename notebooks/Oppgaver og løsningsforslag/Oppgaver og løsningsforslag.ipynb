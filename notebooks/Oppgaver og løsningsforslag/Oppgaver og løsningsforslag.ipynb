{
 "cells": [
  {
   "cell_type": "markdown",
   "metadata": {},
   "source": [
    "## Oppgaver og løsningsforslag\n",
    "\n",
    "\n",
    "* [Oppgave 1](Oppgave%201.ipynb) ([løsningsforslag](Løsning%20oppgave%201.ipynb))\n",
    "* [Oppgave 2](Oppgave%202.ipynb) ([løsningsforslag](Løsning%20oppgave%202.ipynb))\n",
    "* [Oppgave 3](Oppgave%203.ipynb) ([løsningsforslag](Løsning%20oppgave%203.ipynb))"
   ]
  },
  {
   "cell_type": "code",
   "execution_count": null,
   "metadata": {},
   "outputs": [],
   "source": []
  }
 ],
 "metadata": {
  "kernelspec": {
   "display_name": "Pyspark (local)",
   "language": "python",
   "name": "pyspark_local"
  },
  "language_info": {
   "codemirror_mode": {
    "name": "ipython",
    "version": 3
   },
   "file_extension": ".py",
   "mimetype": "text/x-python",
   "name": "python",
   "nbconvert_exporter": "python",
   "pygments_lexer": "ipython3",
   "version": "3.9.10"
  }
 },
 "nbformat": 4,
 "nbformat_minor": 4
}
