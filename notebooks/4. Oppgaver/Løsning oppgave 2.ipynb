{
 "cells": [
  {
   "cell_type": "markdown",
   "metadata": {},
   "source": [
    "### Oppgave 2: Finne landene med høyeste og laveste BNP pr. capita\n",
    "Vi tar utgangspunkt i datasettet om innbyggerantall registrert i 2020. Det finnes foreløpig bare ett datasett med oversikt over landenes BNP.\n",
    "\n",
    "Fremgangsmåte:\n",
    "1. Finne eksempeldataene på dataplattformen\n",
    "2. Lese inn eksempeldataene til pyspark.sql.DataFrame\n",
    "3. Fjerne missing eller null verdier for innbyggerantall og BNP\n",
    "4. Fjerner dubletter fra datasettene\n",
    "5. Kobler datasettene\n",
    "6. Lager ny variabel BNP pr. capita\n",
    "7. Finner høyeste og lavest BNP pr. capita"
   ]
  },
  {
   "cell_type": "markdown",
   "metadata": {},
   "source": [
    "#### Laster inn bibliotek:"
   ]
  },
  {
   "cell_type": "code",
   "execution_count": null,
   "metadata": {},
   "outputs": [],
   "source": [
    "from pyspark.sql.types import IntegerType\n",
    "from pyspark.sql.functions import mean, min, max\n",
    "import pyspark.sql.functions as F"
   ]
  },
  {
   "cell_type": "markdown",
   "metadata": {},
   "source": [
    "#### 2.1 Finne datasettene"
   ]
  },
  {
   "cell_type": "code",
   "execution_count": null,
   "metadata": {},
   "outputs": [],
   "source": [
    "# finne datasettene om innbyggerantall og bnp\n",
    "spark.read.path(\"/felles/veiledning/pyspark/eksempler*\").show(10, False)"
   ]
  },
  {
   "cell_type": "markdown",
   "metadata": {},
   "source": [
    "#### 2.2 Lese inn dataene\n",
    "Kopier filstiene fra resultatet (output) fra forrige celle:\n",
    "- /felles/veiledning/pyspark/eksempler/bnp\n",
    "- /felles/veiledning/pyspark/eksempler/innbyggerantall/2020"
   ]
  },
  {
   "cell_type": "code",
   "execution_count": null,
   "metadata": {},
   "outputs": [],
   "source": [
    "# lese inn datasettet om landenes bnp\n",
    "df_bnp = spark.read.path(\"/felles/veiledning/pyspark/eksempler/bnp\")\n",
    "\n",
    "# lese inn datasettet om landenes innbyggerantall\n",
    "df_innbyggerantall_2020 = spark.read.path(\"/felles/veiledning/pyspark/eksempler/innbyggerantall/2020\")\n",
    "\n",
    "# skriver ut dataene\n",
    "print(\"*********************************** BNP ***********************************\")\n",
    "df_bnp.show(50,False)\n",
    "print(\"*********************************** INNBYGGERANTALL 2020 ***********************************\")\n",
    "df_innbyggerantall_2020.show(50,False)"
   ]
  },
  {
   "cell_type": "markdown",
   "metadata": {},
   "source": [
    "#### 2.3 Fjerne observasjoner som er 0, missing eller negative"
   ]
  },
  {
   "cell_type": "code",
   "execution_count": null,
   "metadata": {},
   "outputs": [],
   "source": [
    "# filtrerer de observasjonenen hvor Innbyggerantall>0\n",
    "df_innbyggerantall_2020 = df_innbyggerantall_2020.filter(df_innbyggerantall_2020.Innbyggerantall>0)\n",
    "df_innbyggerantall_2020.show(50, False)"
   ]
  },
  {
   "cell_type": "code",
   "execution_count": null,
   "metadata": {},
   "outputs": [],
   "source": [
    "# filtrerer de observasjonenen hvor BNP>0\n",
    "df_bnp = df_bnp.filter(df_bnp.BNP>0)\n",
    "df_bnp.show(50, False)"
   ]
  },
  {
   "cell_type": "markdown",
   "metadata": {},
   "source": [
    "#### 2.4 Fjerne dubletter"
   ]
  },
  {
   "cell_type": "code",
   "execution_count": null,
   "metadata": {},
   "outputs": [],
   "source": [
    "# finne og eventuelt fjerne dubletter på datasettet innbyggerantall\n",
    "\n",
    "# sorterer etter land og innbyggerantall og lister ut den sorterte dataframen\n",
    "print(\"*********************************** INNBYGGERANTALL SORTERT ETTER LAND OG INNBYGGERANTALL ***********************************\")\n",
    "\n",
    "df_innbyggerantall_2020_sort = df_innbyggerantall_2020.orderBy(['Land','Innbyggerantall'], ascending=[1, 0])\n",
    "df_innbyggerantall_2020_sort.show(50,False)\n",
    "\n",
    "# tar ut oversikt over de radene med likt \"land\" som forekommer flere enn en gang i dataframen, og sånn sett utgjør den samlede mengden av duplikater\n",
    "df_land_dub_alle  = df_innbyggerantall_2020_sort.join(df_innbyggerantall_2020_sort.groupBy('Land')\\\n",
    "          .count().where('count = 1').drop('count'),\n",
    "          on=['Land'],\n",
    "          how='left_anti')\n",
    "\n",
    "print(\"*********************************** OVERSIKT OVER DUPLIKATER ***********************************\")\n",
    "df_land_dub_alle.show()  \n",
    "\n",
    "print(\"*********************************** INNBYGGERANTALL UTEN DUBLIKATER. HØYESTE INNBYGGERANTALL ER BEHOLDT ***********************************\")\n",
    "df_innbyggerantall_udub= df_innbyggerantall_2020_sort.drop_duplicates(subset=['Land'])\n",
    "df_innbyggerantall_udub.show(50,False)\n"
   ]
  },
  {
   "cell_type": "code",
   "execution_count": null,
   "metadata": {},
   "outputs": [],
   "source": [
    "# finne og eventuelt fjerne dubletter på datasettet BNP\n",
    "\n",
    "# sorterer etter land og innbyggerantall og lister ut den sorterte dataframen\n",
    "print(\"*********************************** BNP SORTERT ETTER LAND OG STØRRELSE PÅ BNP ***********************************\")\n",
    "\n",
    "df_bnp_sort = df_bnp.orderBy(['Land','BNP'])\n",
    "df_bnp_sort.show(50,False)\n",
    "\n",
    "# tar ut oversikt over de radene med likt \"land\" som forekommer flere enn en gang i dataframen, og sånn sett utgjør den samlede mengden av duplikater\n",
    "df_bnp_dub_alle  = df_bnp_sort.join(df_bnp_sort.groupBy('Land')\\\n",
    "          .count().where('count = 1').drop('count'),\n",
    "          on=['Land'],\n",
    "          how='left_anti')\n",
    "\n",
    "print(\"*********************************** OVERSIKT OVER DUPLIKATER ***********************************\")\n",
    "df_bnp_dub_alle.show()  "
   ]
  },
  {
   "cell_type": "markdown",
   "metadata": {},
   "source": [
    "#### 2.5 Koble datasett"
   ]
  },
  {
   "cell_type": "code",
   "execution_count": null,
   "metadata": {},
   "outputs": [],
   "source": [
    "# koble datasettene med bruk av koblingsmetoden 'inner' (vi ønsker bare å ha med land som har BNP og Innbyggerantall)\n",
    "\n",
    "df_bnp_innbyggerantall = df_bnp.join(df_innbyggerantall_udub, 'Land', 'inner')\n",
    "\n",
    "print(\"*********************************** SAMMENKOBLET DATASETT ***********************************\")\n",
    "df_bnp_innbyggerantall.show(50,False)"
   ]
  },
  {
   "cell_type": "markdown",
   "metadata": {},
   "source": [
    "#### 2.6 Lage en ny variabel og fjerner kolonner"
   ]
  },
  {
   "cell_type": "code",
   "execution_count": null,
   "metadata": {},
   "outputs": [],
   "source": [
    "# lage ny variabel (BNP/innbyggerantall)\n",
    "\n",
    "df_bnp_innbyggerantall = df_bnp_innbyggerantall.withColumn('BNP per capita',(df_bnp_innbyggerantall['BNP']/df_bnp_innbyggerantall['Innbyggerantall']).cast(IntegerType()))\n",
    "\n",
    "# fjerner kolonnene Landkode, År og Kilde\n",
    "df_bnp_innbyggerantall = df_bnp_innbyggerantall.drop(\"Landkode\", \"År\", \"Kilde\")\n",
    "\n",
    "print(\"*********************************** SAMMENKOBLET DATASETT MED NY VARIABEL ***********************************\")\n",
    "df_bnp_innbyggerantall.show(50,False)"
   ]
  },
  {
   "cell_type": "markdown",
   "metadata": {},
   "source": [
    "#### 2.7 Finne min og maks (og gjennomsnitt)"
   ]
  },
  {
   "cell_type": "code",
   "execution_count": null,
   "metadata": {},
   "outputs": [],
   "source": [
    "# finne min, maks og gjennomsnitt av den nye variabelen\n",
    "\n",
    "result = df_bnp_innbyggerantall.select([(mean(\"BNP per capita\")).cast(IntegerType()), min(\"BNP per capita\"), max(\"BNP per capita\")])\n",
    "\n",
    "print(\"*********************************** Minimum, maksimum og gjennomsnitt av BNP per capita ***********************************\")\n",
    "result.show()"
   ]
  },
  {
   "cell_type": "code",
   "execution_count": null,
   "metadata": {},
   "outputs": [],
   "source": []
  }
 ],
 "metadata": {
  "kernelspec": {
   "display_name": "Pyspark (local)",
   "language": "python",
   "name": "pyspark_local"
  },
  "language_info": {
   "codemirror_mode": {
    "name": "ipython",
    "version": 3
   },
   "file_extension": ".py",
   "mimetype": "text/x-python",
   "name": "python",
   "nbconvert_exporter": "python",
   "pygments_lexer": "ipython3",
   "version": "3.7.6"
  }
 },
 "nbformat": 4,
 "nbformat_minor": 4
}
