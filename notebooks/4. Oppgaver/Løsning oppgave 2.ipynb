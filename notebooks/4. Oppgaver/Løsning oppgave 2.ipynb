{
 "cells": [
  {
   "cell_type": "markdown",
   "metadata": {},
   "source": [
    "### Oppgave 2: Finne landene med høyeste og laveste BNP per capita\n",
    "Vi tar utgangspunkt i datasettet om innbyggerantall registrert i 2020. Det finnes foreløpig bare ett datasett med oversikt over landenes BNP."
   ]
  },
  {
   "cell_type": "markdown",
   "metadata": {},
   "source": [
    "Laster inn bibliotek:"
   ]
  },
  {
   "cell_type": "code",
   "execution_count": null,
   "metadata": {},
   "outputs": [],
   "source": [
    "from pyspark.sql import DataFrame\n",
    "from pyspark.sql.types import *\n",
    "import pyspark.sql.functions as F"
   ]
  },
  {
   "cell_type": "markdown",
   "metadata": {},
   "source": [
    "2.1 Finne og leses inn datasett"
   ]
  },
  {
   "cell_type": "code",
   "execution_count": null,
   "metadata": {},
   "outputs": [],
   "source": [
    "#skriv koden for å finne og lese inn datasettene om innbyggerantall og bnp\n",
    "spark.read.path(\"/felles/veiledning/pyspark/eksempler*\").show(10, False)\n",
    "\n",
    "df_bnp = spark.read.path(\"/felles/veiledning/pyspark/eksempler/bnp\")\n",
    "df_innbyggerantall_2020 = spark.read.path(\"/felles/veiledning/pyspark/eksempler/innbyggerantall/2020\")\n",
    "print(\"*********************************** BNP ***********************************\")\n",
    "df_bnp.show(50,False)\n",
    "print(\"*********************************** INNBYGGERANTALL 2020 ***********************************\")\n",
    "df_innbyggerantall_2020.show(50,False)"
   ]
  },
  {
   "cell_type": "markdown",
   "metadata": {},
   "source": [
    "2.2 Fjerne dubletter"
   ]
  },
  {
   "cell_type": "code",
   "execution_count": null,
   "metadata": {},
   "outputs": [],
   "source": [
    "#skriv koden for å finne og eventuelt fjerne dubletter\n",
    "#Sorterer etter land og innbyggerantall og lister ut den sorterte dataframen\n",
    "print(\"*********************************** INNBYGGERANTALL SORTERT ETTER LAND OG INNBYGGERANTALL ***********************************\")\n",
    "\n",
    "df_innbyggerantall_2020_sort = df_innbyggerantall_2020.orderBy(['Land','Innbyggerantall'], ascending=[1, 0])\n",
    "df_innbyggerantall_2020_sort.show(50,False)\n",
    "\n",
    "\n",
    "#Tar ut oversikt over de radene med likt \"land\" som forekommer flere enn en gang i dataframen, og sånn sett utgjør den samlede mengden av duplikater\n",
    "df_land_dub_alle  = df_innbyggerantall_2020_sort.join(df_innbyggerantall_2020_sort.groupBy('Land')\\\n",
    "          .count().where('count = 1').drop('count'),\n",
    "          on=['Land'],\n",
    "          how='left_anti')\n",
    "print(\"*********************************** OVERSIKT OVER DUPLIKATER ***********************************\")\n",
    "df_land_dub_alle.show()  \n",
    "\n",
    "print(\"*********************************** INNBYGGERANTALL UTEN DUBLIKATER. HØYESTE INNBYGGERANTALL ER BEHOLDT ***********************************\")\n",
    "df_innbyggerantall_udub= df_innbyggerantall_2020_sort.drop_duplicates(subset=['Land'])\n",
    "df_innbyggerantall_udub.show(50,False)\n"
   ]
  },
  {
   "cell_type": "code",
   "execution_count": null,
   "metadata": {},
   "outputs": [],
   "source": [
    "#skriv koden for å finne og eventuelt fjerne dubletter\n",
    "#Sorterer etter land og innbyggerantall og lister ut den sorterte dataframen\n",
    "print(\"*********************************** BNP SORTERT ETTER LAND OG STØRRELSE PÅ BNP ***********************************\")\n",
    "\n",
    "df_bnp_sort = df_bnp.orderBy(['Land','BNP'])\n",
    "df_bnp_sort.show(50,False)\n",
    "\n",
    "\n",
    "#Tar ut oversikt over de radene med likt \"land\" som forekommer flere enn en gang i dataframen, og sånn sett utgjør den samlede mengden av duplikater\n",
    "df_bnp_dub_alle  = df_bnp_sort.join(df_bnp_sort.groupBy('Land')\\\n",
    "          .count().where('count = 1').drop('count'),\n",
    "          on=['Land'],\n",
    "          how='left_anti')\n",
    "print(\"*********************************** OVERSIKT OVER DUPLIKATER ***********************************\")\n",
    "df_bnp_dub_alle.show()  \n"
   ]
  },
  {
   "cell_type": "markdown",
   "metadata": {},
   "source": [
    "2.3 Koble datasett"
   ]
  },
  {
   "cell_type": "code",
   "execution_count": null,
   "metadata": {},
   "outputs": [],
   "source": [
    "#skriv koden for å koble datasettene\n",
    "df_bnp_innbyggerantall = df_bnp.join(df_innbyggerantall_udub, 'Land', 'inner')\n",
    "print(\"*********************************** SAMMENKOBLET DATASETT ***********************************\")\n",
    "df_bnp_innbyggerantall.show(50,False)"
   ]
  },
  {
   "cell_type": "markdown",
   "metadata": {},
   "source": [
    "2.4 Lage en ny variabel"
   ]
  },
  {
   "cell_type": "code",
   "execution_count": null,
   "metadata": {},
   "outputs": [],
   "source": [
    "#skriv koden for å lage ny variabel (BNP/innbyggerantall)\n",
    "df_bnp_innbyggerantall = df_bnp_innbyggerantall.withColumn('BNP per capita',df_bnp_innbyggerantall['BNP']/df_bnp_innbyggerantall['Innbyggerantall'])\n",
    "print(\"*********************************** SAMMENKOBLET DATASETT MED NY VARIABEL ***********************************\")\n",
    "df_bnp_innbyggerantall.show(50,False)"
   ]
  },
  {
   "cell_type": "markdown",
   "metadata": {},
   "source": [
    "2.5 Finne min og maks"
   ]
  },
  {
   "cell_type": "code",
   "execution_count": null,
   "metadata": {},
   "outputs": [],
   "source": [
    "#skriv koden for å finne min, maks og gjennomsnitt av den nye variabelen\n",
    "\n",
    "from pyspark.sql.functions import mean, min, max\n",
    "result = df_bnp_innbyggerantall.select([mean(\"BNP per capita\"), min(\"BNP per capita\"), max(\"BNP per capita\")])\n",
    "print(\"*********************************** Minimum, maksimum og gjennomsnitt av BNP per capita ***********************************\")\n",
    "result.show()\n"
   ]
  },
  {
   "cell_type": "code",
   "execution_count": null,
   "metadata": {},
   "outputs": [],
   "source": []
  }
 ],
 "metadata": {
  "kernelspec": {
   "display_name": "Pyspark (local)",
   "language": "python",
   "name": "pyspark_local"
  },
  "language_info": {
   "codemirror_mode": {
    "name": "ipython",
    "version": 3
   },
   "file_extension": ".py",
   "mimetype": "text/x-python",
   "name": "python",
   "nbconvert_exporter": "python",
   "pygments_lexer": "ipython3",
   "version": "3.7.6"
  }
 },
 "nbformat": 4,
 "nbformat_minor": 4
}
