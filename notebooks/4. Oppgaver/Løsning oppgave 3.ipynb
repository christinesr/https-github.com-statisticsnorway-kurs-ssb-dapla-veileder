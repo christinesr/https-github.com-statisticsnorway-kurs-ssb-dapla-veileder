{
 "cells": [
  {
   "cell_type": "markdown",
   "metadata": {},
   "source": [
    "### Oppgave 3: Finn gjennomstnittlig BNP per capita blant de størte og minste landene"
   ]
  },
  {
   "cell_type": "markdown",
   "metadata": {},
   "source": [
    "#### Laster inn bibliotek\n",
    "\n"
   ]
  },
  {
   "cell_type": "code",
   "execution_count": null,
   "metadata": {},
   "outputs": [],
   "source": [
    "from pyspark.sql.types import IntegerType\n",
    "from pyspark.sql.functions import mean\n",
    "import pyspark.sql.functions as F"
   ]
  },
  {
   "cell_type": "markdown",
   "metadata": {},
   "source": [
    "#### Finner datasettet"
   ]
  },
  {
   "cell_type": "code",
   "execution_count": null,
   "metadata": {},
   "outputs": [],
   "source": [
    "spark.read.path(\"/felles/veiledning/pyspark/eksempler*\").show(10, False)"
   ]
  },
  {
   "cell_type": "markdown",
   "metadata": {},
   "source": [
    "#### Leser inn datasettet"
   ]
  },
  {
   "cell_type": "code",
   "execution_count": null,
   "metadata": {},
   "outputs": [],
   "source": [
    "df_bnp_og_innbyggerantall = spark.read.path(\"/felles/veiledning/pyspark/eksempler/bnp_og_innbyggerantall\")\n",
    "# skriver ut dataene\n",
    "print(\"*********************************** BNP OG INNBYGGERANTALLL ***********************************\")\n",
    "df_bnp_og_innbyggerantall.show(50,False)"
   ]
  },
  {
   "cell_type": "markdown",
   "metadata": {},
   "source": [
    "#### Sorterer datasettet etter størrelse"
   ]
  },
  {
   "cell_type": "code",
   "execution_count": null,
   "metadata": {},
   "outputs": [],
   "source": [
    "# Sorterer etter landstørrelse (antall innbyggere)\n",
    "df_bnp_og_innbyggerantall_sort = df_bnp_og_innbyggerantall.orderBy(['Innbyggerantall'])\n",
    "df_bnp_og_innbyggerantall_sort.show(50,False)"
   ]
  },
  {
   "cell_type": "markdown",
   "metadata": {},
   "source": [
    "#### Finner de fem største og fem minste landene (i antall innbyggere)\n",
    "#### Lager først et datasett bestående av de fem største landene"
   ]
  },
  {
   "cell_type": "code",
   "execution_count": null,
   "metadata": {},
   "outputs": [],
   "source": [
    "#Finner de fem største landene via det sorterte datasettet\n",
    "#de_fem_storste = df_bnp_og_innbyggerantall_sort.collect()[12:17] \n",
    "\n",
    "antall_land = df_bnp_og_innbyggerantall_sort.count()\n",
    "\n",
    "de_fem_storste = df_bnp_og_innbyggerantall_sort.collect()[antall_land-5:antall_land] \n",
    "df_de_fem_storste = spark.createDataFrame(de_fem_storste) "
   ]
  },
  {
   "cell_type": "code",
   "execution_count": null,
   "metadata": {},
   "outputs": [],
   "source": [
    "# skriver ut dataene\n",
    "print(\"*********************************** DE FEM STØRSTE LANDENE ***********************************\")\n",
    "df_de_fem_storste.show(5,False)"
   ]
  },
  {
   "cell_type": "markdown",
   "metadata": {},
   "source": [
    "#### Lager så et datasett bestående av de fem minste landene"
   ]
  },
  {
   "cell_type": "code",
   "execution_count": null,
   "metadata": {},
   "outputs": [],
   "source": [
    "#Finner de fem minste landene via det sorterte datasettet\n",
    "de_fem_minste = df_bnp_og_innbyggerantall_sort.collect()[:5]\n",
    "df_de_fem_minste = spark.createDataFrame(de_fem_minste)"
   ]
  },
  {
   "cell_type": "code",
   "execution_count": null,
   "metadata": {},
   "outputs": [],
   "source": [
    "# skriver ut dataene\n",
    "print(\"*********************************** DE FEM MINSTE LANDENE ***********************************\")\n",
    "df_de_fem_minste.show()"
   ]
  },
  {
   "cell_type": "markdown",
   "metadata": {},
   "source": [
    "#### Finner gjennomsnittlig BNP for de fem største og fem minste landene"
   ]
  },
  {
   "cell_type": "code",
   "execution_count": null,
   "metadata": {},
   "outputs": [],
   "source": [
    "# gjennomsnitt for de fem største landene\n",
    "storste_result = df_de_fem_storste.select([(mean(\"BNP_per_capita\")).cast(IntegerType())])\n",
    "\n",
    "print(\"*********************************** Gjennomsnitt av BNP per capita for de fem største landene ***********************************\")\n",
    "storste_result.show()"
   ]
  },
  {
   "cell_type": "code",
   "execution_count": null,
   "metadata": {},
   "outputs": [],
   "source": [
    "# gjennomsnitt for de fem minste landene\n",
    "minste_result = df_de_fem_minste.select([(mean(\"BNP_per_capita\")).cast(IntegerType())])\n",
    "\n",
    "print(\"*********************************** Gjennomsnitt av BNP per capita for de fem minste landene ***********************************\")\n",
    "minste_result.show()"
   ]
  },
  {
   "cell_type": "code",
   "execution_count": null,
   "metadata": {},
   "outputs": [],
   "source": []
  },
  {
   "cell_type": "code",
   "execution_count": null,
   "metadata": {},
   "outputs": [],
   "source": []
  }
 ],
 "metadata": {
  "kernelspec": {
   "display_name": "Pyspark (local)",
   "language": "python",
   "name": "pyspark_local"
  },
  "language_info": {
   "codemirror_mode": {
    "name": "ipython",
    "version": 3
   },
   "file_extension": ".py",
   "mimetype": "text/x-python",
   "name": "python",
   "nbconvert_exporter": "python",
   "pygments_lexer": "ipython3",
   "version": "3.7.6"
  }
 },
 "nbformat": 4,
 "nbformat_minor": 4
}
