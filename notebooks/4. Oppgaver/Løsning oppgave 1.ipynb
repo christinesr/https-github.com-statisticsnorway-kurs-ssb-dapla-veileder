{
 "cells": [
  {
   "cell_type": "markdown",
   "metadata": {},
   "source": [
    "### Oppgave 1: Finne landene med høyeste og laveste befolkningstetthet\n",
    "\n",
    "For å løse oppgaven må vi først finne datasettene med data om landenes innbyggertall og areal.\n",
    "\n",
    "Deretter kobler vi datasettene. Vi velger fjerne land med missing eller 0 i antall innbyggere eller areal. Vi kunne ha valgt å imputere fra et annet datasett (se logisk imputering under [2. Funksjoner i klargjøring](https://jupyter.prod-bip-app.ssb.no/hub/user-redirect/lab/tree/kurs-ssb-dapla-veileder/notebooks/2.%20Funksjoner%20i%20klargj%C3%B8ring/5.%20Logisk%20imputering.ipynb)).\n",
    "\n",
    "I tillegg fjerner vi dubletter og velger ut hvilke observasjoner vi skal beholde.\n",
    "\n",
    "Når datasettet er slått sammen, lager vi variabelen <code>befolkningstetthet</code>, og finner så høyeste og laveste verdi for denne variabelen."
   ]
  },
  {
   "cell_type": "markdown",
   "metadata": {},
   "source": [
    "#### Laster inn bibliotek:"
   ]
  },
  {
   "cell_type": "code",
   "execution_count": null,
   "metadata": {},
   "outputs": [],
   "source": [
    "from pyspark.sql import DataFrame\n",
    "from pyspark.sql.types import *\n",
    "import pyspark.sql.functions as F"
   ]
  },
  {
   "cell_type": "markdown",
   "metadata": {},
   "source": [
    "#### 1.1  Finne og leses inn datasett"
   ]
  },
  {
   "cell_type": "code",
   "execution_count": null,
   "metadata": {},
   "outputs": [],
   "source": [
    "# lete etter datasettene om innbyggerantall 2020 og areal\n",
    "spark.read.path(\"/felles/veiledning/pyspark/eksempler*\").show(10, False)"
   ]
  },
  {
   "cell_type": "code",
   "execution_count": null,
   "metadata": {},
   "outputs": [],
   "source": [
    "# lese inn datasettet om landenes innbyggerantall i 2020\n",
    "df_areal = spark.read.path(\"/felles/veiledning/pyspark/eksempler/areal\")"
   ]
  },
  {
   "cell_type": "code",
   "execution_count": null,
   "metadata": {},
   "outputs": [],
   "source": [
    "# lese inn datasettet om landenes areal\n",
    "df_innbyggerantall_2020 = spark.read.path(\"/felles/veiledning/pyspark/eksempler/innbyggerantall/2020\")"
   ]
  },
  {
   "cell_type": "code",
   "execution_count": null,
   "metadata": {},
   "outputs": [],
   "source": [
    "# skrive ut dataene\n",
    "print(\"*********************************** AREAL ***********************************\")\n",
    "df_areal.show(50,False)\n",
    "print(\"*********************************** INNBYGGERANTALL 2020 ***********************************\")\n",
    "df_innbyggerantall_2020.show(50,False)"
   ]
  },
  {
   "cell_type": "markdown",
   "metadata": {},
   "source": [
    "#### 1.2 Fjerne observasjoner som er 0\n",
    "Fjerne observasjoner som er 0 for variablene <code>Innbyggerantall</code> (Dvs. Færøyene som vi ser i resultatet over)"
   ]
  },
  {
   "cell_type": "code",
   "execution_count": null,
   "metadata": {},
   "outputs": [],
   "source": [
    "# Filtrerer de observasjonenen hvor Innbyggerantall>0\n",
    "df_innbyggerantall_2020 = df_innbyggerantall_2020.filter(df_innbyggerantall_2020.Innbyggerantall>0)\n",
    "df_innbyggerantall_2020.show(50, False)"
   ]
  },
  {
   "cell_type": "markdown",
   "metadata": {},
   "source": [
    "#### 1.3 Fjerne dubletter\n",
    "Vi ønsker å beholde de dublettene som har høyste verdi for Innbyggerantall og laveste verdi for areal. Det kan vi gjøre ved først å sortere datasettet."
   ]
  },
  {
   "cell_type": "code",
   "execution_count": null,
   "metadata": {},
   "outputs": [],
   "source": [
    "#Sorterer etter land og innbyggerantall og lister ut den sorterte dataframen\n",
    "df_innbyggerantall_2020_sort = df_innbyggerantall_2020.orderBy(['Land','Innbyggerantall'], ascending=[1, 0])\n",
    "print(\"*********************************** INNBYGGERANTALL SORTERT ETTER LAND OG INNBYGGERANTALL ***********************************\")\n",
    "df_innbyggerantall_2020_sort.show(50,False)"
   ]
  },
  {
   "cell_type": "code",
   "execution_count": null,
   "metadata": {},
   "outputs": [],
   "source": [
    "#Tar ut oversikt over de radene med likt \"land\" som forekommer flere enn en gang i dataframen, og sånn sett utgjør den samlede mengden av duplikater\n",
    "df_land_dub_alle  = df_innbyggerantall_2020_sort.join(df_innbyggerantall_2020_sort.groupBy('Land')\\\n",
    "          .count().where('count = 1').drop('count'),\n",
    "          on=['Land'],\n",
    "          how='left_anti')\n",
    "print(\"*********************************** OVERSIKT OVER DUPLIKATER ***********************************\")\n",
    "df_land_dub_alle.show()"
   ]
  },
  {
   "cell_type": "code",
   "execution_count": null,
   "metadata": {},
   "outputs": [],
   "source": [
    "# Fjerner duplikater (flere observasjoner på land)\n",
    "print(\"*********************************** INNBYGGERANTALL UTEN DUBLIKATER. HØYESTE INNBYGGERANTALL ER BEHOLDT ***********************************\")\n",
    "df_innbyggerantall_udub= df_innbyggerantall_2020_sort.drop_duplicates(subset=['Land'])\n",
    "df_innbyggerantall_udub.show(50,False)"
   ]
  },
  {
   "cell_type": "code",
   "execution_count": null,
   "metadata": {},
   "outputs": [],
   "source": [
    "#Sorterer etter land og areal og lister ut den sorterte dataframen\n",
    "print(\"*********************************** AREALDATASETT SORTERT ETTER LAND OG AREAL ***********************************\")\n",
    "\n",
    "df_areal_sort = df_areal.orderBy(['Land','Areal'], ascending=[1, 1])\n",
    "df_areal_sort.show(50,False)\n",
    "\n",
    "#Tar ut oversikt over de radene med likt \"land\" som forekommer flere enn en gang i dataframen, og sånn sett utgjør den samlede mengden av duplikater\n",
    "df_areal_dub_alle  = df_areal_sort.join(df_areal_sort.groupBy('Land')\\\n",
    "          .count().where('count = 1').drop('count'),\n",
    "          on=['Land'],\n",
    "          how='left_anti')\n",
    "\n",
    "print(\"*********************************** OVERSIKT OVER DUPLIKATER ***********************************\")\n",
    "df_areal_dub_alle.show()  \n",
    "\n",
    "print(\"*********************************** AREALDATSETTET UTEN DUBLETTER: MINSTE AREAL BEHOLDT ***********************************\")\n",
    "df_areal_udub= df_areal_sort.drop_duplicates(subset=['Land'])\n",
    "df_areal_udub.show(50,False)"
   ]
  },
  {
   "cell_type": "markdown",
   "metadata": {},
   "source": [
    "#### 1.4 Koble datasett\n",
    "Vi bruker koblingsmetoden 'inner' fordi vi ikke er interessert i forekomster som har missing i enten Innbyggerantall eller Areal."
   ]
  },
  {
   "cell_type": "code",
   "execution_count": null,
   "metadata": {},
   "outputs": [],
   "source": [
    "# Koble sammen datasettene (innbyggerantall og areal). .\n",
    "df_areal_innbyggerantall = df_areal_udub.join(df_innbyggerantall_udub, 'Land', 'inner')\n",
    "\n",
    "print(\"*********************************** SAMMENKOBLET DATASETT ***********************************\")\n",
    "df_areal_innbyggerantall.show(50,False)"
   ]
  },
  {
   "cell_type": "markdown",
   "metadata": {},
   "source": [
    "#### 1.5 Lage en ny variabel"
   ]
  },
  {
   "cell_type": "code",
   "execution_count": null,
   "metadata": {},
   "outputs": [],
   "source": [
    "# Ny variabel for befolkningstetthet\n",
    "df_areal_innbyggerantall = df_areal_innbyggerantall.withColumn('Befolkningstetthet',(df_areal_innbyggerantall['Innbyggerantall']/df_areal_innbyggerantall['Areal']).cast(IntegerType()))\n",
    "\n",
    "print(\"*********************************** SAMMENKOBLET DATASETT MED NY VARIABEL ***********************************\")\n",
    "df_areal_innbyggerantall.show(50,False)"
   ]
  },
  {
   "cell_type": "markdown",
   "metadata": {},
   "source": [
    "1.5 Finne maks og min"
   ]
  },
  {
   "cell_type": "code",
   "execution_count": null,
   "metadata": {},
   "outputs": [],
   "source": [
    "# Finne maks og min av befokningstetthet\n",
    "result = df_areal_innbyggerantall.select([F.min(\"Befolkningstetthet\"), F.max(\"Befolkningstetthet\")])\n",
    "\n",
    "print(\"*********************************** MINIMUM OG MAKSIMUM AV VARIABELEN BEFOLKNINGSTETTHET ***********************************\")\n",
    "result.show()\n"
   ]
  },
  {
   "cell_type": "code",
   "execution_count": null,
   "metadata": {},
   "outputs": [],
   "source": []
  }
 ],
 "metadata": {
  "kernelspec": {
   "display_name": "Pyspark (local)",
   "language": "python",
   "name": "pyspark_local"
  },
  "language_info": {
   "codemirror_mode": {
    "name": "ipython",
    "version": 3
   },
   "file_extension": ".py",
   "mimetype": "text/x-python",
   "name": "python",
   "nbconvert_exporter": "python",
   "pygments_lexer": "ipython3",
   "version": "3.7.6"
  }
 },
 "nbformat": 4,
 "nbformat_minor": 4
}
