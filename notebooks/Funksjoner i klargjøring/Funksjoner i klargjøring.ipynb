{
 "cells": [
  {
   "cell_type": "markdown",
   "metadata": {},
   "source": [
    "## Statistikkfunksjoner i PySPark\n",
    "<font size=2> <p>For å lage et statistikkprodukt trenger vi å bearbeide innsamlede data. Dette kan gjøres ved bruk av funksjoner kodet i ulike språk.  \n",
    "    På den nye plattformen vil flere programmeringsspråk være tilgjengelig, men her vil vi vise eksempler på nyttige funksjoner kodet i PySpark.</p> \n",
    "<p> Skattestatistikk for personer var første statistikk til å ta i bruk den moderniserte plattformen, og dette første løpet ble av ulike grunner stort sett kodet i PySpark. <br> \n",
    "    Dersom en ønsker å bruke PySpark vil man kunne ha nytte av mange av de samme funksjonene vi tok i bruk for Skattestatistikk for personer, og vårt håp er at samlingen av disse  \n",
    "    kodeeksemplene vil være et nyttig hjelpemiddel for å lære mer om hvordan PySpark kan brukes.</p>\n",
    " \n",
    "</font>"
   ]
  },
  {
   "cell_type": "markdown",
   "metadata": {},
   "source": [
    "#### Innhold:\n",
    "- [Beregninger](Beregninger.ipynb)\n",
    "- [Håndtere dubletter](H%C3%A5ndtere%20dubletter.ipynb)\n",
    "- [Koble datasett](Koble%20datasett.ipynb)\n",
    "- [Logisk imputeringt](Logisk%20imputering.ipynb)\n",
    "- [Pivotere](Pivotere.ipynb)\n",
    "- [Sammensette](Sammensette.ipynb)"
   ]
  }
 ],
 "metadata": {
  "kernelspec": {
   "display_name": "Pyspark (local)",
   "language": "python",
   "name": "pyspark_local"
  },
  "language_info": {
   "codemirror_mode": {
    "name": "ipython",
    "version": 3
   },
   "file_extension": ".py",
   "mimetype": "text/x-python",
   "name": "python",
   "nbconvert_exporter": "python",
   "pygments_lexer": "ipython3",
   "version": "3.8.5"
  }
 },
 "nbformat": 4,
 "nbformat_minor": 4
}
