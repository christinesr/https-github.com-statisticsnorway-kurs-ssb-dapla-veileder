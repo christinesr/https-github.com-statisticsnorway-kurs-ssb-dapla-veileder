{
 "cells": [
  {
   "cell_type": "markdown",
   "metadata": {},
   "source": [
    "## Statistikkfunksjoner i PySPark og Python\n",
    "<font size=2> <p>For å lage et statistikkprodukt trenger vi å bearbeide innsamlede data. Dette kan gjøres ved bruk av funksjoner kodet i ulike språk.  \n",
    "    På den nye plattformen vil flere programmeringsspråk være tilgjengelig, men her vil vi vise eksempler på nyttige funksjoner kodet i PySpark og Python.</p> \n",
    "<p> Skattestatistikk for personer var første statistikk til å ta i bruk den moderniserte plattformen. Vi laget da en oversikt over viktige funksjoner som ble brukt i produksjonen av denne statistikken. Siden denne av ulike grunner ble kodet i Pyspark ble disse kodeeksemplene også kodet i Pyspark. <br> \n",
    "    Nå har vi laget tilsvarende eksempler kodet i Python. Vårt håp er at samlingen av disse  \n",
    "    kodeeksemplene vil være et nyttig hjelpemiddel for å lære mer om hvordan PySpark og Python kan brukes i statistikkproduksjonen. Vi har gruppert funksjonseksemplene i følgende underkapitler under hvert av språkene:</p>\n",
    " \n",
    "</font>"
   ]
  },
  {
   "cell_type": "markdown",
   "metadata": {},
   "source": [
    "#### Innhold:\n",
    "### Pyspark\n",
    "- [Beregninger](Beregninger.ipynb)\n",
    "- [Håndtere dubletter](H%C3%A5ndtere%20dubletter.ipynb)\n",
    "- [Koble datasett](Koble%20datasett.ipynb)\n",
    "- [Logisk imputering](Logisk%20imputering.ipynb)\n",
    "- [Pivotere](Pivotere.ipynb)\n",
    "- [Sammensette](Sammensette.ipynb)\n",
    "\n",
    "### Python\n",
    "- [Beregninger](Beregninger-python.ipynb)\n",
    "- [Håndtere dubletter](H%C3%A5ndtere%20dubletter_Python.ipynb)\n",
    "- [Koble datasett](Koble%20datasett%20i%20Python.ipynb)\n",
    "- [Logisk imputering](Logisk-imputering-python.ipynb)\n",
    "- [Pivotere](Pivotere%20i%20Python.ipynb)\n",
    "- [Sammensette](Sammensette.ipynb)"
   ]
  },
  {
   "cell_type": "code",
   "execution_count": null,
   "metadata": {},
   "outputs": [],
   "source": []
  }
 ],
 "metadata": {
  "kernelspec": {
   "display_name": "Pyspark (local)",
   "language": "python",
   "name": "pyspark_local"
  },
  "language_info": {
   "codemirror_mode": {
    "name": "ipython",
    "version": 3
   },
   "file_extension": ".py",
   "mimetype": "text/x-python",
   "name": "python",
   "nbconvert_exporter": "python",
   "pygments_lexer": "ipython3",
   "version": "3.8.6"
  }
 },
 "nbformat": 4,
 "nbformat_minor": 4
}
