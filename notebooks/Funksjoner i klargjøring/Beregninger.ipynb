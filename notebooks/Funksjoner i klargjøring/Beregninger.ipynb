{
 "cells": [
  {
   "cell_type": "markdown",
   "metadata": {},
   "source": [
    "## Beregne\n",
    "<font size=2>Veilederen har forløpig eksempler for funksjonene <b>avlede variabler</b> og <b>fordelingsberegninger</b></font>"
   ]
  },
  {
   "cell_type": "markdown",
   "metadata": {},
   "source": [
    "<font size=2><b>Avlede variabler:</b> <code>dataframe<b>.withColumn</b>('avledet variabel','avledningsbetingelse|avledning')</code>\n",
    "\n",
    "Eksempel: Summere variabelene x og y fra et datasett df til en ny variabel y: <code>df.withcolumn('z',df['x'] + df['y'])</code>\n",
    "\n",
    "I eksemplet under lager vi en ny variabel <b>Befolkningstetthet</b> fra variablene <i>innbyggerantall</i> og <i>areal</i>,  men først må vi koble datasettene df_innbyggerantall og df_areal\n",
    "</font>"
   ]
  },
  {
   "cell_type": "markdown",
   "metadata": {},
   "source": [
    "#### Importere biblioteker (kode)"
   ]
  },
  {
   "cell_type": "code",
   "execution_count": null,
   "metadata": {},
   "outputs": [],
   "source": [
    "from pyspark.sql import DataFrame\n",
    "from pyspark.sql.types import *\n",
    "import pyspark.sql.functions as F"
   ]
  },
  {
   "cell_type": "markdown",
   "metadata": {},
   "source": [
    "#### Hente eksempeldata (kode)"
   ]
  },
  {
   "cell_type": "code",
   "execution_count": null,
   "metadata": {},
   "outputs": [],
   "source": [
    "df_areal = spark.read.parquet(\"gs://ssb-prod-dapla-felles-data-delt/felles/veiledning/pyspark/eksempler/areal\")\n",
    "df_bnp = spark.read.parquet(\"gs://ssb-prod-dapla-felles-data-delt/felles/veiledning/pyspark/eksempler/bnp\")\n",
    "df_innbyggerantall = spark.read.parquet(\"gs://ssb-prod-dapla-felles-data-delt/felles/veiledning/pyspark/eksempler/innbyggerantall/2020\")"
   ]
  },
  {
   "cell_type": "markdown",
   "metadata": {},
   "source": [
    "#### Koble datasettene med areal og innbyggerantall sammen (kode)"
   ]
  },
  {
   "cell_type": "code",
   "execution_count": null,
   "metadata": {},
   "outputs": [],
   "source": [
    "#Først fjerner vi de kolonnene vi ikke trenger for eksempelet\n",
    "df_areal=df_areal.drop('Årstall', 'Landkode', 'Kilde')\n",
    "df_innbyggerantall = df_innbyggerantall.drop('År','Landkode','Kilde')\n",
    "\n",
    "#Så kobles datasettene sammen med koblingsnøkkelen 'outer' (dvs. union)\n",
    "df_areal_innbyggerantall = df_areal.join(df_innbyggerantall, 'Land','outer')"
   ]
  },
  {
   "cell_type": "markdown",
   "metadata": {},
   "source": [
    "#### Avlede variabelen befolkningstetthet med withColumn (kode)"
   ]
  },
  {
   "cell_type": "code",
   "execution_count": null,
   "metadata": {},
   "outputs": [],
   "source": [
    "df_areal_innbyggerantall = df_areal_innbyggerantall.withColumn('Befolkningstetthet',df_areal_innbyggerantall['Innbyggerantall']/df_areal_innbyggerantall['Areal'])\n",
    "df_areal_innbyggerantall.show()"
   ]
  },
  {
   "cell_type": "markdown",
   "metadata": {},
   "source": [
    "### Fordelingsberegninger\n",
    "<font size=2>\n",
    "<ul>\n",
    "<li>Snitt    : <code>dataframe.<b>groupBy</b>(\"grupperingsvariabel\").<b>agg</b>(<b>mean</b>('variabel man skal beregne gjennomsnittet av'))</code>\n",
    "<li>Antall   : <code>dataframe.<b>groupBy</b>(\"grupperingsvariabel\").<b>count()</b></code>\n",
    "<li>Minimum  : <code>dataframe.<b>groupBy</b>(\"grupperingsvariabel\").<b>agg</b>(<b>min</b>('variabel man skal beregne minste verdi av'))</code>\n",
    "<li>Maksimum : <code>dataframe.<b>groupBy</b>(\"grupperingsvariabel\").<b>agg</b>(<b>max</b>('variabel man skal beregne maksverdi av'))</code>\n",
    "</ul>\n",
    "\n",
    "Nødvendige biblioteker:\n",
    "<code>from pyspark.sql.functions import mean, min, max</code>\n",
    "</font>"
   ]
  },
  {
   "cell_type": "markdown",
   "metadata": {},
   "source": [
    "### Lage en grupperingsvariabel\n",
    "<font size=2>For å vise eksempler på fordelingsberegninger lager vi en grupperingsvariabel på befolkningstetthet: <b>Tetthetsgruppe</b> hvor befolkningstetthet under 100 er gruppe 1 mens de over er i gruppe 2. Dette gjøres ved å benytte en logisk betingelse med funksjonene <code>when('betingelse', 'sannverdi').otherwise('usannverdi')</code> i kombinasjon med <code>withColumn</code>. For å kunne sette en konstantverdi (1 eller 2) må vi benytte funksjonen <code>lit('konstantverdi')</code>.\n",
    "\n",
    "Funksjonene <code>when</code> og <code>lit()</code> krever import av bibliotek:\n",
    "<code>import pyspark.sql.functions as F</code>\n",
    "\n",
    "</font>"
   ]
  },
  {
   "cell_type": "markdown",
   "metadata": {},
   "source": [
    "#### Avlede variabelen tetthetsgruppe med withColumn (kode)"
   ]
  },
  {
   "cell_type": "code",
   "execution_count": null,
   "metadata": {},
   "outputs": [],
   "source": [
    "df_areal_innbyggerantall = df_areal_innbyggerantall.withColumn('Tetthetsgruppe', F.when(df_areal_innbyggerantall.Befolkningstetthet<100,F.lit(1)).otherwise(F.lit(2)))\n",
    "df_areal_innbyggerantall.show()"
   ]
  },
  {
   "cell_type": "markdown",
   "metadata": {},
   "source": [
    "#### Telle opp antall land i de ulike gruppene (kode)"
   ]
  },
  {
   "cell_type": "code",
   "execution_count": null,
   "metadata": {},
   "outputs": [],
   "source": [
    "tetthetsgruppe_count = df_areal_innbyggerantall.groupBy(df_areal_innbyggerantall.Tetthetsgruppe).count()\n",
    "tetthetsgruppe_count.show()"
   ]
  },
  {
   "cell_type": "markdown",
   "metadata": {},
   "source": [
    "#### Gjennomsnitt og maks innbyggerantall pr gruppe (kode)"
   ]
  },
  {
   "cell_type": "code",
   "execution_count": null,
   "metadata": {},
   "outputs": [],
   "source": [
    "tetthetsgruppe_mean_max = df_areal_innbyggerantall.\\\n",
    "                            groupBy(df_areal_innbyggerantall.Tetthetsgruppe).agg(\\\n",
    "                            F.mean(df_areal_innbyggerantall.Innbyggerantall).cast(LongType()),\\\n",
    "                            F.max(df_areal_innbyggerantall.Innbyggerantall))\n",
    "tetthetsgruppe_mean_max.printSchema()\n",
    "\n",
    "tetthetsgruppe_mean_max.show()"
   ]
  },
  {
   "cell_type": "markdown",
   "metadata": {},
   "source": [
    "### Summere en kolonne og telle opp antall forekomster\n",
    "<font size=2>Sum: <code><i>dataframe</i>.select().F.sum(<i>dataframe.kolonnenavn</i>).collect()[0][0]</code>\n",
    "Antall: <code><i>dataframe</i>.select().F.count(<i>dataframe.kolonnenavn</i>).collect()[0][0]</code>\n",
    "\n",
    "Grunnen til at det står [0][0] er at spørringen gir en dataframe tilbake og ikke et tall. Så [0][0] viser til den første raden i den første kolonnen i dataframen. I dette tilfellet er det den eneste elementen i dataframen så da må det være [0][0]. Ved å gjøre dette får vi et tall tilbake, og ikke en dataframe\n",
    "</font>"
   ]
  },
  {
   "cell_type": "markdown",
   "metadata": {},
   "source": [
    "#### Summere og telle opp (kode)"
   ]
  },
  {
   "cell_type": "code",
   "execution_count": null,
   "metadata": {},
   "outputs": [],
   "source": [
    "sum_antall_innbygger = df_areal_innbyggerantall.select(F.sum(df_areal_innbyggerantall.Innbyggerantall)).collect()[0][0]\n",
    "\n",
    "print(\"antall innbyggere : \"+ repr(sum_antall_innbygger))\n",
    "\n",
    "antall_land = df_areal_innbyggerantall.select(F.count(df_areal_innbyggerantall.Innbyggerantall)).collect()[0][0]\n",
    "\n",
    "\n",
    "print(\"antall land : \"+ repr(antall_land))"
   ]
  },
  {
   "cell_type": "code",
   "execution_count": null,
   "metadata": {},
   "outputs": [],
   "source": []
  }
 ],
 "metadata": {
  "kernelspec": {
   "display_name": "Pyspark (local)",
   "language": "python",
   "name": "pyspark_local"
  },
  "language_info": {
   "codemirror_mode": {
    "name": "ipython",
    "version": 3
   },
   "file_extension": ".py",
   "mimetype": "text/x-python",
   "name": "python",
   "nbconvert_exporter": "python",
   "pygments_lexer": "ipython3",
   "version": "3.9.10"
  }
 },
 "nbformat": 4,
 "nbformat_minor": 4
}
