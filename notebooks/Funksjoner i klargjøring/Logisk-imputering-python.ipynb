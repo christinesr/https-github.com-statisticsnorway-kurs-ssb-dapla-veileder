{
 "cells": [
  {
   "cell_type": "markdown",
   "metadata": {},
   "source": [
    "## Logisk imputering\n",
    "<font size = 2>Logisk imputering er å tilordne en variabel en verdi utledet fra logiske regler:\n",
    "- Hvis betingelse er sann, så skal verdi A settes\n",
    "- Hvis  betingelse er sann, så skal verdi A settes, hvis ikke, så skal verdi B settes"
   ]
  },
  {
   "cell_type": "markdown",
   "metadata": {},
   "source": [
    "### Funksjoner for logisk imputering\n",
    "<font size=2>Det er blitt laget tre funksjonene i Python som henholdsvis endrer en negativ verdi til tallet 0, en negativ verdi til positiv verdi, og en missingverdi til tallet 0. Selve koden finnes i neste paragraf og eksempler på hvordan de brukes finnes lenger ned i noten:\n",
    "<li> <code>set_neg_to_zero(df, col_names)</code>:\n",
    "<li> <code>set_neg_to_plus(df, col_names)</code>:\n",
    "<li> <code>set_miss_to_zero(df, col_names)</code>:\n",
    "<ul>\n",
    "</font>"
   ]
  },
  {
   "cell_type": "code",
   "execution_count": null,
   "metadata": {},
   "outputs": [],
   "source": [
    "def set_neg_to_zero(df, col_names):\n",
    "    for col_name in col_names:\n",
    "        df[col_name] = df[col_name].apply(lambda x: 0 if x<0 else x)\n",
    "    return df\n",
    "\n",
    "def set_neg_to_plus(df, col_names):\n",
    "    for col_name in col_names:\n",
    "        df[col_name] = df[col_name].apply(lambda x: abs(x) if x<0 else x)\n",
    "    return df\n",
    "    \n",
    "def set_miss_to_zero(df, col_names):\n",
    "    for col_name in col_names:\n",
    "        df[col_name] = df[col_name].apply(lambda x: 0 if pd.isna(x) else x)\n",
    "    return df"
   ]
  },
  {
   "cell_type": "markdown",
   "metadata": {},
   "source": [
    "#### Importere biblioteker og sette displayopsjoner"
   ]
  },
  {
   "cell_type": "code",
   "execution_count": null,
   "metadata": {},
   "outputs": [],
   "source": [
    "import dapla as dp\n",
    "import pandas as pd\n",
    "import numpy as np\n",
    "\n",
    "pd.options.display.max_colwidth = 5000\n",
    "pd.options.display.float_format = \"{:.2f}\".format"
   ]
  },
  {
   "cell_type": "markdown",
   "metadata": {},
   "source": [
    "#### Leser inn eksempeldataene"
   ]
  },
  {
   "cell_type": "code",
   "execution_count": null,
   "metadata": {},
   "outputs": [],
   "source": [
    "df_areal = dp.read_pandas(\"/felles/veiledning/pyspark/eksempler/areal\")\n",
    "df_bnp = dp.read_pandas(\"/felles/veiledning/pyspark/eksempler/bnp\")\n",
    "df_innbyggerantall_2020 = dp.read_pandas(\"/felles/veiledning/pyspark/eksempler/innbyggerantall/2020\")\n",
    "df_innbyggerantall_2018 = dp.read_pandas(\"/felles/veiledning/pyspark/eksempler/innbyggerantall/2018\")"
   ]
  },
  {
   "cell_type": "markdown",
   "metadata": {},
   "source": [
    "#### Koble innbyggerantall på arealdatasett (koblingsnøkkel er Landkode) til bruk for å illustrere logisk imputering (kode)"
   ]
  },
  {
   "cell_type": "code",
   "execution_count": null,
   "metadata": {},
   "outputs": [],
   "source": [
    "df_areal_innbyggerantall_20 = pd.merge(df_areal, df_innbyggerantall_2020, how='left', on='Landkode')\n",
    "\n",
    "#viser hvilke land med areal (venstre sett) som ikke har registrert innbyggerantall 2020\n",
    "df_areal_innbyggerantall_20.loc[pd.isna(df_areal_innbyggerantall_20.Innbyggerantall)]"
   ]
  },
  {
   "cell_type": "markdown",
   "metadata": {},
   "source": [
    "#### Erstatte missing-verdier i innbyggertall ved bruk av funksjonen set_miss_to_zero (kode)"
   ]
  },
  {
   "cell_type": "code",
   "execution_count": null,
   "metadata": {},
   "outputs": [],
   "source": [
    "# kaller på funksjonen set_miss_to_zero\n",
    "df_areal_innbyggerantall_20 = set_miss_to_zero(df_areal_innbyggerantall_20,col_names={'Innbyggerantall','År','Kilde_y','Land_y'})\n",
    "\n",
    "# viser resultat av funksjonen\n",
    "df_areal_innbyggerantall_20.loc[pd.isna(df_areal_innbyggerantall_20.Innbyggerantall)]"
   ]
  },
  {
   "cell_type": "markdown",
   "metadata": {},
   "source": [
    "#### Erstatte negativ verdi i bnp med 0 ved bruk av funksjonen set_neg_to_zero (kode)"
   ]
  },
  {
   "cell_type": "code",
   "execution_count": null,
   "metadata": {},
   "outputs": [],
   "source": [
    "# Rydder først ut missing-verdier\n",
    "df_bnp.drop(df_bnp.loc[pd.isna(df_bnp.BNP)].index, axis=0, inplace=True)\n",
    "\n",
    "# gjør om BNP til integer\n",
    "df_bnp.BNP = df_bnp.BNP.astype('Int64')\n",
    "\n",
    "# skriver ut observasjoner hvor BNP<0\n",
    "df_bnp.loc[df_bnp.BNP<0]"
   ]
  },
  {
   "cell_type": "code",
   "execution_count": null,
   "metadata": {},
   "outputs": [],
   "source": [
    "# kaller på funksjonen set_neg_to_zero\n",
    "df_bnp_imp_zero = set_neg_to_zero(df_bnp.copy(),['BNP'])\n",
    "\n",
    "# viser resultatet av funksjonen\n",
    "df_bnp_imp_zero.loc[df_bnp.Landkode.isin(['PT','SI'])]"
   ]
  },
  {
   "cell_type": "code",
   "execution_count": null,
   "metadata": {},
   "outputs": [],
   "source": [
    "# Ser at opprinnelig datasett har fortsatt opprinnelig verdi\n",
    "df_bnp.loc[df_bnp.Landkode.isin(['PT','SI'])]"
   ]
  },
  {
   "cell_type": "markdown",
   "metadata": {},
   "source": [
    "#### Erstatte negativ verdi med absoluttverdien ved bruk av funksjonen set_neg_to_plus (kode)"
   ]
  },
  {
   "cell_type": "code",
   "execution_count": null,
   "metadata": {},
   "outputs": [],
   "source": [
    "# kaller på funksjonen set_neg_to_plus\n",
    "df_bnp_imp_plus = set_neg_to_plus(df_bnp.copy(),['BNP'])\n",
    "\n",
    "# viser resultatet av funksjonen\n",
    "df_bnp_imp_plus.loc[df_bnp.Landkode.isin(['PT','SI'])]"
   ]
  },
  {
   "cell_type": "code",
   "execution_count": null,
   "metadata": {},
   "outputs": [],
   "source": []
  }
 ],
 "metadata": {
  "kernelspec": {
   "display_name": "Python 3",
   "language": "python",
   "name": "python3"
  },
  "language_info": {
   "codemirror_mode": {
    "name": "ipython",
    "version": 3
   },
   "file_extension": ".py",
   "mimetype": "text/x-python",
   "name": "python",
   "nbconvert_exporter": "python",
   "pygments_lexer": "ipython3",
   "version": "3.8.6"
  }
 },
 "nbformat": 4,
 "nbformat_minor": 4
}
