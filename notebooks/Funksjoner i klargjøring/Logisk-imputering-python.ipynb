{
 "cells": [
  {
   "cell_type": "markdown",
   "metadata": {},
   "source": [
    "## Logisk imputering\n",
    "<font size = 2>Logisk imputering er å tilordne en variabel en verdi utledet fra logiske regler:\n",
    "- Hvis betingelse er sann, så skal verdi A settes\n",
    "- Hvis  betingelse er sann, så skal verdi A settes, hvis ikke, så skal verdi B settes"
   ]
  },
  {
   "cell_type": "markdown",
   "metadata": {},
   "source": [
    "### Funksjoner for logisk imputering\n",
    "<font size=2>Det er blitt laget tre funksjonene i Python som henholdsvis endrer en negativ verdi til tallet 0, en negativ verdi til positiv verdi, og en missingverdi til tallet 0. Selve koden finnes i neste paragraf og eksempler på hvordan de brukes finnes lenger ned i noten:\n",
    "<li> <code>set_neg_to_zero(df, col_names)</code>:\n",
    "<li> <code>set_neg_to_plus(df, col_names)</code>:\n",
    "<li> <code>set_miss_to_zero(df, col_names)</code>:\n",
    "<ul>\n",
    "</font>"
   ]
  },
  {
   "cell_type": "code",
   "execution_count": null,
   "metadata": {},
   "outputs": [],
   "source": [
    "def set_neg_to_zero(df, col_names):\n",
    "    for col_name in col_names:\n",
    "        df[col_name] = df[col_name].apply(lambda x: 0 if x<0 else x)\n",
    "    return df\n",
    "\n",
    "def set_neg_to_plus(df, col_names):\n",
    "    for col_name in col_names:\n",
    "        df[col_name] = df[col_name].apply(lambda x: abs(x) if x<0 else x)\n",
    "    return df\n",
    "    \n",
    "def set_miss_to_zero(df, col_names):\n",
    "    for col_name in col_names:\n",
    "        df[col_name] = df[col_name].apply(lambda x: 0 if pd.isna(x) else x)\n",
    "    return df"
   ]
  },
  {
   "cell_type": "markdown",
   "metadata": {},
   "source": [
    "#### Importere biblioteker"
   ]
  },
  {
   "cell_type": "code",
   "execution_count": null,
   "metadata": {},
   "outputs": [],
   "source": [
    "import dapla as dp\n",
    "import pandas as pd"
   ]
  },
  {
   "cell_type": "markdown",
   "metadata": {},
   "source": [
    "#### Leser inn eksempeldataene"
   ]
  },
  {
   "cell_type": "code",
   "execution_count": null,
   "metadata": {},
   "outputs": [],
   "source": [
    "df_areal = dp.read_pandas(\"/felles/veiledning/pyspark/eksempler/areal\")\n",
    "df_bnp = dp.read_pandas(\"/felles/veiledning/pyspark/eksempler/bnp\")\n",
    "df_innbyggerantall_2020 = dp.read_pandas(\"/felles/veiledning/pyspark/eksempler/innbyggerantall/2020\")\n",
    "df_innbyggerantall_2018 = dp.read_pandas(\"/felles/veiledning/pyspark/eksempler/innbyggerantall/2018\")"
   ]
  },
  {
   "cell_type": "markdown",
   "metadata": {},
   "source": [
    "#### Koble innbyggerantall på arealdatasett (koblingsnøkkel er Landkode) til bruk for å illustrere logisk imputering (kode)"
   ]
  },
  {
   "cell_type": "code",
   "execution_count": null,
   "metadata": {},
   "outputs": [],
   "source": [
    "df_areal_innbyggerantall_20 = pd.merge(df_areal, df_innbyggerantall_2020, how='left', on='Landkode')\n",
    "df_areal_innbyggerantall_20"
   ]
  },
  {
   "cell_type": "markdown",
   "metadata": {},
   "source": [
    "#### Erstatte missing-verdier i innbyggertall ved bruk av funksjonen set_miss_to_zero (kode)"
   ]
  },
  {
   "cell_type": "code",
   "execution_count": null,
   "metadata": {},
   "outputs": [],
   "source": [
    "df_areal_innbyggerantall_20 = set_miss_to_zero(df_areal_innbyggerantall_20,col_names={'Innbyggerantall','År','Kilde_y','Land_y'})"
   ]
  },
  {
   "cell_type": "code",
   "execution_count": null,
   "metadata": {},
   "outputs": [],
   "source": [
    "df_areal_innbyggerantall_20"
   ]
  },
  {
   "cell_type": "code",
   "execution_count": null,
   "metadata": {},
   "outputs": [],
   "source": []
  }
 ],
 "metadata": {
  "kernelspec": {
   "display_name": "Python 3",
   "language": "python",
   "name": "python3"
  },
  "language_info": {
   "codemirror_mode": {
    "name": "ipython",
    "version": 3
   },
   "file_extension": ".py",
   "mimetype": "text/x-python",
   "name": "python",
   "nbconvert_exporter": "python",
   "pygments_lexer": "ipython3",
   "version": "3.8.6"
  }
 },
 "nbformat": 4,
 "nbformat_minor": 4
}
