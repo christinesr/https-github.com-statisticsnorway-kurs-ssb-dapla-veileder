{
 "cells": [
  {
   "cell_type": "markdown",
   "metadata": {},
   "source": [
    "# Håndtere dubletter i Python"
   ]
  },
  {
   "cell_type": "markdown",
   "metadata": {},
   "source": [
    "### Avsnitt i denne noten:\n",
    "<font size=2>Vi tar utgangspunkt i datasettet med landenes innbyggertall.\n",
    "<ol>\n",
    "<li>Lese inn og vise dataframe ved bruk av Dapla Python-pakken\n",
    "<li>Sortere dataframe etter kolonne\n",
    "<li>Telle opp antall duplikater i form av identiske rader i dataframen og vise i liste\n",
    "<li>Telle opp antall duplikater i en kolonne og vise i liste\n",
    "<li>Fjerne duplikater der radene er identiske og teller opp antall rader i den nye dataframen\n",
    "<li>Fjerne/droppe rader med duplikat på en kolonne og teller opp antall rader i den nye dataframen \n",
    "</ol>\n",
    "</font>"
   ]
  },
  {
   "cell_type": "markdown",
   "metadata": {},
   "source": [
    "#### Importerer biblioteker"
   ]
  },
  {
   "cell_type": "code",
   "execution_count": null,
   "metadata": {},
   "outputs": [],
   "source": [
    "import dapla as dp\n",
    "import pandas as pd"
   ]
  },
  {
   "cell_type": "markdown",
   "metadata": {},
   "source": [
    "### 1. Lese inn og vise dataframe ved bruk Dapla Python-pakken \n",
    "<font size=2>Lese inn dataframe:<code><i>dp.read_pandas('/felles/sti')</i></code>"
   ]
  },
  {
   "cell_type": "markdown",
   "metadata": {},
   "source": [
    "#### Leser inn og viser dataframen \"df_innbyggertall\" "
   ]
  },
  {
   "cell_type": "code",
   "execution_count": null,
   "metadata": {},
   "outputs": [],
   "source": [
    "#Her leses dataframen inn fra dataplattformen som vi ønsker å undersøke nærmere for dubletter\n",
    "df_innbyggerantall = dp.read_pandas('/felles/veiledning/pyspark/eksempler/innbyggerantall/2020')\n",
    "\n",
    "# Her vises dataframen vi har lest inn \n",
    "df_innbyggerantall"
   ]
  },
  {
   "cell_type": "markdown",
   "metadata": {},
   "source": [
    "### 2. Sortere dataframe etter kolonner\n",
    "<font size=2>Sortere dataframe etter kolonner:<code><i>df.sort_values(by=['kol1', 'kol2'])</i></code>"
   ]
  },
  {
   "cell_type": "markdown",
   "metadata": {},
   "source": [
    "#### Sortert etter variabelen 'Land', 'År' og 'Innbyggerantall'"
   ]
  },
  {
   "cell_type": "code",
   "execution_count": null,
   "metadata": {},
   "outputs": [],
   "source": [
    "#Sorterer dataframen etter variablene \"land\", \"År\" og \"Innbyggerantall\" ved hjelp av:  \n",
    "df_land_sort = df_innbyggerantall.sort_values(by=['Land', 'År', 'Innbyggerantall'])"
   ]
  },
  {
   "cell_type": "code",
   "execution_count": null,
   "metadata": {},
   "outputs": [],
   "source": [
    "#lister ut den sorterte dataframen\n",
    "df_land_sort"
   ]
  },
  {
   "cell_type": "markdown",
   "metadata": {},
   "source": [
    "### 3. Telle opp antall duplikater i form av identiske rader i dataframen og vise i liste\n",
    "<font size=2>Finne identiske rader i en dataframe:<code><i>df.duplicated(keep = False)</i></code>"
   ]
  },
  {
   "cell_type": "code",
   "execution_count": null,
   "metadata": {},
   "outputs": [],
   "source": [
    "# Må sette 'keep = False' for å be funksjonen telle alle forekomster. Hvis vi velger 'keep = First' eller 'keep = Last' telles \n",
    "#alle duplikate rader bortsett fra den første eller siste. First' er default.\n",
    "print(df_land_sort.duplicated(keep = False).sum())"
   ]
  },
  {
   "cell_type": "markdown",
   "metadata": {},
   "source": [
    "#### Printer ut alle identiske rader."
   ]
  },
  {
   "cell_type": "code",
   "execution_count": null,
   "metadata": {},
   "outputs": [],
   "source": [
    "# Skriver ut alle identiske rader i dataframen\n",
    "df_land_sort[df_land_sort.duplicated(keep=False)]"
   ]
  },
  {
   "cell_type": "markdown",
   "metadata": {},
   "source": [
    "#### Kan også velge å vise alle duplikate rader bortsett fra den første eller siste"
   ]
  },
  {
   "cell_type": "code",
   "execution_count": null,
   "metadata": {},
   "outputs": [],
   "source": [
    "# Hvis vi ønsker å velge alle duplikate rader bortsett fra den første eller siste, kan vi sette keep='first' eller 'last'. \n",
    "#'First' er default.\n",
    "df_land_sort[df_land_sort.duplicated(keep= 'last')]"
   ]
  },
  {
   "cell_type": "markdown",
   "metadata": {},
   "source": [
    "### 4. Telle opp antall duplikater i en kolonne og vise i liste\n",
    "<font size=2>Finne duplikater i en kolonne i en dataframe:<code><i>df.duplicated(subset = ['kolnavn'])</i></code>"
   ]
  },
  {
   "cell_type": "markdown",
   "metadata": {},
   "source": [
    "#### Antall duplikater i variabelen 'Land' i dataframen 'df_innbyggerantall' "
   ]
  },
  {
   "cell_type": "code",
   "execution_count": null,
   "metadata": {},
   "outputs": [],
   "source": [
    "# Siden 'keep = False' over, får vi her med alle duplikater på 'Land'\n",
    "df_land_sort.duplicated(subset = ['Land'], keep = False).sum()"
   ]
  },
  {
   "cell_type": "markdown",
   "metadata": {},
   "source": [
    "#### Lager ny dataframe 'df_land_dup' med dublettene i variabelen 'land' (kode)"
   ]
  },
  {
   "cell_type": "code",
   "execution_count": null,
   "metadata": {},
   "outputs": [],
   "source": [
    "#lager ny dataframe bestående av land og tilhørende duplikater. Velger her å ta med alle duplikater. \n",
    "df_land_dup = df_land_sort[df_land_sort.duplicated(subset = ['Land'], keep = False)]\n",
    "df_land_dup"
   ]
  },
  {
   "cell_type": "markdown",
   "metadata": {},
   "source": [
    "#### Tar ut oversikt over antall duplikater i variabelen 'Land'"
   ]
  },
  {
   "cell_type": "code",
   "execution_count": null,
   "metadata": {},
   "outputs": [],
   "source": [
    "# Tar ut oversikt over antall duplikater på kolonnen 'Land'. Siden 'keep = False' over, får vi her alle duplikater på 'Land'\n",
    "df_land_dup.pivot_table(index = ['Land'], aggfunc ='size') "
   ]
  },
  {
   "cell_type": "markdown",
   "metadata": {},
   "source": [
    "### 5. Fjerne duplikater der radene er identiske og teller opp antall rader i den nye dataframen\n",
    "<font size=2>Fjerne duplikater i en dataframe:<code><i>df.drop_duplicates()</i></code>"
   ]
  },
  {
   "cell_type": "markdown",
   "metadata": {},
   "source": [
    "#### Fjerne/dropper rader som er helt like"
   ]
  },
  {
   "cell_type": "code",
   "execution_count": null,
   "metadata": {},
   "outputs": [],
   "source": [
    "# 'Keep = False' dropper alle like duplikater, Keep = 'first' dropper alle bortsett fra første og Keep = 'last' dropper alle bortsett fra siste.\n",
    "df_land_udup = df_land_sort.drop_duplicates(keep = 'last')\n",
    "df_land_udup"
   ]
  },
  {
   "cell_type": "markdown",
   "metadata": {},
   "source": [
    "#### Teller opp antall rader i dataframen der de identiske radene unntatt den siste er fjernet"
   ]
  },
  {
   "cell_type": "code",
   "execution_count": null,
   "metadata": {},
   "outputs": [],
   "source": [
    "# Teller opp antall rader \n",
    "len(df_land_udup)"
   ]
  },
  {
   "cell_type": "markdown",
   "metadata": {},
   "source": [
    "#### Lister ut duplikatene"
   ]
  },
  {
   "cell_type": "code",
   "execution_count": null,
   "metadata": {},
   "outputs": [],
   "source": [
    "df_dupl = df_land_sort[df_land_sort.duplicated(keep = 'last')]\n",
    "df_dupl"
   ]
  },
  {
   "cell_type": "markdown",
   "metadata": {},
   "source": [
    "### 6. Fjerne/droppe rader med duplikat på en kolonne og teller opp antall rader i den nye dataframen \n",
    "<font size=2>Fjerne rader med duplikat på en kolonne i en dataframe:<code><i>df.drop_duplicates(subset = ['kolnavn'])</i></code>"
   ]
  },
  {
   "cell_type": "markdown",
   "metadata": {},
   "source": [
    "#### Vil beholde observasjonen med høyest innbyggerantall fra år 2020"
   ]
  },
  {
   "cell_type": "code",
   "execution_count": null,
   "metadata": {},
   "outputs": [],
   "source": [
    "#Fjerner/dropper rader med duplikat på land og beholder den med høyest innbyggerantall fra år 2020. Dette får vi ved å bruke \n",
    "# 'keep = 'last'' fordi vi allerede har sortert dataframen stigende etter land, år og innbyggerantall.\n",
    "df_land_koludup = df_land_sort.drop_duplicates(subset = ['Land'], keep = 'last')\n",
    "df_land_koludup"
   ]
  },
  {
   "cell_type": "code",
   "execution_count": null,
   "metadata": {},
   "outputs": [],
   "source": [
    "# Teller opp antall rader \n",
    "len(df_land_koludup)"
   ]
  },
  {
   "cell_type": "markdown",
   "metadata": {},
   "source": [
    "#### Lister ut duplikatene"
   ]
  },
  {
   "cell_type": "code",
   "execution_count": null,
   "metadata": {},
   "outputs": [],
   "source": [
    "df_dup = df_land_sort[df_land_sort.duplicated(subset = ['Land'], keep = 'last')]\n",
    "df_dup"
   ]
  },
  {
   "cell_type": "code",
   "execution_count": null,
   "metadata": {},
   "outputs": [],
   "source": []
  }
 ],
 "metadata": {
  "kernelspec": {
   "display_name": "Python 3",
   "language": "python",
   "name": "python3"
  },
  "language_info": {
   "codemirror_mode": {
    "name": "ipython",
    "version": 3
   },
   "file_extension": ".py",
   "mimetype": "text/x-python",
   "name": "python",
   "nbconvert_exporter": "python",
   "pygments_lexer": "ipython3",
   "version": "3.8.6"
  }
 },
 "nbformat": 4,
 "nbformat_minor": 4
}
