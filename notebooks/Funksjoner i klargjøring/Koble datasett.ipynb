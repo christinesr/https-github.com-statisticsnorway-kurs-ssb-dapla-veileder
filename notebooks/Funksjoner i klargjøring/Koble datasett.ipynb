{
 "cells": [
  {
   "cell_type": "markdown",
   "metadata": {},
   "source": [
    "## Koble data med join-funksjonen i pyspark\n",
    "<font size=2>Når du skal koble sammen to datasett ved hjelp av koblingsnøkkel eller identifiseringsvariabler slik at datasettet består av variablene fra begge datasett, kan du bruke pyspark funksjonen:\n",
    "<code>join</code>: <i>Joins two SparkDataFrames based on the given join expression.</i> ([spark.apache.org/join](https://spark.apache.org/docs/latest/api/R/join.html))\n",
    "\n",
    "Syntaks:\n",
    "<code><i>dataframe A</i>.join(<i>dataframe B</i>, '<i>kolonnennavn (enhetsnøkkelen)</i>', 'inner|outer|left|right')</code>\n",
    "\n",
    "Eksemplene under kobler sammen datasettene <code>areal</code> og <code>innbyggerantall</code>. Enhetene og nøkkelen er <i>Land</i>. \n",
    "- Det første eksempelet kobler land som er med i begge settene. Det nye datasettet inneholder snittet av land (koblingsmetoden 'inner').\n",
    "- Det andre eksempelet kobler alle landene sammen. Det nye datasettet inneholder unionen av land (koblingsmetode = 'outer').\n",
    "</font>"
   ]
  },
  {
   "cell_type": "markdown",
   "metadata": {},
   "source": [
    "#### Importere biblioteker (kode)"
   ]
  },
  {
   "cell_type": "code",
   "execution_count": null,
   "metadata": {},
   "outputs": [],
   "source": [
    "from pyspark.sql.types import *\n",
    "from pyspark import Row\n",
    "from pyspark.sql import DataFrame\n",
    "\n",
    "import pyspark.sql.functions as F"
   ]
  },
  {
   "cell_type": "markdown",
   "metadata": {},
   "source": [
    "#### Hente eksempeldata (kode)"
   ]
  },
  {
   "cell_type": "code",
   "execution_count": null,
   "metadata": {},
   "outputs": [],
   "source": [
    "df_areal = spark.read.parquet(\"gs://ssb-prod-dapla-felles-data-delt/felles/veiledning/pyspark/eksempler/areal\")\n",
    "df_bnp = spark.read.parquet(\"gs://ssb-prod-dapla-felles-data-delt/felles/veiledning/pyspark/eksempler/bnp\")\n",
    "df_innbyggerantall = spark.read.parquet(\"gs://ssb-prod-dapla-felles-data-delt/felles/veiledning/pyspark/eksempler/innbyggerantall/2020\")"
   ]
  },
  {
   "cell_type": "markdown",
   "metadata": {},
   "source": [
    "### Kontrollere om det er konflikter i variabelnavnene (kolonnene)\n",
    "<font size=2>Når to datasett skal kobles, er det viktig at kolonnene, som ikke er koblingsnøkkel har forskjellige navn. Dette kan løses på forskjellige måter. I dette eksemplet sjekker vi først hva kolonnene heter og deretter endrere vi kolonnennavnene for å unngå konflikt. For å sjekke kolonnenavn kan vi bruke pyspark-funksjonen for å skrive ut <i>skjemaet</i> til datasettet: <code><i>dataframe</i>.printSchema()</code>\n",
    "</font>"
   ]
  },
  {
   "cell_type": "markdown",
   "metadata": {},
   "source": [
    "#### Viser skjemaet til df_areal og df_innbyggerantall (kode)"
   ]
  },
  {
   "cell_type": "code",
   "execution_count": null,
   "metadata": {},
   "outputs": [],
   "source": [
    "df_areal.printSchema()\n",
    "\n",
    "df_innbyggerantall.printSchema()"
   ]
  },
  {
   "cell_type": "markdown",
   "metadata": {},
   "source": [
    "### Endre kolonnennavn (variabelnavn)\n",
    "<font size=2>I eksempelet med datasettene <code>df_areal</code> og <code>df_innbyggerantall</code> ser vi at følgende variabler (kolonnenavn) som bør endres:\n",
    "- <code>df_areal.Årstall</code> er ikke i konflikt med <code>df_innbyggerantall.År</code>, men kan gjerne endres til forståelige navn, som f.eks. <code>df_areal.Registrert_areal</code> og <code>df_innbyggerantall.Registrert_innbyggerantall</code>\n",
    "- <code>df_areal.Kilde</code> --> <code>df_areal.Kilde_areal</code>\n",
    "- <code>df_innbyggerantall.Kilde</code> --> <code>df_innbyggerantall.Kilde_innbyggerantall</code>\n",
    "\n",
    "Land og landkode er konblingsnøkler, så de kan være like.\n",
    "\n",
    "For å endre navn på en kolonne (variabel) i datasettet, brukes pyspark-funksjonen <code><i>dataframe</i>.withColumnRenamed('<i>kolonnenavn</i>','<i>nytt kolonnenavn</i>')</code></font>"
   ]
  },
  {
   "cell_type": "markdown",
   "metadata": {},
   "source": [
    "#### Endre kolonnenavn med pyspark-funksjonen withColumnRenamed (kode)"
   ]
  },
  {
   "cell_type": "code",
   "execution_count": null,
   "metadata": {},
   "outputs": [],
   "source": [
    "df_areal = df_areal.withColumnRenamed('Årstall','Registrert_areal')\n",
    "df_areal = df_areal.withColumnRenamed('Kilde','Kilde_areal')\n",
    "df_innbyggerantall= df_innbyggerantall.withColumnRenamed('År', 'Registrert_innbyggerantall')\n",
    "df_innbyggerantall= df_innbyggerantall.withColumnRenamed('Kilde', 'Kilde_innbyggerantall')\n",
    "\n",
    "df_areal.printSchema()\n",
    "df_innbyggerantall.printSchema()"
   ]
  },
  {
   "cell_type": "markdown",
   "metadata": {},
   "source": [
    "#### Koble land som har areal og innbyggertall (snitt = 'inner') (kode)"
   ]
  },
  {
   "cell_type": "code",
   "execution_count": null,
   "metadata": {},
   "outputs": [],
   "source": [
    "df_areal_innbyggerantall = df_areal.join(df_innbyggerantall, 'Land', 'inner')\n",
    "df_areal_innbyggerantall.show()"
   ]
  },
  {
   "cell_type": "markdown",
   "metadata": {},
   "source": [
    "#### Koble alle landene sammen (union = 'outer') (kode)"
   ]
  },
  {
   "cell_type": "code",
   "execution_count": null,
   "metadata": {},
   "outputs": [],
   "source": [
    "df_areal_innbyggerantall_union = df_areal.join(df_innbyggerantall, 'Land','outer')\n",
    "df_areal_innbyggerantall_union.show()"
   ]
  },
  {
   "cell_type": "code",
   "execution_count": null,
   "metadata": {},
   "outputs": [],
   "source": []
  }
 ],
 "metadata": {
  "kernelspec": {
   "display_name": "Pyspark (local)",
   "language": "python",
   "name": "pyspark_local"
  },
  "language_info": {
   "codemirror_mode": {
    "name": "ipython",
    "version": 3
   },
   "file_extension": ".py",
   "mimetype": "text/x-python",
   "name": "python",
   "nbconvert_exporter": "python",
   "pygments_lexer": "ipython3",
   "version": "3.9.10"
  }
 },
 "nbformat": 4,
 "nbformat_minor": 4
}
