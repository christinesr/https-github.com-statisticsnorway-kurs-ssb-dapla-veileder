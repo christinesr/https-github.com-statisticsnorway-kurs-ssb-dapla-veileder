{
 "cells": [
  {
   "cell_type": "markdown",
   "metadata": {},
   "source": [
    "## Beregne\n",
    "Denne noten har forløpig eksempler for funksjonene <b>avlede variabler</b> og <b>fordelingsberegninger</b>\n"
   ]
  },
  {
   "cell_type": "markdown",
   "metadata": {},
   "source": [
    "#### Importerer bibliotekene Daplas python pakke (dapla) og pandas."
   ]
  },
  {
   "cell_type": "code",
   "execution_count": null,
   "metadata": {},
   "outputs": [],
   "source": [
    "import dapla as dp\n",
    "import pandas as pd"
   ]
  },
  {
   "cell_type": "markdown",
   "metadata": {},
   "source": [
    "### Avlede variabler\n",
    "\n",
    "#### Eksempel: \n",
    "\n",
    "Summere variabelene x og y fra et datasettet \"df\" til en ny variabel z:\n",
    "<code>df['z'] = df['x'] + df['y'] \n",
    "\n",
    "avlede variabel \"a\" ved å dele variabel \"x\" på variabel \"y\":\n",
    "<code>df ['a'] = df['x']/df['y']\n",
    "  \n",
    "I eksemplet under lager vi en ny variabel <b>Befolkningstetthet</b> fra variablene <i>innbyggerantall</i> og <i>areal</i>, men først må vi koble datasettene \"df_innbyggerantall\" og \"df_areal\" sammen til ett datasett."
   ]
  },
  {
   "cell_type": "markdown",
   "metadata": {},
   "source": [
    "### Hente eksempeldata"
   ]
  },
  {
   "cell_type": "markdown",
   "metadata": {},
   "source": [
    "#### Kjører metoden <i>show</i> for å få oversikt over hvilke parquetdatasett som er tilrettelagt i tilknytning veilderens lagringsområde i sky. Oversikt blir lest inn i egen dataframe og blir kalt <i>df_datasets</i>.\n",
    "Aktuelt lagringsområde blir lagt inn som parameter (stringobjekt som vi definerer selv) INNDATA_PATH ."
   ]
  },
  {
   "cell_type": "code",
   "execution_count": null,
   "metadata": {},
   "outputs": [],
   "source": [
    "BUCKET_PREFIX = 'gs://ssb-prod-dapla-felles-data-delt'\n",
    "INNDATA_PATH = '/felles/veiledning/pyspark/eksempler/'\n",
    "df_datasets = pd.DataFrame({'path': dp.show(BUCKET_PREFIX + INNDATA_PATH)})"
   ]
  },
  {
   "cell_type": "markdown",
   "metadata": {},
   "source": [
    "#### df_datasets skrives ut i output vindu. \n",
    "Setter opsjonen max_colwith til 150 slik at vi får se all informasjon i df_datasets i output.<br/>\n",
    "Oversikt over ulike options som kan settes i Pandas:https://pandas.pydata.org/pandas-docs/stable/user_guide/options.html"
   ]
  },
  {
   "cell_type": "code",
   "execution_count": null,
   "metadata": {},
   "outputs": [],
   "source": [
    "pd.options.display.max_colwidth = 150\n",
    "df_datasets"
   ]
  },
  {
   "cell_type": "markdown",
   "metadata": {},
   "source": [
    "#### Avleder variabel filname fra variabelpath"
   ]
  },
  {
   "cell_type": "code",
   "execution_count": null,
   "metadata": {},
   "outputs": [],
   "source": [
    "df_datasets[\"filename\"]= df_datasets[\"path\"].str[len(INNDATA_PATH):]\n",
    "df_datasets"
   ]
  },
  {
   "cell_type": "markdown",
   "metadata": {},
   "source": [
    "#### Selekterer ut rader bestående av de filnavn som vi ønsker å trekke ut for videre bearbeiding. \n",
    "Viser hvordan man kan bruke liste (python list) for å gjøre en slik seleksjon."
   ]
  },
  {
   "cell_type": "code",
   "execution_count": null,
   "metadata": {},
   "outputs": [],
   "source": [
    "filenames = ['areal', 'innbyggerantall/2020']\n",
    "df_datasets = df_datasets[df_datasets.filename.isin(filenames)]\n",
    "df_datasets"
   ]
  },
  {
   "cell_type": "markdown",
   "metadata": {},
   "source": [
    "#### Oppretter dictionaryet dict_df og leser så de tre parquet datasettene i output vindu over inn som dataframes i dictionaryet. \n",
    "Filnavnene blir keys i dictionaryet. Avslutningsvis i pargrafen skrives key-navnene ut i output ."
   ]
  },
  {
   "cell_type": "code",
   "execution_count": null,
   "metadata": {},
   "outputs": [],
   "source": [
    "dict_df = {}\n",
    "for rows in df_datasets.itertuples():\n",
    "    dict_df[rows.filename] = dp.read_pandas(BUCKET_PREFIX + rows.path)\n",
    "for key in dict_df:\n",
    "    print(key)"
   ]
  },
  {
   "cell_type": "markdown",
   "metadata": {},
   "source": [
    "### Skriver ut innhold i dataframene i dictionaryet"
   ]
  },
  {
   "cell_type": "markdown",
   "metadata": {},
   "source": [
    "#### Areal"
   ]
  },
  {
   "cell_type": "code",
   "execution_count": null,
   "metadata": {},
   "outputs": [],
   "source": [
    "dict_df['areal']"
   ]
  },
  {
   "cell_type": "markdown",
   "metadata": {},
   "source": [
    "#### Innbyggerantall 2020"
   ]
  },
  {
   "cell_type": "code",
   "execution_count": null,
   "metadata": {},
   "outputs": [],
   "source": [
    "dict_df['innbyggerantall/2020']"
   ]
  },
  {
   "cell_type": "markdown",
   "metadata": {},
   "source": [
    "#### Fjerner duplikater og kolonner vi ikke ønsker å ha med videre\n",
    "Vi ønsker å sette sammen informasjon fra datasettene i dictinaryet til et nytt datasett. Dette vil vi gjøre ved å koble de sammen via Landkode variabel. Vi fjerner eventuelle dublikater (tar med første forekomst) på Landkode og dropper variable som vi ikke trenger/ønsker å ha med på det nye datasettet i innledende steg under.\n"
   ]
  },
  {
   "cell_type": "markdown",
   "metadata": {},
   "source": [
    "Areal"
   ]
  },
  {
   "cell_type": "code",
   "execution_count": null,
   "metadata": {},
   "outputs": [],
   "source": [
    "dict_df['areal'] = dict_df['areal'].drop_duplicates(subset=\"Land\", keep='first', inplace=False).drop(columns= ['Årstall', 'Kilde', 'Landkode'])"
   ]
  },
  {
   "cell_type": "markdown",
   "metadata": {},
   "source": [
    "Innbyggerantall (bruker liste funksjonalitet)"
   ]
  },
  {
   "cell_type": "code",
   "execution_count": null,
   "metadata": {},
   "outputs": [],
   "source": [
    "liste_drop_kolonner = ['Landkode', 'Kilde', 'År']\n",
    "dict_df['innbyggerantall/2020'] = dict_df['innbyggerantall/2020'].drop_duplicates(subset=\"Landkode\", keep='first', inplace=False).drop(columns=liste_drop_kolonner)"
   ]
  },
  {
   "cell_type": "code",
   "execution_count": null,
   "metadata": {},
   "outputs": [],
   "source": [
    "# Skriver ut dataframe\n",
    "dict_df['innbyggerantall/2020']"
   ]
  },
  {
   "cell_type": "markdown",
   "metadata": {},
   "source": [
    "#### Kobler sammen datasettene og etablerer en dataframe vi skal skrive til dapla for senere å utføre en statistisk analyse på"
   ]
  },
  {
   "cell_type": "markdown",
   "metadata": {},
   "source": [
    "Kobler først areal og bnp og oppretter dataframen df_areal_innb. Vi legger ikke denne dataframen inn i dictionaryet. Det hadde imidlertid enkelt latt seg gjøre ved å f.eks. bytte ut df_areal_innb med dict['areal_innb]."
   ]
  },
  {
   "cell_type": "code",
   "execution_count": null,
   "metadata": {},
   "outputs": [],
   "source": [
    "df_areal_innb = pd.merge(left=dict_df['areal'], right=dict_df['innbyggerantall/2020'], left_on='Land', right_on='Land')"
   ]
  },
  {
   "cell_type": "code",
   "execution_count": null,
   "metadata": {},
   "outputs": [],
   "source": [
    "df_areal_innb"
   ]
  },
  {
   "cell_type": "markdown",
   "metadata": {},
   "source": [
    "### Avlede variabelen <i>befolkningstetthet</i>"
   ]
  },
  {
   "cell_type": "code",
   "execution_count": null,
   "metadata": {},
   "outputs": [],
   "source": [
    "df_areal_innb ['Befolkningstetthet'] = df_areal_innb['Innbyggerantall']/df_areal_innb['Areal']\n",
    "df_areal_innb"
   ]
  },
  {
   "cell_type": "markdown",
   "metadata": {},
   "source": [
    "#### Lage en grupperingsvariabel\n",
    "For å vise eksempler på fordelingsberegninger lager vi en grupperingsvariabel på <b>befolkningstetthet</b>. Landene hvor befolkningstetthet er mindre enn 100 plasseseres i gruppe 1, mens de landene med befolkningstetthet på 100 og større plasseres i gruppe 2. \n",
    "\n",
    "Dette gjøres ved å benytte en logisk betingelse med funksjonen <code> lambda x </code> https://pandas.pydata.org/pandas-docs/stable/reference/api/pandas.DataFrame.apply.html\n",
    "\n",
    "#### Eksempel:\n",
    "<code>df['avledet variabel'] = df['variabel som er utgangspunktet'].apply(lambda x: 'verdi hvis betingelse er sann' if x betingelse else 'verdi hvis ikke sant')</code>"
   ]
  },
  {
   "cell_type": "code",
   "execution_count": null,
   "metadata": {},
   "outputs": [],
   "source": [
    "df_areal_innb['Tetthetsgruppe'] = df_areal_innb['Befolkningstetthet'].apply(lambda x: \"1\" if x<100 else \"2\")"
   ]
  },
  {
   "cell_type": "markdown",
   "metadata": {},
   "source": [
    "#### Telle opp land i de ulike befolkningstetthetsgruppene"
   ]
  },
  {
   "cell_type": "code",
   "execution_count": null,
   "metadata": {},
   "outputs": [],
   "source": [
    "df_areal_innb['Tetthetsgruppe'].value_counts()"
   ]
  },
  {
   "cell_type": "markdown",
   "metadata": {},
   "source": [
    "#### Gjennomsnitt og max innbyggertall per Tetthetsgruppe"
   ]
  },
  {
   "cell_type": "code",
   "execution_count": null,
   "metadata": {},
   "outputs": [],
   "source": [
    "df_areal_innb.groupby(['Tetthetsgruppe']).mean().round(2)"
   ]
  },
  {
   "cell_type": "code",
   "execution_count": null,
   "metadata": {},
   "outputs": [],
   "source": [
    "df_areal_innb.groupby(['Tetthetsgruppe']).max()"
   ]
  },
  {
   "cell_type": "markdown",
   "metadata": {},
   "source": [
    "#### Summere antall innbyggerer"
   ]
  },
  {
   "cell_type": "code",
   "execution_count": null,
   "metadata": {},
   "outputs": [],
   "source": [
    "df_areal_innb['Innbyggerantall'].sum()\n"
   ]
  },
  {
   "cell_type": "markdown",
   "metadata": {},
   "source": [
    "#### Telle antall forekomster i kolonnen \"Innbyggertall\""
   ]
  },
  {
   "cell_type": "code",
   "execution_count": null,
   "metadata": {},
   "outputs": [],
   "source": [
    "df_areal_innb['Innbyggerantall'].count()\n"
   ]
  },
  {
   "cell_type": "code",
   "execution_count": null,
   "metadata": {},
   "outputs": [],
   "source": []
  }
 ],
 "metadata": {
  "kernelspec": {
   "display_name": "Python 3 (ipykernel)",
   "language": "python",
   "name": "python3"
  },
  "language_info": {
   "codemirror_mode": {
    "name": "ipython",
    "version": 3
   },
   "file_extension": ".py",
   "mimetype": "text/x-python",
   "name": "python",
   "nbconvert_exporter": "python",
   "pygments_lexer": "ipython3",
   "version": "3.9.10"
  }
 },
 "nbformat": 4,
 "nbformat_minor": 4
}
