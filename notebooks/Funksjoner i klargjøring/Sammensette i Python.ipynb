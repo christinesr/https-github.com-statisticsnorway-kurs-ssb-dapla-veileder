{
 "cells": [
  {
   "cell_type": "markdown",
   "metadata": {},
   "source": [
    "### Sammensette\n",
    "#### Funksjon for å slå sammen datasett.\n",
    "<font size=2>I Python kan man bruke funksjonen \"pd.concat\" for å slå sammen datasett.\n",
    "\n",
    "<font size=2>I eksemplene tar vi utgangspunkt i datasettene:\n",
    "- Innbyggerantalldatasett 2020 (df_land_innbyggerantall_2020) med variablene Land, Landkode, Innbyggerantall, År og Kilde definert i nevnte rekkefølge.\n",
    "- Innbyggerantalldatasett 2018 (df_land_innbyggerantall_2018) med variablene Land, Landkode, Innbyggerantall, År og Kilde definert i nevnte rekkefølge.\n",
    "- Innbyggerantalldatasett 2017 (df_land_innbyggerantall_2017) med variablene Landkode, Land, Innbyggerantall, År og Kilde definert i nevnte rekkefølge.\n",
    "\n",
    "#### Eksempler\n",
    "<ol>\n",
    "<li>Sette sammen innbyggerantall_2018 og innbyggerantall_2017 med \"pd.concat\"\n",
    "<li>Sette sammen utsnitt (kun rader med landkode = 'NO') fra innbyggerantall 2020 og innbyggerantall 2018.\n",
    "</ol>\n",
    "</font>"
   ]
  },
  {
   "cell_type": "markdown",
   "metadata": {},
   "source": [
    "#### Import av bibliotek (kode)"
   ]
  },
  {
   "cell_type": "code",
   "execution_count": null,
   "metadata": {},
   "outputs": [],
   "source": [
    "import dapla as dp\n",
    "import pandas as pd"
   ]
  },
  {
   "cell_type": "markdown",
   "metadata": {},
   "source": [
    "\n",
    "#### Lese inn data i eksempeldata (kode)"
   ]
  },
  {
   "cell_type": "markdown",
   "metadata": {},
   "source": [
    "Sette sammen innbyggerantall_2018 og innbyggerantall_2017\n",
    "(Deklarerer 2020 datasettet samtidig slik at det er klart for bruk i et senere steg)"
   ]
  },
  {
   "cell_type": "code",
   "execution_count": null,
   "metadata": {},
   "outputs": [],
   "source": [
    "df_land_innbyggerantall_2018  = dp.read_pandas(\"/felles/veiledning/pyspark/eksempler/innbyggerantall/2018\")\n",
    "df_land_innbyggerantall_2017  = dp.read_pandas(\"/felles/veiledning/pyspark/eksempler/innbyggerantall/2017\")\n",
    "df_land_innbyggerantall_2020  = dp.read_pandas(\"/felles/veiledning/pyspark/eksempler/innbyggerantall/2020\")"
   ]
  },
  {
   "cell_type": "markdown",
   "metadata": {},
   "source": [
    "Print av datasettet fra 2018"
   ]
  },
  {
   "cell_type": "code",
   "execution_count": null,
   "metadata": {},
   "outputs": [],
   "source": [
    "df_land_innbyggerantall_2018"
   ]
  },
  {
   "cell_type": "markdown",
   "metadata": {},
   "source": [
    "Print av datasettet fra 2017"
   ]
  },
  {
   "cell_type": "code",
   "execution_count": null,
   "metadata": {},
   "outputs": [],
   "source": [
    "df_land_innbyggerantall_2017"
   ]
  },
  {
   "cell_type": "markdown",
   "metadata": {},
   "source": [
    "Sjekk hvilke datatyper som er brukt i datasettet 2018"
   ]
  },
  {
   "cell_type": "code",
   "execution_count": null,
   "metadata": {},
   "outputs": [],
   "source": [
    "df_land_innbyggerantall_2018.dtypes"
   ]
  },
  {
   "cell_type": "markdown",
   "metadata": {},
   "source": [
    "Sjekk hvilke datatyper som er brukt i datasettet 2017"
   ]
  },
  {
   "cell_type": "code",
   "execution_count": null,
   "metadata": {},
   "outputs": [],
   "source": [
    "df_land_innbyggerantall_2017.dtypes"
   ]
  },
  {
   "cell_type": "markdown",
   "metadata": {},
   "source": [
    "### Vær oppmerksom på følgende problemstilling med pd.concat:\n",
    "#### Hvis datasettene som skal konkatineres har de samme variablene men disse igjen er definert med forskjellige datatyper vil python godta dette men ved skriving til dapla vil man få feilmelding. Dette skyldes at Parquet har en strengere skjema-validering enn python.\n",
    "I vårt eksempel har \"År\" datatype int32 i datasett 2018 og datatype object i 2017. Derfor endrer vi \"År\" i datasettet 2018 til streng object"
   ]
  },
  {
   "cell_type": "code",
   "execution_count": null,
   "metadata": {},
   "outputs": [],
   "source": [
    "df_land_innbyggerantall_2018[\"År\"] = df_land_innbyggerantall_2018[\"År\"].apply(str)"
   ]
  },
  {
   "cell_type": "code",
   "execution_count": null,
   "metadata": {},
   "outputs": [],
   "source": [
    "df_land_innbyggerantall_2018.dtypes"
   ]
  },
  {
   "cell_type": "markdown",
   "metadata": {},
   "source": [
    "Datasettene 2017 og 2018 settes sammen med kommandoen pd.concat og deretter printes det nye datasettet"
   ]
  },
  {
   "cell_type": "code",
   "execution_count": null,
   "metadata": {},
   "outputs": [],
   "source": [
    "df_land_innbyggerantall_2018_2017 = pd.concat([df_land_innbyggerantall_2018, df_land_innbyggerantall_2017])\n",
    "print('Sammensatt datasett')\n",
    "df_land_innbyggerantall_2018_2017"
   ]
  },
  {
   "cell_type": "code",
   "execution_count": null,
   "metadata": {},
   "outputs": [],
   "source": [
    "df_land_innbyggerantall_2018_2017.dtypes"
   ]
  },
  {
   "cell_type": "markdown",
   "metadata": {},
   "source": [
    "Det sammensatte datasettet skrives ned i en parquet file"
   ]
  },
  {
   "cell_type": "code",
   "execution_count": null,
   "metadata": {},
   "outputs": [],
   "source": [
    "dp.write_pandas(df_land_innbyggerantall_2018_2017, '/felles/veiledning/datasett/df_land_innbyggerantall_2018_2017', valuation='INTERNAL', state= 'INPUT')\n",
    "dp.show('/felles/veiledning/datasett/')"
   ]
  },
  {
   "cell_type": "markdown",
   "metadata": {},
   "source": [
    "### Eksempel 2: Sette sammen utsnitt (kun rader med landkode = 'NO') fra innbyggerantall 2020 og innbyggerantall 2018."
   ]
  },
  {
   "cell_type": "code",
   "execution_count": null,
   "metadata": {},
   "outputs": [],
   "source": [
    "df_land_innbyggerantall_2020_utsnitt = df_land_innbyggerantall_2020[df_land_innbyggerantall_2020.Landkode == 'NO']"
   ]
  },
  {
   "cell_type": "code",
   "execution_count": null,
   "metadata": {},
   "outputs": [],
   "source": [
    "df_land_innbyggerantall_2020_utsnitt"
   ]
  },
  {
   "cell_type": "code",
   "execution_count": null,
   "metadata": {},
   "outputs": [],
   "source": [
    "df_land_innbyggerantall_2018"
   ]
  },
  {
   "cell_type": "code",
   "execution_count": null,
   "metadata": {},
   "outputs": [],
   "source": [
    "df_land_innbyggerantall_utsnitt_2020_2018 = pd.concat([df_land_innbyggerantall_2018, df_land_innbyggerantall_2020_utsnitt])\n",
    "print('Sammensatt datasett')\n",
    "df_land_innbyggerantall_utsnitt_2020_2018"
   ]
  }
 ],
 "metadata": {
  "kernelspec": {
   "display_name": "Python 3",
   "language": "python",
   "name": "python3"
  },
  "language_info": {
   "codemirror_mode": {
    "name": "ipython",
    "version": 3
   },
   "file_extension": ".py",
   "mimetype": "text/x-python",
   "name": "python",
   "nbconvert_exporter": "python",
   "pygments_lexer": "ipython3",
   "version": "3.8.6"
  }
 },
 "nbformat": 4,
 "nbformat_minor": 4
}
