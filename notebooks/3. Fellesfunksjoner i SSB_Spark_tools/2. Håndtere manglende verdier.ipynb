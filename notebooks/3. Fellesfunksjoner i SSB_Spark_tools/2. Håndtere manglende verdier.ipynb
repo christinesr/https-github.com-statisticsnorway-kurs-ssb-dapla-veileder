{
 "cells": [
  {
   "cell_type": "markdown",
   "metadata": {},
   "source": [
    "<h3>Håndtere manglende verdier</h3>\n",
    "I SSB_SPark_tools underpakke editing finnes det fire funksjoner for å behandle missingverdier:    \n",
    "<ul>\n",
    "<li> <b>missing_correction_bool</b>. \n",
    "     Korrigerer missingverdier på Boolske variable til False eller True. Skrevet i Python og Pyspark\n",
    "<li> <b>missing_correction_number</b>. \n",
    "     Korrigerer missingverdier på numeriske variable til en verdi brukeren kan angi selv. Skrevet i Python og Pyspark \n",
    "<li> <b>spark_missing_correction_number</b>. \n",
    "     Korrigerer missingverdier på numeriske variable til en verdi brukeren kan angi selv. Skrevet i Python og Pyspark \n",
    "<li> <b>spark_missing_correction_bool</b>. \n",
    "     Korrigerer missingverdier på Boolske variable til False eller True. Skrevet i Python og Pyspark\n",
    "</ul>\n",
    "</font>"
   ]
  },
  {
   "cell_type": "markdown",
   "metadata": {},
   "source": [
    " #### Importer pakken editing fra biblioteket SSB_Spark_tools"
   ]
  },
  {
   "cell_type": "code",
   "execution_count": null,
   "metadata": {},
   "outputs": [],
   "source": [
    "from ssb_sparktools.editing import editing as stedi"
   ]
  },
  {
   "cell_type": "markdown",
   "metadata": {},
   "source": [
    "#### Velger et datasett fra fellesområdet som inneholder missingverdi (Sverige) til bruk i eksempel"
   ]
  },
  {
   "cell_type": "code",
   "execution_count": null,
   "metadata": {},
   "outputs": [],
   "source": [
    " df_bnp = spark.read.path(\"/felles/veiledning/pyspark/eksempler/bnp\")"
   ]
  },
  {
   "cell_type": "code",
   "execution_count": null,
   "metadata": {},
   "outputs": [],
   "source": [
    "df_bnp.show(50,False)"
   ]
  },
  {
   "cell_type": "markdown",
   "metadata": {},
   "source": [
    "#### Vil bruke en av missingfunksjonene (missing_correction_number) til å korrigere missingverdien:\n",
    "##### Ser først på hva vi kan lese ut av help()-funksjonen om denne"
   ]
  },
  {
   "cell_type": "code",
   "execution_count": null,
   "metadata": {},
   "outputs": [],
   "source": [
    "# Skriver help() og ser på resultatet\n",
    "help(stedi.missing_correction_number)"
   ]
  },
  {
   "cell_type": "markdown",
   "metadata": {},
   "source": [
    "##### Forklaring av resultatet: "
   ]
  },
  {
   "cell_type": "markdown",
   "metadata": {},
   "source": [
    "##### For å kjøre funksjonen må man skrive\n",
    "<b>df_navn, log_navn =  stedi.missing_correction_number(df, correction_value=0, exception_for=[])</b> "
   ]
  },
  {
   "cell_type": "markdown",
   "metadata": {},
   "source": [
    "##### Foran likhetstegnet må man oppgi to navn man selv bestemmer.<b> Rekkefølgen er viktig, da funksjonen bestemmer hvilket av resultatene som kommer først og sist:</b>\n",
    "<ul>\n",
    "<li> <b>df_navn</b> er navnet på det korrigerte datasettet som er første del av resultatet \n",
    "<li> <b>log_navn</b> er navnet på logg'en som er andre del av resultatet \n",
    "</ul>"
   ]
  },
  {
   "cell_type": "markdown",
   "metadata": {},
   "source": [
    "##### Bak likhetstegnet oppgir man:\n",
    "<ul>\n",
    "<li> <b>df</b>, som er navnet på datasettet som inneholder variablene som skal korrigeres fra missing.   \n",
    "<li> <b>correction_value</b>, som angir hvilken verdi missing skal korrigeres til. Oppgis ingen verdi her, er default at missing korrigeres til 0.\n",
    "<li> <b>exception_for</b>, som angir variable man ikke ønsker å korrigere fra missing. Oppgis ingen variable her, endres alle numeriske variable fra missing til korrieringsverdien.\n",
    "</ul>"
   ]
  },
  {
   "cell_type": "markdown",
   "metadata": {},
   "source": [
    "#### Eksempler på bruk:"
   ]
  },
  {
   "cell_type": "markdown",
   "metadata": {},
   "source": [
    "##### Endrer fra missing til 0"
   ]
  },
  {
   "cell_type": "code",
   "execution_count": null,
   "metadata": {},
   "outputs": [],
   "source": [
    "# Sender bare inn navnet på det opprinnelige datasettet som inneholder variabelen som skal korrigeres fra missing. Setter ikke inn noe for de andre parametrene.\n",
    "df_bnp_imp, bnp_log = stedi.missing_correction_number(df_bnp)"
   ]
  },
  {
   "cell_type": "code",
   "execution_count": null,
   "metadata": {},
   "outputs": [],
   "source": [
    "# Ser at null er byttet ut med verdien 0 for Sverige.\n",
    "df_bnp_imp.show()"
   ]
  },
  {
   "cell_type": "code",
   "execution_count": null,
   "metadata": {},
   "outputs": [],
   "source": [
    "# Innholdet i loggen forteller at variabelen BNP har blitt korrigert en gang pga en missingverdi\n",
    "bnp_log"
   ]
  },
  {
   "cell_type": "markdown",
   "metadata": {},
   "source": [
    "##### Endrer fra missing til 1000:"
   ]
  },
  {
   "cell_type": "code",
   "execution_count": null,
   "metadata": {},
   "outputs": [],
   "source": [
    "# Må sette correction_value = 1000\n",
    "df_bnp_imp1, bnp_log1 = stedi.missing_correction_number(df_bnp, correction_value=1000, exception_for = [])"
   ]
  },
  {
   "cell_type": "code",
   "execution_count": null,
   "metadata": {},
   "outputs": [],
   "source": [
    "df_bnp_imp1.show()"
   ]
  },
  {
   "cell_type": "code",
   "execution_count": null,
   "metadata": {},
   "outputs": [],
   "source": [
    "bnp_log1"
   ]
  }
 ],
 "metadata": {
  "kernelspec": {
   "display_name": "Pyspark (local)",
   "language": "python",
   "name": "pyspark_local"
  },
  "language_info": {
   "codemirror_mode": {
    "name": "ipython",
    "version": 3
   },
   "file_extension": ".py",
   "mimetype": "text/x-python",
   "name": "python",
   "nbconvert_exporter": "python",
   "pygments_lexer": "ipython3",
   "version": "3.7.6"
  }
 },
 "nbformat": 4,
 "nbformat_minor": 4
}
