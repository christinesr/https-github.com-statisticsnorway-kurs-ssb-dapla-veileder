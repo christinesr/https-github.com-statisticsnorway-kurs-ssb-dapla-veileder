{
 "cells": [
  {
   "cell_type": "markdown",
   "metadata": {},
   "source": [
    "<h3>Håndtere manglende verdier</h3>\n",
    "I SSB_SPark_tools underpakke editing finnes det fire funksjoner for å behandle missingverdier:    \n",
    "<ul>\n",
    "<li> <b>missing_correction_bool</b>. \n",
    "     Korrigerer missingverdier på Booolske variable til False eller True. Skrevet i Python og Pyspark\n",
    "<li> <b>missing_correction_number</b>. \n",
    "     Korrigerer missingverdier på numeriske variable til en verdi brukeren kan angi selv. Skrevet i Python og Pyspark \n",
    "<li> <b>spark_missing_correction_number</b>. \n",
    "     Korrigerer missingverdier på numeriske variable til en verdi brukeren kan angi selv. Skrevet i Python og Pyspark \n",
    "<li> <b>spar_missing_correction_bool</b>. \n",
    "     Korrigerer missingverdier på Booolske variable til False eller True. Skrevet i Python og Pyspark\n",
    "</ul>\n",
    "</font>"
   ]
  },
  {
   "cell_type": "markdown",
   "metadata": {},
   "source": [
    " #### Importer pakken editing fra biblioteket SSB_Spark_tools"
   ]
  },
  {
   "cell_type": "code",
   "execution_count": null,
   "metadata": {},
   "outputs": [],
   "source": [
    "from ssb_sparktools.editing import editing as stedi"
   ]
  },
  {
   "cell_type": "markdown",
   "metadata": {},
   "source": [
    "#### Velger et datasett fra fellesområdet som inneholder missingverdi (Sverige) til bruk i eksempel"
   ]
  },
  {
   "cell_type": "code",
   "execution_count": null,
   "metadata": {},
   "outputs": [],
   "source": [
    " df_bnp = spark.read.path(\"/felles/veiledning/pyspark/eksempler/bnp\")"
   ]
  },
  {
   "cell_type": "code",
   "execution_count": null,
   "metadata": {},
   "outputs": [],
   "source": [
    "df_bnp.show(50,False)"
   ]
  },
  {
   "cell_type": "markdown",
   "metadata": {},
   "source": [
    "#### Bruker en av missingfunksjonene (missing_correction_number) til å korrigere missingverdien:\n",
    "Denne funksjonen gir to resultater: en dataframe med korrigerte verdier (som vi her velger å kalle <i>df_bnp_imp </i>) og en logg over antall endrede verdier for hver variabel (her kalt <i> bnp_log </i>)."
   ]
  },
  {
   "cell_type": "code",
   "execution_count": null,
   "metadata": {},
   "outputs": [],
   "source": [
    "df_bnp_imp, bnp_log = stedi.missing_correction_number(df_bnp)"
   ]
  },
  {
   "cell_type": "code",
   "execution_count": null,
   "metadata": {},
   "outputs": [],
   "source": [
    "# Ser at null er byttet ut med verdien 0 for Sverige.\n",
    "df_bnp_imp.show()"
   ]
  },
  {
   "cell_type": "code",
   "execution_count": null,
   "metadata": {},
   "outputs": [],
   "source": [
    "# Innholdet i loggen forteller at variabelen BNP har blitt korrigert en gang pga en missingverdi\n",
    "bnp_log"
   ]
  },
  {
   "cell_type": "code",
   "execution_count": null,
   "metadata": {},
   "outputs": [],
   "source": []
  }
 ],
 "metadata": {
  "kernelspec": {
   "display_name": "Pyspark (local)",
   "language": "python",
   "name": "pyspark_local"
  },
  "language_info": {
   "codemirror_mode": {
    "name": "ipython",
    "version": 3
   },
   "file_extension": ".py",
   "mimetype": "text/x-python",
   "name": "python",
   "nbconvert_exporter": "python",
   "pygments_lexer": "ipython3",
   "version": "3.7.6"
  }
 },
 "nbformat": 4,
 "nbformat_minor": 4
}
