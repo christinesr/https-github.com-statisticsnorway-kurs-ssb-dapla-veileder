{
 "cells": [
  {
   "cell_type": "markdown",
   "metadata": {},
   "source": [
    "## Dokumentasjon av datasett og variabler"
   ]
  },
  {
   "cell_type": "markdown",
   "metadata": {},
   "source": [
    "NB! Dette er foreløpig bare en POC, og vil sannsynligvis gjøres enklere og mer brukervennlig senere."
   ]
  },
  {
   "cell_type": "markdown",
   "metadata": {},
   "source": [
    "#### Les inn en spark dataframe som man ønsker å lage dokumentasjon på:"
   ]
  },
  {
   "cell_type": "code",
   "execution_count": null,
   "metadata": {},
   "outputs": [],
   "source": [
    "ds = spark.read.path(\"/felles/veiledning/pyspark/eksempler/areal\")\n",
    "ds.show(10, False)"
   ]
  },
  {
   "cell_type": "markdown",
   "metadata": {},
   "source": [
    "#### Vis skjema til datasettet"
   ]
  },
  {
   "cell_type": "code",
   "execution_count": null,
   "metadata": {},
   "outputs": [],
   "source": [
    "ds.printSchema()"
   ]
  },
  {
   "cell_type": "markdown",
   "metadata": {},
   "source": [
    "#### Basert på dette skjemaet kan vi generere et \"template\" for å kunne dokumentere variablene og datasettet:"
   ]
  },
  {
   "cell_type": "code",
   "execution_count": null,
   "metadata": {},
   "outputs": [],
   "source": [
    "ds.printDocTemplate(True)"
   ]
  },
  {
   "cell_type": "markdown",
   "metadata": {},
   "source": [
    "#### Med utgangspunkt i det genererte \"template\" kan dette knyttes til datasettet. Her har man oppdatert beskrivelsesfeltene med mer utfyllende informasjon:"
   ]
  },
  {
   "cell_type": "code",
   "execution_count": null,
   "metadata": {},
   "outputs": [],
   "source": [
    "ds.doc = {\n",
    "  \"logical-record-root\" : {\n",
    "    \"name\" : \"Areal\",\n",
    "    \"instanceVariables\" : [ {\n",
    "      \"name\" : \"Land\",\n",
    "      \"description\" : \"Land\"\n",
    "    }, {\n",
    "      \"name\" : \"Areal\",\n",
    "      \"description\" : \"Totalt overflateareal, målt i kvadratkilometer\"\n",
    "    }, {\n",
    "      \"name\" : \"Årstall\",\n",
    "      \"description\" : \"Årstall for når målingen ble utført\"\n",
    "    }, {\n",
    "      \"name\" : \"Landkode\",\n",
    "      \"description\" : \"Landkode\"\n",
    "    }, {\n",
    "      \"name\" : \"Kilde\",\n",
    "      \"description\" : \"Kilde\"\n",
    "    } ]\n",
    "  }\n",
    "}"
   ]
  },
  {
   "cell_type": "markdown",
   "metadata": {},
   "source": [
    "#### Når datasetet lagres blir dokumentasjonen automatisk fanget opp og lagret i LDS, slik at dette blir søkbart:"
   ]
  },
  {
   "cell_type": "code",
   "execution_count": null,
   "metadata": {},
   "outputs": [],
   "source": [
    "ds.write.option(\"valuation\", \"INTERNAL\").option(\"state\", \"INPUT\").path(\"/felles/veiledning/pyspark/eksempler/areal/dokumentert\")"
   ]
  },
  {
   "cell_type": "markdown",
   "metadata": {},
   "source": [
    "#### Datasettet skal nå kunne gjenfinnes i LDS:"
   ]
  },
  {
   "cell_type": "markdown",
   "metadata": {},
   "source": [
    "[Åpne datasett i LDS (staging)](https://lds-client.staging-bip-app.ssb.no/gsim/UnitDataSet/felles.veiledning.pyspark.eksempler.areal.dokumentert.Areal/view)"
   ]
  },
  {
   "cell_type": "markdown",
   "metadata": {},
   "source": [
    "[GraphQL visning (staging)](https://exploration-lds.staging-bip-app.ssb.no/graphiql/?query=%7B%0A%20%20UnitDataSetById(id%3A%20%22felles.veiledning.pyspark.eksempler.areal.dokumentert.Areal%22)%20%7B%0A%20%20%20%20id%0A%20%20%20%20dataSourcePath%0A%20%20%20%20unitDataStructure%20%7B%0A%20%20%20%20%20%20name%20%7B%0A%20%20%20%20%20%20%20%20languageText%0A%20%20%20%20%20%20%7D%0A%20%20%20%20%20%20logicalRecords%20%7B%0A%20%20%20%20%20%20%20%20edges%20%7B%0A%20%20%20%20%20%20%20%20%20%20node%20%7B%0A%20%20%20%20%20%20%20%20%20%20%20%20id%0A%20%20%20%20%20%20%20%20%20%20%20%20shortName%0A%20%20%20%20%20%20%20%20%20%20%20%20instanceVariables%20%7B%0A%20%20%20%20%20%20%20%20%20%20%20%20%20%20edges%20%7B%0A%20%20%20%20%20%20%20%20%20%20%20%20%20%20%20%20node%20%7B%0A%20%20%20%20%20%20%20%20%20%20%20%20%20%20%20%20%20%20name%20%7B%0A%20%20%20%20%20%20%20%20%20%20%20%20%20%20%20%20%20%20%20%20languageText%0A%20%20%20%20%20%20%20%20%20%20%20%20%20%20%20%20%20%20%7D%0A%20%20%20%20%20%20%20%20%20%20%20%20%20%20%20%20%20%20description%20%7B%0A%20%20%20%20%20%20%20%20%20%20%20%20%20%20%20%20%20%20%20%20languageText%0A%20%20%20%20%20%20%20%20%20%20%20%20%20%20%20%20%20%20%7D%0A%20%20%20%20%20%20%20%20%20%20%20%20%20%20%20%20%7D%0A%20%20%20%20%20%20%20%20%20%20%20%20%20%20%7D%0A%20%20%20%20%20%20%20%20%20%20%20%20%7D%0A%20%20%20%20%20%20%20%20%20%20%7D%0A%20%20%20%20%20%20%20%20%7D%0A%20%20%20%20%20%20%7D%0A%20%20%20%20%7D%0A%20%20%7D%0A%7D%0A)"
   ]
  },
  {
   "cell_type": "code",
   "execution_count": null,
   "metadata": {},
   "outputs": [],
   "source": []
  }
 ],
 "metadata": {
  "kernelspec": {
   "display_name": "Pyspark (local)",
   "language": "python",
   "name": "pyspark_local"
  },
  "language_info": {
   "codemirror_mode": {
    "name": "ipython",
    "version": 3
   },
   "file_extension": ".py",
   "mimetype": "text/x-python",
   "name": "python",
   "nbconvert_exporter": "python",
   "pygments_lexer": "ipython3",
   "version": "3.7.6"
  }
 },
 "nbformat": 4,
 "nbformat_minor": 4
}
