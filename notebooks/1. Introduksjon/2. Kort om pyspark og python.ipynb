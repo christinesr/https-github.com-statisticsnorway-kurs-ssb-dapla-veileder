{
 "cells": [
  {
   "cell_type": "markdown",
   "metadata": {},
   "source": [
    "## Kode i pyspark og python "
   ]
  },
  {
   "cell_type": "markdown",
   "metadata": {},
   "source": [
    "### Hvordan lese objektorientert kode?\n",
    "Python og pyspark er objektorienterte programmeringsspråk og med det følger det språk og tilnærming til hvordan \n"
   ]
  },
  {
   "cell_type": "code",
   "execution_count": null,
   "metadata": {},
   "outputs": [],
   "source": [
    "#### Biblioteker\n",
    "Oppgave: forklare hva og hvordan bruke biblioteker i pyspark, peke til hvor bibliotekene er beskrevet appache.spark....\n"
   ]
  },
  {
   "cell_type": "code",
   "execution_count": null,
   "metadata": {},
   "outputs": [],
   "source": [
    "#### Pyspark\n",
    "\"PySpark is the collaboration of Apache Spark and Python. Apache Spark is an open-source cluster-computing framework, built around speed, ease of use, and streaming analytics whereas Python is a general-purpose, high-level programming language\".\n",
    "..."
   ]
  },
  {
   "cell_type": "code",
   "execution_count": null,
   "metadata": {},
   "outputs": [],
   "source": []
  },
  {
   "cell_type": "markdown",
   "metadata": {},
   "source": [
    "## Innebygde funksjoner i python og pyspark\n",
    "Dette er funksjoner som er tilgjengelig for\n",
    "\n",
    "https://docs.python.org/3/library/functions.html\n",
    "\n",
    "\n",
    "• input( )\n",
    "\n",
    "• int( )\n",
    "\n",
    "• print( )\n",
    "\n",
    "• format( )"
   ]
  },
  {
   "cell_type": "code",
   "execution_count": null,
   "metadata": {},
   "outputs": [],
   "source": [
    "fornavn = input(\"Fornavn: \")\n",
    "etternavn = input(\"Etternavn: \")\n",
    "\n",
    "i=0\n",
    "while True:\n",
    "    try:\n",
    "        alder = int(input(\"Alder: \"))\n",
    "        break\n",
    "    except ValueError:\n",
    "        if (i==0):\n",
    "            print(\"Ojsann, det ble feil! Du må skrive din alder i heltall. Prøv igjen ...\")\n",
    "        else: print(\"nei og nei, det ble feil igjen. Prøv igjen å skriv alder som tall\")\n",
    "    i=i+1"
   ]
  },
  {
   "cell_type": "code",
   "execution_count": null,
   "metadata": {},
   "outputs": [],
   "source": [
    "print(\"Hei, \"+fornavn+\" \"+etternavn)\n",
    "print (alder)"
   ]
  },
  {
   "cell_type": "code",
   "execution_count": null,
   "metadata": {},
   "outputs": [],
   "source": [
    "format(fornavn)"
   ]
  },
  {
   "cell_type": "code",
   "execution_count": null,
   "metadata": {},
   "outputs": [],
   "source": []
  }
 ],
 "metadata": {
  "kernelspec": {
   "display_name": "Pyspark (local)",
   "language": "python",
   "name": "pyspark_local"
  },
  "language_info": {
   "codemirror_mode": {
    "name": "ipython",
    "version": 3
   },
   "file_extension": ".py",
   "mimetype": "text/x-python",
   "name": "python",
   "nbconvert_exporter": "python",
   "pygments_lexer": "ipython3",
   "version": "3.7.6"
  }
 },
 "nbformat": 4,
 "nbformat_minor": 4
}
