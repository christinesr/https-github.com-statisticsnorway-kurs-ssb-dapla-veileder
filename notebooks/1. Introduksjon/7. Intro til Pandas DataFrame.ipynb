{
 "cells": [
  {
   "cell_type": "markdown",
   "metadata": {
    "colab_type": "text",
    "id": "Hf7R3hwdq7Cf"
   },
   "source": [
    "# Grunnleggende om Python Pandas DataFrame"
   ]
  },
  {
   "cell_type": "markdown",
   "metadata": {
    "colab_type": "text",
    "id": "gNnM4vBVrI6O"
   },
   "source": [
    "[Pandas](https://pandas.pydata.org/) er et python-bibliotek som gir effektive og brukervennlige datastruturer for dataanalyse. En av disse strukturene er Pandas DataFrame som består av data organisert i rader og kolonner.\n",
    "\n",
    "Biblioteket er tilgjengelig for bruk i SSBs dapla JupyterLab (https://jupyter.prod-bip-app.ssb.no/):\n",
    "\n",
    "<code>import pandas as pd</code>"
   ]
  },
  {
   "cell_type": "markdown",
   "metadata": {
    "colab_type": "text",
    "id": "RLkI3b_3x1v6"
   },
   "source": [
    "## Grunnleggende operasjonen som kan gjøres på et pandas DataFrame:\n",
    "\n",
    "1. Lage et pandas DataFrame\n",
    "2. Gjøre operasjoner på rader og kolonner\n",
    "3. Velge ut, legge til og fjerne data\n",
    "4. Håndtere manglende (missing) data\n",
    "5. Endre navn på kolonner eller indekser "
   ]
  },
  {
   "cell_type": "markdown",
   "metadata": {
    "colab_type": "text",
    "id": "5V_LbZXw6WBL"
   },
   "source": [
    "## 1. Lage et DataFrame"
   ]
  },
  {
   "cell_type": "markdown",
   "metadata": {
    "colab_type": "text",
    "id": "c7BHKnbashFG"
   },
   "source": [
    "Pandas DataFrame kan opprettes ved å laste inn dataene fra dataplattformen, eller det kan lages ved å opprette et python Dictionary som vist under:"
   ]
  },
  {
   "cell_type": "code",
   "execution_count": null,
   "metadata": {
    "colab": {
     "base_uri": "https://localhost:8080/",
     "height": 52
    },
    "colab_type": "code",
    "id": "5ke_cWSh6Ovg",
    "outputId": "7b134526-01e6-4f0a-e4c6-b4fa6f4f7e5f"
   },
   "outputs": [],
   "source": [
    "# importere pandas biblioteket\n",
    "import pandas as pd\n",
    "# lage et Dictionary med variabler (kolonnenavn) og verdier (kolonneverdier) som vi kaller land_fifa_data\n",
    "land_fifa_data = {'Land':['Belgia', 'Frankrike', 'Brasil', 'England', 'Uruguay', 'Norge','Tyskland'],\n",
    "                  'Poeng': [1765, 1733, 1712, 1661, 1645, 1451, 1602],\n",
    "                 }\n",
    "\n",
    "# skriv ut data\n",
    "land_fifa_data"
   ]
  },
  {
   "cell_type": "code",
   "execution_count": null,
   "metadata": {
    "colab": {
     "base_uri": "https://localhost:8080/",
     "height": 202
    },
    "colab_type": "code",
    "id": "KPm9UHy260Mk",
    "outputId": "3701b345-ce5d-425a-fc1a-1f4d144d6d72"
   },
   "outputs": [],
   "source": [
    "# Opprette et DataFrame objekt med dictionary som parameter\n",
    "df_land_fifa = pd.DataFrame(land_fifa_data)\n",
    "df_land_fifa"
   ]
  },
  {
   "cell_type": "markdown",
   "metadata": {
    "colab_type": "text",
    "id": "31PD5o5CuMg1"
   },
   "source": [
    "\n",
    "\n",
    "---\n",
    "\n"
   ]
  },
  {
   "cell_type": "markdown",
   "metadata": {
    "colab_type": "text",
    "id": "oN_3wgjwuSCj"
   },
   "source": [
    "## 2. Gjøre operasjoner på rader og kolonner"
   ]
  },
  {
   "cell_type": "markdown",
   "metadata": {
    "colab_type": "text",
    "id": "IYmC7xWFucju"
   },
   "source": [
    "DataFrame er en to-dimmensjonal datastruktur. Data er lagret i rader og kolonner. Nedenfor noen enkle pandas operasjoner."
   ]
  },
  {
   "cell_type": "markdown",
   "metadata": {
    "colab_type": "text",
    "id": "9MgCQNfPu3pZ"
   },
   "source": [
    "**Velge en kolonne**"
   ]
  },
  {
   "cell_type": "markdown",
   "metadata": {
    "colab_type": "text",
    "id": "Dn4tXXWSvV4Y"
   },
   "source": [
    "For å velge en kolonne, trenger vi bare å navngi kolonnenavnet: <code>df[['*kolonnenavn*']]</code>"
   ]
  },
  {
   "cell_type": "code",
   "execution_count": null,
   "metadata": {
    "colab": {
     "base_uri": "https://localhost:8080/",
     "height": 202
    },
    "colab_type": "code",
    "id": "D8i1V1XqvD_3",
    "outputId": "6bba316f-3628-46eb-8af5-ade5eacbfa83"
   },
   "outputs": [],
   "source": [
    "# Velge kolonne\n",
    "df_land_fifa[['Land']]"
   ]
  },
  {
   "cell_type": "markdown",
   "metadata": {
    "colab_type": "text",
    "id": "ROBV-5d9vkcZ"
   },
   "source": [
    "**Velge en rad a Row**"
   ]
  },
  {
   "cell_type": "markdown",
   "metadata": {
    "colab_type": "text",
    "id": "3znYwir7vsmW"
   },
   "source": [
    "`loc` og `iloc` er metodene i Pandas DataFrame som velger ut rader med data. Forskjellen på er at `loc` gir rader etter *indekslabel* mens `iloc` gir rader ved en posisjon i indeksen (så denne metoden tar bare tall som parameter)."
   ]
  },
  {
   "cell_type": "code",
   "execution_count": null,
   "metadata": {
    "colab": {
     "base_uri": "https://localhost:8080/",
     "height": 69
    },
    "colab_type": "code",
    "id": "jQmI0eTkwFfG",
    "outputId": "0746f302-d51a-4426-c031-84f34f578287"
   },
   "outputs": [],
   "source": [
    "# Velge en rad med indeks 1\n",
    "row = df_land_fifa.loc[1]\n",
    "\n",
    "# skriv ut raden\n",
    "row"
   ]
  },
  {
   "cell_type": "code",
   "execution_count": null,
   "metadata": {},
   "outputs": [],
   "source": [
    "# Velge de tre første radene med bruk av loc:\n",
    "row3 = df_land_fifa.loc[:2]\n",
    "\n",
    "row3"
   ]
  },
  {
   "cell_type": "code",
   "execution_count": null,
   "metadata": {},
   "outputs": [],
   "source": [
    "# Velge de tre første radene med bruk av iloc:\n",
    "row3a = df_land_fifa.iloc[:3]\n",
    "\n",
    "row3a"
   ]
  },
  {
   "cell_type": "markdown",
   "metadata": {
    "colab_type": "text",
    "id": "pRYy73kPw8CT"
   },
   "source": [
    "\n",
    "\n",
    "---\n",
    "\n"
   ]
  },
  {
   "cell_type": "markdown",
   "metadata": {
    "colab_type": "text",
    "id": "tfnC875qxIwN"
   },
   "source": [
    "## 3. Velge ut, legge til og fjerne data"
   ]
  },
  {
   "cell_type": "code",
   "execution_count": null,
   "metadata": {
    "colab": {
     "base_uri": "https://localhost:8080/",
     "height": 121
    },
    "colab_type": "code",
    "id": "H6-5ouINyt_y",
    "outputId": "d473b0a4-896a-4c2e-cfd5-0414bd9baf46"
   },
   "outputs": [],
   "source": [
    "# Velg kolonne - Poeng\n",
    "df_land_fifa['Poeng']"
   ]
  },
  {
   "cell_type": "markdown",
   "metadata": {
    "colab_type": "text",
    "id": "wtv11VxZzA90"
   },
   "source": [
    "Kolonner kan fjernes med `del` kommandoen"
   ]
  },
  {
   "cell_type": "code",
   "execution_count": null,
   "metadata": {
    "colab": {
     "base_uri": "https://localhost:8080/",
     "height": 202
    },
    "colab_type": "code",
    "id": "cVH6-WCdzBmk",
    "outputId": "1472e432-c1fe-4a80-dfb2-70a050aedd45"
   },
   "outputs": [],
   "source": [
    "del df_land_fifa['Poeng']\n",
    "df_land_fifa"
   ]
  },
  {
   "cell_type": "markdown",
   "metadata": {},
   "source": [
    "Legge til en Kolonne kan gjøres på flere måter.\n",
    "\n",
    "Vi kan lage en liste med kolonneverdier, og legge dem til på denne måten:"
   ]
  },
  {
   "cell_type": "code",
   "execution_count": null,
   "metadata": {
    "jupyter": {
     "outputs_hidden": true
    }
   },
   "outputs": [],
   "source": [
    "fifa_poeng_2020 = [1765,1733,1712,1661,1645,1451,1602]\n",
    "fifa_poeng_2010 = [589,890,1536,1125,1152,878,1464]\n",
    "\n",
    "df_land_fifa['poeng 2020'] = fifa_poeng_2020\n",
    "df_land_fifa['poeng 2010'] = fifa_poeng_2010\n",
    "df_land_fifa"
   ]
  },
  {
   "cell_type": "markdown",
   "metadata": {},
   "source": [
    "Eller vi kan bruke DataFrame-metode `insert()`"
   ]
  },
  {
   "cell_type": "code",
   "execution_count": null,
   "metadata": {},
   "outputs": [],
   "source": [
    "df_land_fifa.insert(3,'Utvikling',(df_land_fifa['poeng 2020']) - (df_land_fifa['poeng 2010']))\n",
    "df_land_fifa"
   ]
  },
  {
   "cell_type": "markdown",
   "metadata": {
    "colab_type": "text",
    "id": "gZeouc020LYL"
   },
   "source": [
    "\n",
    "\n",
    "---\n",
    "\n"
   ]
  },
  {
   "cell_type": "markdown",
   "metadata": {
    "colab_type": "text",
    "id": "DuXSNw0n0RSZ"
   },
   "source": [
    "## 4. Håndtere manglende (missing) data"
   ]
  },
  {
   "cell_type": "markdown",
   "metadata": {
    "colab_type": "text",
    "id": "FS9roj5U0bof"
   },
   "source": [
    "Manglende data forekommer ofte som `NaN` (Not a number). "
   ]
  },
  {
   "cell_type": "markdown",
   "metadata": {
    "colab_type": "text",
    "id": "0V1bFutn70pT"
   },
   "source": [
    "**Kontrollere for manglende data**"
   ]
  },
  {
   "cell_type": "code",
   "execution_count": null,
   "metadata": {
    "colab": {
     "base_uri": "https://localhost:8080/",
     "height": 35
    },
    "colab_type": "code",
    "id": "9JiKwA8O7opN",
    "outputId": "6ceb9a73-c9ce-4672-bfb3-0cce0af890a8"
   },
   "outputs": [],
   "source": [
    "# imporere numpy bibliotektet (for å bruke funksjonen np.nan)\n",
    "import numpy as np\n",
    "\n",
    "# Legge til Sverige sine fifa poenger\n",
    "sverige ={'Land': 'Sverige', 'poeng 2020':1579, 'poeng 2010':np.nan, 'Utvikling':np.nan}\n",
    "\n",
    "df_land_fifa= df_land_fifa.append(sverige, ignore_index=True)\n",
    "df_land_fifa"
   ]
  },
  {
   "cell_type": "markdown",
   "metadata": {},
   "source": [
    "DataFrame metoden `isnull()` kan brukes for å sjekke om en observasjon er missing (null/NaN). "
   ]
  },
  {
   "cell_type": "code",
   "execution_count": null,
   "metadata": {},
   "outputs": [],
   "source": [
    "df_land_fifa.isnull()"
   ]
  },
  {
   "cell_type": "markdown",
   "metadata": {
    "colab_type": "text",
    "id": "8W-j0QLy8Z2h"
   },
   "source": [
    "Når vi nå har missingverdier så kan vi endre disse med bruk av DataFrame-metoden `fillna()`"
   ]
  },
  {
   "cell_type": "code",
   "execution_count": null,
   "metadata": {
    "colab": {
     "base_uri": "https://localhost:8080/",
     "height": 110
    },
    "colab_type": "code",
    "id": "qCC-YN5j8VZ2",
    "outputId": "3c1a9e31-aebc-4310-8fa8-daf5b4ac05e0"
   },
   "outputs": [],
   "source": [
    "df_land_fifa = df_land_fifa.fillna(0)\n",
    "df_land_fifa"
   ]
  },
  {
   "cell_type": "markdown",
   "metadata": {
    "colab_type": "text",
    "id": "wVPkhcJh2riP"
   },
   "source": [
    "\n",
    "\n",
    "---\n",
    "\n"
   ]
  },
  {
   "cell_type": "markdown",
   "metadata": {
    "colab_type": "text",
    "id": "T-gOxevd2sOt"
   },
   "source": [
    "## 5. Endre navn på kolonner eller indekser"
   ]
  },
  {
   "cell_type": "markdown",
   "metadata": {
    "colab_type": "text",
    "id": "vxtuVjNc4qjt"
   },
   "source": [
    "Vi kan endre kolonnenavnene ved å bruke DataFrame-metoden `rename()`."
   ]
  },
  {
   "cell_type": "code",
   "execution_count": null,
   "metadata": {
    "colab": {
     "base_uri": "https://localhost:8080/",
     "height": 202
    },
    "colab_type": "code",
    "id": "csHahkx-5HgX",
    "outputId": "39ee045a-4e25-4fe9-acf9-5cf1b5863655"
   },
   "outputs": [],
   "source": [
    "nye_kolonnenavn = {\n",
    "                'poeng 2020': '2020',\n",
    "                'poeng 2010': '2010',\n",
    "          }\n",
    "\n",
    "df_land_fifa.rename(columns=nye_kolonnenavn, inplace=True)\n",
    "df_land_fifa"
   ]
  },
  {
   "cell_type": "code",
   "execution_count": null,
   "metadata": {
    "colab": {
     "base_uri": "https://localhost:8080/",
     "height": 202
    },
    "colab_type": "code",
    "id": "aOQ-3zM75PjG",
    "outputId": "cd84ca01-038b-452c-dfcc-da9e3462103b"
   },
   "outputs": [],
   "source": [
    "# Endre på indeksen...\n",
    "nyindeks = {\n",
    "            0: 'a',\n",
    "            1: 'b',\n",
    "            2: 'c',\n",
    "            3: 'd',\n",
    "            4: 'e',\n",
    "            5: 'f',\n",
    "            6: 'g',\n",
    "            7: 'h'\n",
    "}\n",
    "\n",
    "df_land_fifa.rename(index=nyindeks)"
   ]
  },
  {
   "cell_type": "markdown",
   "metadata": {
    "colab_type": "text",
    "id": "2spAtPD66CIE"
   },
   "source": [
    "\n",
    "\n",
    "---\n",
    "\n"
   ]
  }
 ],
 "metadata": {
  "colab": {
   "collapsed_sections": [],
   "include_colab_link": true,
   "name": "Pandas DataFrame.ipynb",
   "provenance": []
  },
  "kernelspec": {
   "display_name": "Python 3",
   "language": "python",
   "name": "python3"
  },
  "language_info": {
   "codemirror_mode": {
    "name": "ipython",
    "version": 3
   },
   "file_extension": ".py",
   "mimetype": "text/x-python",
   "name": "python",
   "nbconvert_exporter": "python",
   "pygments_lexer": "ipython3",
   "version": "3.7.6"
  }
 },
 "nbformat": 4,
 "nbformat_minor": 4
}
