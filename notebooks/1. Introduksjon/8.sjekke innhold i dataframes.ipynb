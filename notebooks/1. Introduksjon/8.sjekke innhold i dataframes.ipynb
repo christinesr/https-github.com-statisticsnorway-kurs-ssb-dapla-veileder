{
 "cells": [
  {
   "cell_type": "markdown",
   "metadata": {},
   "source": [
    "### Sjekke innhold i dataframes ved hjelp av Python og Pyspark. "
   ]
  },
  {
   "cell_type": "markdown",
   "metadata": {},
   "source": [
    "#### Ønsker å bruke funksjoner som gir output som ligner på den som PROC CONTENTS i SAS gir:\n",
    "\n",
    "* Antall observasjoner\n",
    "* Antall variable på datasettet\n",
    "* Dato og tidspunkt for når datasettet ble opprettet og dato og tidspunkt for når det ble sist modifisert\n",
    "* Liste over datasettets variable og deres attributter </b>\n",
    "    - Variablenes opprinnelige plass i datasettet (#). PROC CONTENTS printer dem ut i alfabetisk rekkefølge\n",
    "    - Varaiblenes navn\n",
    "    - Type: Om variabelen er numerisk (Num) eller character (Char)\n",
    "    - Lengde: Lengden/bredden på variabelen\n",
    "    - Format: Det tildelte (\"assigned\") formatet som vil brukes når variablenes verdi skrives ut i Output-vinduet\n",
    "    - Informat: Variablenes originale format da de ble lest inn i SAS\n",
    "    - Label: Det tildelte variabelnavnet som brukes når variabelen printes ut i Output-vinduet. Om det ikke oppgis noen verdi her, brukes Variabelnavnet"
   ]
  },
  {
   "cell_type": "markdown",
   "metadata": {},
   "source": [
    "#### Lager først en dataframe til bruk i eksempler "
   ]
  },
  {
   "cell_type": "code",
   "execution_count": null,
   "metadata": {},
   "outputs": [],
   "source": [
    "# importere pandas biblioteket\n",
    "import pandas as pd\n",
    "# lage et Dictionary med variabler (kolonnenavn) og verdier (kolonneverdier) som vi kaller land_fifa_data\n",
    "land_fifa_data = {'Land':['Belgia', 'Frankrike', 'Brasil', 'England', 'Uruguay', 'Norge','Tyskland'],\n",
    "                  'Poeng': [1765, 1733, 1712, 1661, 1645, 1451, 1602],\n",
    "                 }\n",
    "\n",
    "# skriv ut data\n",
    "land_fifa_data"
   ]
  },
  {
   "cell_type": "code",
   "execution_count": null,
   "metadata": {},
   "outputs": [],
   "source": [
    "# Opprette et DataFrame objekt med dictionary som parameter\n",
    "df_land_fifa = pd.DataFrame(land_fifa_data)\n",
    "df_land_fifa"
   ]
  },
  {
   "cell_type": "markdown",
   "metadata": {},
   "source": [
    "### Python: info() gir mye av den samme informasjonen om datasettet som PROC CONTENTS i SAS "
   ]
  },
  {
   "cell_type": "markdown",
   "metadata": {},
   "source": [
    "#### Får informasjon om:\n",
    "* antall observasjoner: RangeIndex\n",
    "* antall variable: Datacolumns \n",
    "* En tabell som viser: \n",
    "  - '#' - variabelens posisjon\n",
    "  - Column - kolonnenavn\n",
    "  - Non-Null Count - antall (ikke inkludert \"null\")\n",
    "  - Dtype - variabeltype\n",
    "                     \n",
    "* dtypes: varibaletypene som finnes på datasettet (og antall i parentes)\n",
    "*memory usage: bruk av minne"
   ]
  },
  {
   "cell_type": "code",
   "execution_count": null,
   "metadata": {},
   "outputs": [],
   "source": [
    "# Bruker info() på dataframen vi laget over\n",
    "df_land_fifa.info()"
   ]
  },
  {
   "cell_type": "markdown",
   "metadata": {},
   "source": [
    "#### Noen andre enkle kommandoer for å finne datasettets\n",
    "* antall celler\n",
    "* antall rader og kolonner\n",
    "* antall dimensjoner"
   ]
  },
  {
   "cell_type": "code",
   "execution_count": null,
   "metadata": {},
   "outputs": [],
   "source": [
    "print(df_land_fifa.size, df_land_fifa.shape, df_land_fifa.ndim)"
   ]
  },
  {
   "cell_type": "markdown",
   "metadata": {},
   "source": [
    "#### Kommandoer for å se på de føste og siste observasjonene "
   ]
  },
  {
   "cell_type": "code",
   "execution_count": null,
   "metadata": {},
   "outputs": [],
   "source": [
    "# De første 5 observasjonene\n",
    "df_land_fifa.head()"
   ]
  },
  {
   "cell_type": "code",
   "execution_count": null,
   "metadata": {},
   "outputs": [],
   "source": [
    "# De siste 2 obervasjonen\n",
    "df_land_fifa.tail(2)"
   ]
  },
  {
   "cell_type": "markdown",
   "metadata": {},
   "source": [
    "### PySpark: metoder som til sammen gir mye av den samme informasjonen som info() i Python"
   ]
  },
  {
   "cell_type": "markdown",
   "metadata": {},
   "source": [
    "#### Leser inn data fra eksempeldata fra fellesområdet:"
   ]
  },
  {
   "cell_type": "code",
   "execution_count": null,
   "metadata": {},
   "outputs": [],
   "source": [
    "df_areal = spark.read.path(\"/felles/veiledning/pyspark/eksempler/areal\")"
   ]
  },
  {
   "cell_type": "markdown",
   "metadata": {},
   "source": [
    "#### Bruker printScehma() for å se på datasettest skjema:"
   ]
  },
  {
   "cell_type": "code",
   "execution_count": null,
   "metadata": {},
   "outputs": [],
   "source": [
    "df_areal.printSchema()"
   ]
  },
  {
   "cell_type": "markdown",
   "metadata": {},
   "source": [
    "#### Forteller oss om:\n",
    "* kolonnenes/variablenes navn\n",
    "* kolonne-/variabeltype"
   ]
  },
  {
   "cell_type": "markdown",
   "metadata": {},
   "source": [
    "#### Kan finne antall rader ved brukt av count()"
   ]
  },
  {
   "cell_type": "code",
   "execution_count": null,
   "metadata": {},
   "outputs": [],
   "source": [
    "df_areal.count()"
   ]
  },
  {
   "cell_type": "markdown",
   "metadata": {},
   "source": [
    "#### Kan finne antall variable ved bruk av len(df.columns)"
   ]
  },
  {
   "cell_type": "code",
   "execution_count": null,
   "metadata": {},
   "outputs": [],
   "source": [
    "len(df_areal.columns)"
   ]
  },
  {
   "cell_type": "markdown",
   "metadata": {},
   "source": [
    "#### Kan finne variablenes navn ved bruk av columns"
   ]
  },
  {
   "cell_type": "code",
   "execution_count": null,
   "metadata": {},
   "outputs": [],
   "source": [
    "df_areal.columns"
   ]
  },
  {
   "cell_type": "markdown",
   "metadata": {},
   "source": [
    "#### Ser på de første 5 radene i datasettet"
   ]
  },
  {
   "cell_type": "code",
   "execution_count": null,
   "metadata": {},
   "outputs": [],
   "source": [
    "df_areal.head(5)"
   ]
  },
  {
   "cell_type": "code",
   "execution_count": null,
   "metadata": {},
   "outputs": [],
   "source": []
  }
 ],
 "metadata": {
  "kernelspec": {
   "display_name": "Pyspark (local)",
   "language": "python",
   "name": "pyspark_local"
  },
  "language_info": {
   "codemirror_mode": {
    "name": "ipython",
    "version": 3
   },
   "file_extension": ".py",
   "mimetype": "text/x-python",
   "name": "python",
   "nbconvert_exporter": "python",
   "pygments_lexer": "ipython3",
   "version": "3.7.6"
  }
 },
 "nbformat": 4,
 "nbformat_minor": 4
}
