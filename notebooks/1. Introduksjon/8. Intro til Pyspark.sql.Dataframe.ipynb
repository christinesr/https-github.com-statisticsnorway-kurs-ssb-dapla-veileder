{
 "cells": [
  {
   "cell_type": "markdown",
   "metadata": {},
   "source": [
    "# Grunnleggende om Pyspark DataFrame\n"
   ]
  },
  {
   "cell_type": "markdown",
   "metadata": {},
   "source": [
    "## Dataframe\n",
    "<font size=2>I pyspark er <code>DataFrame</code> et dimensjonalt datasett organisert i navngitte kolonner. Det tilsvarer konseptuelt en tabell i en relasjonsdatabase eller en dataramme (data frame) i R eller Python. <code>DataFrame</code> kan konstrueres fra mange kilder, som f.eks. strukturerte datafiler eller databaser. <code>DataFrame</code> API er også tilgjengelig i Scala, Java, Python og R.\n",
    "</font>"
   ]
  },
  {
   "cell_type": "markdown",
   "metadata": {},
   "source": [
    "## Grunnleggende operasjoner som kan gjøres på en PySpark DataFrame:\n",
    "\n",
    "1. Lage en PySpark DataFrame\n",
    "2. Gjøre operasjoner på rader og kolonner\n",
    "3. Velge ut, legge til og fjerne data\n",
    "4. Håndtere manglende (missing) data\n",
    "5. Endre navn på kolonner "
   ]
  },
  {
   "cell_type": "markdown",
   "metadata": {},
   "source": [
    "#### Importere biblioteker (kode)"
   ]
  },
  {
   "cell_type": "code",
   "execution_count": null,
   "metadata": {},
   "outputs": [],
   "source": [
    "import pyspark.sql.functions as F\n",
    "\n",
    "from pyspark.sql.types import *"
   ]
  },
  {
   "cell_type": "markdown",
   "metadata": {},
   "source": [
    "## 1. Konstruere en Dataframe i pyspark\n",
    "Den neste paragrafen etablerer et datasett (<code>pyspark.sql.Dataframe</code>) for testformål.\n",
    "\n",
    "Koden for å lage en dataframe i pyspark:\n",
    "<br><code>sqlContext.createDataFrame(<i>verdier</i>, <i>skjema</i>)</code>\n",
    "\n",
    "Skjema er en <code>StructType</code> med et array av <code>StructField</code> som definerer kolonnene:\n",
    "<br><code>skjema = StructType([StructField('<i>kolonne A</i>', <i>datatype</i>, <i>obligatorisk</i>)], [StructField('<i>kolonne B</i>', <i>datatype</i>, <i>obligatorisk</i>)], ...)></code>\n",
    "\n",
    "Mens verdier er et array av rekker av data: \n",
    "<br><code>verdier = [('data i kolonne A', 'data i kolonnne B', ...), ('data i kolonne A', 'data i kolonnne B', ...), ...]</code>"
   ]
  },
  {
   "cell_type": "code",
   "execution_count": null,
   "metadata": {},
   "outputs": [],
   "source": [
    "schema_land_bnp = StructType([\\\n",
    "    StructField('Land',StringType(), False),\\\n",
    "    StructField('Landkode',StringType(), False),\\\n",
    "    StructField('BNP', LongType(), False),\\\n",
    "    StructField('År', IntegerType(), False),\\\n",
    "    StructField('Kilde', StringType(), False)])\n",
    "\n",
    "# ('Slovenia','SI',-54007972106,2018,'https://www.fn.no/Statistikk/BNP') (feil: negativ verdi)\n",
    "# ('Portugal','PT',-25878475760,2018,'https://www.fn.no/Statistikk/BNP') (feil: negativ verdi)\n",
    " \n",
    "value_land_bnp = [\\\n",
    "    ('Norge','NO',434166615432,2018,'https://www.fn.no/Statistikk/BNP'),\\\n",
    "    ('Sverige','SE',556086488937,2018,'https://www.fn.no/Statistikk/BNP'),\\\n",
    "    ('Finland','FI',355675329086,2018,'https://www.fn.no/Statistikk/BNP'),\\\n",
    "    ('Island','IS',25878475760,2018,'https://www.fn.no/Statistikk/BNP'),\\\n",
    "    ('Frankrike','FR',2777535239277,2018,'https://www.fn.no/Statistikk/BNP'),\\\n",
    "    ('Belgia','BE',542761092103,2018,'https://www.fn.no/Statistikk/BNP'),\\\n",
    "    ('Bulgaria','BG',65132951116,2018,'https://www.fn.no/Statistikk/BNP'),\\\n",
    "    ('Slovenia','SI',-54007972106,2018,'https://www.fn.no/Statistikk/BNP'),\\\n",
    "    ('Spania','ES',1419041949910,2018,'https://www.fn.no/Statistikk/BNP'),\\\n",
    "    ('Sveits','CH',705140354166,2018,'https://www.fn.no/Statistikk/BNP'),\\\n",
    "    ('Østerrike','AT',455285818035,2018,'https://www.fn.no/Statistikk/BNP'),\\\n",
    "    ('Tyskland','DE',3947620162502,2018,'https://www.fn.no/Statistikk/BNP'),\\\n",
    "    ('Storbritannia','GB',2855296731521,2018,'https://www.fn.no/Statistikk/BNP'),\\\n",
    "    ('Romania','RO',239552516744,2018,'https://www.fn.no/Statistikk/BNP'),\\\n",
    "    ('Portugal','PT',-25878475760,2018,'https://www.fn.no/Statistikk/BNP'),\\\n",
    "    ('Polen','PL',585663814824,2018,'https://www.fn.no/Statistikk/BNP'),\\\n",
    "    ('Nederland','NL',913658465709,2018,'https://www.fn.no/Statistikk/BNP'),\\\n",
    "    ('Luxembourg','LU',70885325883,2018,'https://www.fn.no/Statistikk/BNP'),\\\n",
    "    ('Kroatia','HR',60971699315,2018,'https://www.fn.no/Statistikk/BNP'),\\\n",
    "    ('Italia','IT',2083864259623,2018,'https://www.fn.no/Statistikk/BNP'),\\\n",
    "    ('Danmark','DK',355675329086,2018,'https://www.fn.no/Statistikk/BNP')]\n",
    "\n",
    "df_land_bnp = spark.createDataFrame(value_land_bnp, schema_land_bnp)\n",
    "\n",
    "df_land_bnp.show()"
   ]
  },
  {
   "cell_type": "code",
   "execution_count": null,
   "metadata": {},
   "outputs": [],
   "source": [
    "# Setter Sveriges BNP til missing\n",
    "df_land_bnp = df_land_bnp.withColumn('BNP',F.when(df_land_bnp.Landkode == 'SE',F.lit(None).cast(NullType())).otherwise(df_land_bnp.BNP))\n",
    "df_land_bnp.show()"
   ]
  },
  {
   "cell_type": "markdown",
   "metadata": {},
   "source": [
    "## 2. Gjøre operasjoner på rader og kolonner"
   ]
  },
  {
   "cell_type": "markdown",
   "metadata": {},
   "source": [
    "**Velge en kolonne**"
   ]
  },
  {
   "cell_type": "markdown",
   "metadata": {},
   "source": [
    "For å velge en kolonne, trenger vi bare å å bruke .select() og oppgi kolonnenavnet: <code>df.select('Kolonnenavn')</code>\n",
    "For å se resultatet, må vi bruke .show():"
   ]
  },
  {
   "cell_type": "code",
   "execution_count": null,
   "metadata": {},
   "outputs": [],
   "source": [
    "df_land_bnp.select('BNP').show()"
   ]
  },
  {
   "cell_type": "markdown",
   "metadata": {},
   "source": [
    "**Velge flere kolonner**"
   ]
  },
  {
   "cell_type": "markdown",
   "metadata": {},
   "source": [
    "For å velge flere kolonner, kan vi bare oppgi flere kolonnenavn: <code>df.select(‘kolonnenavn1’,‘kolonnenavn2’)</code>"
   ]
  },
  {
   "cell_type": "code",
   "execution_count": null,
   "metadata": {},
   "outputs": [],
   "source": [
    "df_land_bnp.select('Land','BNP').show()"
   ]
  },
  {
   "cell_type": "markdown",
   "metadata": {},
   "source": [
    "**Velge en rad**"
   ]
  },
  {
   "cell_type": "markdown",
   "metadata": {},
   "source": [
    "Vi kan bruke <code>.collect()[:n]</code> til å velge ut n rader med data fra dataframen."
   ]
  },
  {
   "cell_type": "code",
   "execution_count": null,
   "metadata": {},
   "outputs": [],
   "source": [
    "# Velge rad 1:\n",
    "rad = df_land_bnp.collect()[:1]\n",
    "\n",
    "# printe ut raden:\n",
    "rad"
   ]
  },
  {
   "cell_type": "code",
   "execution_count": null,
   "metadata": {},
   "outputs": [],
   "source": [
    "# Velge de tre første radene:\n",
    "rad3 = df_land_bnp.collect()[:3]\n",
    "\n",
    "# printe ut radene:\n",
    "rad3"
   ]
  },
  {
   "cell_type": "markdown",
   "metadata": {},
   "source": [
    "## 3. Legge til og fjerne data"
   ]
  },
  {
   "cell_type": "markdown",
   "metadata": {},
   "source": [
    "Kolonner kan fjernes med `drop` kommandoen"
   ]
  },
  {
   "cell_type": "code",
   "execution_count": null,
   "metadata": {},
   "outputs": [],
   "source": [
    "# lager en ny dataframe som ikke inneholder kilde:\n",
    "\n",
    "df_bnp_u_kilde = df_land_bnp.drop('Kilde')\n",
    "df_bnp_u_kilde.show()\n"
   ]
  },
  {
   "cell_type": "markdown",
   "metadata": {},
   "source": [
    "Kolonner kan legges til vha `withColumn()` kommandoen"
   ]
  },
  {
   "cell_type": "code",
   "execution_count": null,
   "metadata": {},
   "outputs": [],
   "source": [
    "df_bnp2 = df_bnp_u_kilde.withColumn('BNP_i_millioner',df_bnp_u_kilde['BNP']/1000000)"
   ]
  },
  {
   "cell_type": "code",
   "execution_count": null,
   "metadata": {},
   "outputs": [],
   "source": [
    "df_bnp2.show()"
   ]
  },
  {
   "cell_type": "markdown",
   "metadata": {},
   "source": [
    "Hvis vi ønsker å legge til en kolonne fra en annen dataframe, kan vi koble sammen dataframene:"
   ]
  },
  {
   "cell_type": "code",
   "execution_count": null,
   "metadata": {},
   "outputs": [],
   "source": [
    "df_bnp_ny = df_bnp2.join(df_land_bnp.select('Land','Kilde'),'Land','inner')\n",
    "df_bnp_ny.show()"
   ]
  },
  {
   "cell_type": "markdown",
   "metadata": {},
   "source": [
    "## 4. Håndtere manglende (missing) data"
   ]
  },
  {
   "cell_type": "markdown",
   "metadata": {},
   "source": [
    "Sjekker om det er noen na- eller nan-verdier på datasettet"
   ]
  },
  {
   "cell_type": "code",
   "execution_count": null,
   "metadata": {},
   "outputs": [],
   "source": [
    "df_bnp_ny.select([F.count(F.when(F.isnan(c), c)).alias(c) for c in df_bnp_ny.columns]).show()\n"
   ]
  },
  {
   "cell_type": "markdown",
   "metadata": {},
   "source": [
    "Sjekker om det er noen null-verdier på datasettet:"
   ]
  },
  {
   "cell_type": "code",
   "execution_count": null,
   "metadata": {},
   "outputs": [],
   "source": [
    "df_bnp_ny.select([F.count(F.when(F.col(c).isNull(), c)).alias(c) for c in df_bnp_ny.columns]).show()"
   ]
  },
  {
   "cell_type": "markdown",
   "metadata": {},
   "source": [
    "Lager en ny variabel som settes lik 0 dersom verdien er null:"
   ]
  },
  {
   "cell_type": "code",
   "execution_count": null,
   "metadata": {},
   "outputs": [],
   "source": [
    "df_imp = df_bnp_ny.withColumn('BNP_imp', F.when(df_bnp_ny['BNP'].isNull(),F.lit(0)).otherwise(df_bnp_ny['BNP']))\n",
    "df_imp.filter(df_imp.BNP.isNull()).show()"
   ]
  },
  {
   "cell_type": "markdown",
   "metadata": {},
   "source": [
    "Bytter verdien til 0 dersom verdien i en variabel er null:"
   ]
  },
  {
   "cell_type": "code",
   "execution_count": null,
   "metadata": {},
   "outputs": [],
   "source": [
    "df_bnp_ny = df_bnp_ny.withColumn('BNP', F.when(df_bnp_ny['BNP'].isNull(), F.lit(0))\\\n",
    "        .otherwise(df_bnp_ny['BNP']))"
   ]
  },
  {
   "cell_type": "code",
   "execution_count": null,
   "metadata": {},
   "outputs": [],
   "source": [
    "df_bnp_ny.show()"
   ]
  },
  {
   "cell_type": "markdown",
   "metadata": {},
   "source": [
    "Når vi nå har missingverdier så kan vi endre disse med bruk av DataFrame-metoden `fillna()`"
   ]
  },
  {
   "cell_type": "code",
   "execution_count": null,
   "metadata": {},
   "outputs": [],
   "source": [
    "df3 = df_bnp_ny.fillna(0)"
   ]
  },
  {
   "cell_type": "code",
   "execution_count": null,
   "metadata": {},
   "outputs": [],
   "source": [
    "df3.show()"
   ]
  },
  {
   "cell_type": "markdown",
   "metadata": {},
   "source": [
    "## 5. Endre navn på kolonner "
   ]
  },
  {
   "cell_type": "code",
   "execution_count": null,
   "metadata": {},
   "outputs": [],
   "source": [
    "df3_ny = df3.withColumnRenamed('BNP_i_millioner', 'BNP_i_mill').show()"
   ]
  },
  {
   "cell_type": "code",
   "execution_count": null,
   "metadata": {},
   "outputs": [],
   "source": []
  }
 ],
 "metadata": {
  "kernelspec": {
   "display_name": "Pyspark (local)",
   "language": "python",
   "name": "pyspark_local"
  },
  "language_info": {
   "codemirror_mode": {
    "name": "ipython",
    "version": 3
   },
   "file_extension": ".py",
   "mimetype": "text/x-python",
   "name": "python",
   "nbconvert_exporter": "python",
   "pygments_lexer": "ipython3",
   "version": "3.7.6"
  }
 },
 "nbformat": 4,
 "nbformat_minor": 4
}
