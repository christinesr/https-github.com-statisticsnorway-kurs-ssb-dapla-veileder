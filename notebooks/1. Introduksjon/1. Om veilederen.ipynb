{
 "cells": [
  {
   "cell_type": "markdown",
   "metadata": {},
   "source": [
    "<h2>Innledning</h2>\n",
    "<font size=2>SSB utvikler løsninger for modernisert statistikkproduksjon. Denne veilederen har til hensikt å hjelpe nye og erfarene brukere i å bruke produksjonsystemet for å <a href=\"https://wiki.ssb.no/pages/viewpage.action?pageId=115278064\" target=\"planlegge \">planlegge</a>, <a href=\"https://wiki.ssb.no/pages/viewpage.action?pageId=115281281\" target=\"bygge\">bygge og <a href=\"https://wiki.ssb.no/pages/viewpage.action?pageId=117149061\" target=\"Fase 5&6: Klargjøre og analysere\">produsere</a> statistikk. Den er skrevet i kjørende kode. \n",
    "\n",
    "Veledningsteksten er er skrevet i <a href=\"https://daringfireball.net/projects/markdown/\" target=\"Markdown Project Page\">Markdown</a>, mens eksemplene er skrevet i <a href=\"https://spark.apache.org/docs/latest/api/python/index.html\" target=\"Spark Python API Docs\">Pyspark</a>. Jupiter støtter også andre språk. Pyspark <i>snakker med</i> og anvender <a href=\"http://spark.apache.org/sql/\" target=\"Spark SQL & Dataframes | Apache\">Sparks SQL</a>. \n",
    "\n",
    "Sparks SQL er en modul i Spark som håndterer strukturerte data. Og når vi først er inne på det, så er Spark omgivelsen, eller infrastrukturen, som anvendes i Byråets dataplattform for å prosesserer store datamengder.\n",
    "\n",
    "Utviklingen av veilederen er behovsstyrt og må forholde seg til et produksjonssystem i utvikling.\n",
    "</font>"
   ]
  },
  {
   "cell_type": "markdown",
   "metadata": {},
   "source": [
    "### Produksjonssysten for å planlegge, bygge og produserer statistikk\n",
    "(Kort beskrive produksjonssystemet)"
   ]
  },
  {
   "cell_type": "markdown",
   "metadata": {},
   "source": [
    "### Hva er pyspark"
   ]
  },
  {
   "cell_type": "markdown",
   "metadata": {},
   "source": [
    "### Pyspark biblioteker\n",
    "<font size=2>Oppgave: forklare hva og hvordan bruke biblioteker i pyspark, peke til hvor bibliotekene er beskrevet appache.spark....\n",
    "</font>"
   ]
  },
  {
   "cell_type": "markdown",
   "metadata": {},
   "source": [
    "<h3>Innhold</h3>\n",
    "<font size=2><ul>\n",
    "<li><a href=\"\" target=\"1. Om veilederen\">1. Om veilederen</a> \n",
    "<li><a href=\"\" target=\"2. Datasett og felles datalager\">2. Datasett og felles datalager</a>\n",
    "<li><a href=\"\" target=\"3. Pyspark funksjoner i klargjøring\">3. Pyspark funksjoner i klargjøring</a>\n",
    "<li><a href=\"\" target=\"4. Fellesfunksjoner (SSB)\">4. Fellesfunksjoner (SSB)</a>\n",
    "</ul>\n",
    "</font>"
   ]
  },
  {
   "cell_type": "code",
   "execution_count": null,
   "metadata": {},
   "outputs": [],
   "source": []
  }
 ],
 "metadata": {
  "kernelspec": {
   "display_name": "Pyspark (local)",
   "language": "python",
   "name": "pyspark_local"
  },
  "language_info": {
   "codemirror_mode": {
    "name": "ipython",
    "version": 3
   },
   "file_extension": ".py",
   "mimetype": "text/x-python",
   "name": "python",
   "nbconvert_exporter": "python",
   "pygments_lexer": "ipython3",
   "version": "3.7.6"
  }
 },
 "nbformat": 4,
 "nbformat_minor": 4
}
