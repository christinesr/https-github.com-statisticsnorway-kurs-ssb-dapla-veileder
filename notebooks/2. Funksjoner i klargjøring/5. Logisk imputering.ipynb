{
 "cells": [
  {
   "cell_type": "markdown",
   "metadata": {},
   "source": [
    "## Logisk imputering\n",
    "<font size = 2>Logisk imputering er å tilordne en variabel en verdi utledet fra logiske regler:\n",
    "- Hvis betingelse er sann, så skal verdi A settes: <code><b>when</b>(betingelse, A)</code>\n",
    "- Hvis  betingelse er sann, så skal verdi A settes, hvis ikke, så skal verdi B settes: <code><b>when</b>(betingelse, A).<b>otherwise</b>(B)</code></font>"
   ]
  },
  {
   "cell_type": "markdown",
   "metadata": {},
   "source": [
    "### Funksjoner for logisk imputering\n",
    "<font size=2>Det er blitt laget tre funksjonene i Pyspark som hh.endrer en negative verdi til tallet 0, en negativ verdi til positiv og en missingverdi til null. Selve koden finnes i neste paragraf og eksempler på hvordan de brukes finnes lenger ned i noten:\n",
    "<li> <code>set_neg_to_zero(df, col_names)</code>:\n",
    "<li> <code>set_neg_to_plus(df, col_names)</code>:\n",
    "<li> <code>set_miss_to_zero(df, col_names)</code>:\n",
    "<ul>\n",
    "</font>"
   ]
  },
  {
   "cell_type": "markdown",
   "metadata": {},
   "source": [
    "def set_neg_to_zero(df, col_names):\n",
    "    for col_name in col_names:\n",
    "            df = df.withColumn(col_name, F.when(df[col_name]<0, F.lit(0))\\\n",
    "            .otherwise(df[col_name]))\n",
    "    return df\n",
    "    \n",
    "def set_neg_to_plus(df, col_names):\n",
    "    for col_name in col_names:\n",
    "            df = df.withColumn(col_name, F.when(df[col_name]<0, F.abs(df[col_name]))\\\n",
    "            .otherwise(df[col_name]))\n",
    "    return df\n",
    "    \n",
    "def set_miss_to_zero(df, col_names):\n",
    "    for col_name in col_names:\n",
    "        df = df.withColumn(col_name, F.when(df[col_name].isNull(), F.lit(0))\\\n",
    "        .otherwise(df[col_name]))\n",
    "    return df"
   ]
  },
  {
   "cell_type": "markdown",
   "metadata": {},
   "source": [
    "#### Importere biblioteker (kode)"
   ]
  },
  {
   "cell_type": "code",
   "execution_count": null,
   "metadata": {},
   "outputs": [],
   "source": [
    "from pyspark.sql import DataFrame\n",
    "import pyspark.sql.functions as F"
   ]
  },
  {
   "cell_type": "markdown",
   "metadata": {},
   "source": [
    "### Hente eksempeldata (kode)"
   ]
  },
  {
   "cell_type": "code",
   "execution_count": null,
   "metadata": {},
   "outputs": [],
   "source": [
    "#df_areal = spark.read.format(\"gsim\").load(\"/felles/veiledning/pyspark/eksempler/areal\")\n",
    "#df_bnp = spark.read.format(\"gsim\").load(\"/felles/veiledning/pyspark/eksempler/bnp\")\n",
    "df_innbyggerantall_2020 = spark.read.path(\"gsim\").load(\"/felles/veiledning/pyspark/eksempler/innbyggerantall/2020\")\n",
    "df_innbyggerantall_2018 = spark.read.path(\"gsim\").load(\"/felles/veiledning/pyspark/eksempler/innbyggerantall/2018\")"
   ]
  },
  {
   "cell_type": "markdown",
   "metadata": {},
   "source": [
    "#### Koble innbyggerantall på arealdatasett (koblingsnøkkel er Landkode) til bruk for å illustrere logisk imputering (kode)"
   ]
  },
  {
   "cell_type": "code",
   "execution_count": null,
   "metadata": {},
   "outputs": [],
   "source": [
    "df_areal_lite = df_areal.select('Landkode','Areal').withColumnRenamed('Landkode','Lkode')\n",
    "df_areal_innbyggerantall_20 = df_areal_lite.join(df_innbyggerantall_2020.select('Landkode','Innbyggerantall'), df_areal_lite.Lkode == df_innbyggerantall_2020.Landkode, how='left')\n",
    "df_areal_innbyggerantall_20.show()"
   ]
  },
  {
   "cell_type": "markdown",
   "metadata": {},
   "source": [
    "#### Erstatte missing-verdier i innbyggertall med null ved bruk av logisk betingelse (kode)"
   ]
  },
  {
   "cell_type": "code",
   "execution_count": null,
   "metadata": {},
   "outputs": [],
   "source": [
    "df_areal_innbyggerantall_imp = df_areal_innbyggerantall_20.withColumn('Innbyggere', F.when(df_areal_innbyggerantall_20['Innbyggerantall'].isNull(),F.lit(0)).otherwise(df_areal_innbyggerantall_20['Innbyggerantall']))\n",
    "df_areal_innbyggerantall_imp.filter(df_areal_innbyggerantall_imp.Innbyggerantall.isNull()).show()"
   ]
  },
  {
   "cell_type": "markdown",
   "metadata": {},
   "source": [
    "#### Erstatte missing-verdier i innbyggertall ved bruk av funksjonen set_miss_to_zero (kode)"
   ]
  },
  {
   "cell_type": "code",
   "execution_count": null,
   "metadata": {},
   "outputs": [],
   "source": [
    "df_areal_innbyggerantall_imp2 = set_miss_to_zero(df_areal_innbyggerantall_20, ['Innbyggerantall'])\n",
    "df_areal_innbyggerantall_imp2.filter(df_areal_innbyggerantall_imp2.Lkode.isin(['RO','GL','CZ','SK'])).show()"
   ]
  },
  {
   "cell_type": "markdown",
   "metadata": {},
   "source": [
    "#### Erstatte negativ verdi i bnp med 0 ved bruk av logisk regel (kode)"
   ]
  },
  {
   "cell_type": "code",
   "execution_count": null,
   "metadata": {},
   "outputs": [],
   "source": [
    "df_bnp_imp = df_bnp.withColumn('BNPimp', F.when(df_bnp['BNP']<0,F.lit(0)).otherwise(df_bnp['BNP']))\n",
    "df_bnp_imp.filter(df_bnp_imp['BNP'] < 0).show()"
   ]
  },
  {
   "cell_type": "markdown",
   "metadata": {},
   "source": [
    "#### Erstatte negativ verdi i bnp med 0 ved bruk av funksjonen set_neg_to_zero (kode)"
   ]
  },
  {
   "cell_type": "code",
   "execution_count": null,
   "metadata": {},
   "outputs": [],
   "source": [
    "df_bnp_imp2 = set_neg_to_zero(df_bnp,['BNP'])\n",
    "df_bnp_imp2.filter(df_bnp_imp2.Landkode.isin(['PT','SI'])).show()"
   ]
  },
  {
   "cell_type": "markdown",
   "metadata": {},
   "source": [
    "#### Erstatte negativ verdi av bnp med absoluttverdien ved bruk av logisk regel (kode)"
   ]
  },
  {
   "cell_type": "code",
   "execution_count": null,
   "metadata": {},
   "outputs": [],
   "source": [
    "df_bnp_imp_abs = df_bnp.withColumn('BNPpos',F.when(df_bnp['BNP']<0, F.abs(df_bnp['BNP']))\\\n",
    "            .otherwise(df_bnp['BNP']))\n",
    "df_bnp_imp_abs.filter(df_bnp_imp2.Landkode.isin(['PT','SI'])).show()"
   ]
  },
  {
   "cell_type": "markdown",
   "metadata": {},
   "source": [
    "#### Erstatte negativ verdi med absoluttverdien ved bruk av funksjonen set_neg_to_plus (kode)"
   ]
  },
  {
   "cell_type": "code",
   "execution_count": null,
   "metadata": {},
   "outputs": [],
   "source": [
    "df_bnp_imp_abs2 = set_neg_to_plus(df_bnp,['BNP'])\n",
    "df_bnp_imp_abs2.filter(df_bnp_imp2.Landkode.isin(['PT','SI'])).show()"
   ]
  }
 ],
 "metadata": {
  "kernelspec": {
   "display_name": "Pyspark (local)",
   "language": "python",
   "name": "pyspark_local"
  },
  "language_info": {
   "codemirror_mode": {
    "name": "ipython",
    "version": 3
   },
   "file_extension": ".py",
   "mimetype": "text/x-python",
   "name": "python",
   "nbconvert_exporter": "python",
   "pygments_lexer": "ipython3",
   "version": "3.7.6"
  }
 },
 "nbformat": 4,
 "nbformat_minor": 4
}
