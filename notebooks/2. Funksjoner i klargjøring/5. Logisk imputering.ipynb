{
 "cells": [
  {
   "cell_type": "markdown",
   "metadata": {},
   "source": [
    "## Logisk imputering\n",
    "<font size = 2>Logisk imputering er å tilordne en variabel en verdi utledet fra logiske regler:\n",
    "- Hvis betingelse er sann, så skal verdi A settes: <code><b>when</b>(betingelse, A)</code>\n",
    "- Hvis  betingelse er sann, så skal verdi A settes, hvis ikke, så skal verdi B settes: <code><b>when</b>(betingelse, A).<b>otherwise</b>(B)</code></font>"
   ]
  },
  {
   "cell_type": "markdown",
   "metadata": {},
   "source": [
    "### Funksjoner for logisk imputering\n",
    "<font size=2>Det er blitt laget tre funksjonene i Pyspark som hh.endrer en negative verdi til tallet 0, en negativ verdi til positiv og en missingverdi til null. Selve koden finnes i neste paragraf og eksempler på hvordan de brukes finnes lenger ned i noten:\n",
    "<li> <code>set_neg_to_zero(df, col_names)</code>:\n",
    "<li> <code>set_neg_to_plus(df, col_names)</code>:\n",
    "<li> <code>set_miss_to_zero(df, col_names)</code>:\n",
    "<ul>\n",
    "</font>"
   ]
  },
  {
   "cell_type": "code",
   "execution_count": null,
   "metadata": {},
   "outputs": [],
   "source": [
    "def set_neg_to_zero(df, col_names):\n",
    "    for col_name in col_names:\n",
    "            df = df.withColumn(col_name, F.when(df[col_name]<0, F.lit(0))\\\n",
    "            .otherwise(df[col_name]))\n",
    "    return df\n",
    "    \n",
    "def set_neg_to_plus(df, col_names):\n",
    "    for col_name in col_names:\n",
    "            df = df.withColumn(col_name, F.when(df[col_name]<0, F.abs(df[col_name]))\\\n",
    "            .otherwise(df[col_name]))\n",
    "    return df\n",
    "    \n",
    "def set_miss_to_zero(df, col_names):\n",
    "    for col_name in col_names:\n",
    "        df = df.withColumn(col_name, F.when(df[col_name].isNull(), F.lit(0))\\\n",
    "        .otherwise(df[col_name]))\n",
    "    return df"
   ]
  },
  {
   "cell_type": "markdown",
   "metadata": {},
   "source": [
    "#### Importere biblioteker (kode)"
   ]
  },
  {
   "cell_type": "code",
   "execution_count": null,
   "metadata": {},
   "outputs": [],
   "source": [
    "from pyspark.sql import DataFrame\n",
    "import pyspark.sql.functions as F"
   ]
  },
  {
   "cell_type": "markdown",
   "metadata": {},
   "source": [
    "### Hente eksempeldata (kode)"
   ]
  },
  {
   "cell_type": "code",
   "execution_count": null,
   "metadata": {},
   "outputs": [],
   "source": [
    "df_areal = spark.read.path(\"/felles/veiledning/pyspark/eksempler/areal\")\n",
    "df_bnp = spark.read.path(\"/felles/veiledning/pyspark/eksempler/bnp\")\n",
    "df_innbyggerantall_2020 = spark.read.path(\"/felles/veiledning/pyspark/eksempler/innbyggerantall/2020\")\n",
    "df_innbyggerantall_2018 = spark.read.path(\"/felles/veiledning/pyspark/eksempler/innbyggerantall/2018\")"
   ]
  },
  {
   "cell_type": "markdown",
   "metadata": {},
   "source": [
    "#### Koble innbyggerantall på arealdatasett (koblingsnøkkel er Landkode) til bruk for å illustrere logisk imputering (kode)"
   ]
  },
  {
   "cell_type": "code",
   "execution_count": null,
   "metadata": {},
   "outputs": [],
   "source": [
    "df_areal_lite = df_areal.select('Landkode','Areal').withColumnRenamed('Landkode','Lkode')\n",
    "df_areal_innbyggerantall_20 = df_areal_lite.join(df_innbyggerantall_2020.select('Landkode','Innbyggerantall'), df_areal_lite.Lkode == df_innbyggerantall_2020.Landkode, how='left')\n",
    "df_areal_innbyggerantall_20.show()"
   ]
  },
  {
   "cell_type": "markdown",
   "metadata": {},
   "source": [
    "#### Erstatte missing-verdier i innbyggertall med null ved bruk av logisk betingelse (kode)"
   ]
  },
  {
   "cell_type": "code",
   "execution_count": null,
   "metadata": {},
   "outputs": [],
   "source": [
    "df_areal_innbyggerantall_imp = df_areal_innbyggerantall_20.withColumn('Innbyggere', F.when(df_areal_innbyggerantall_20['Innbyggerantall'].isNull(),F.lit(0)).otherwise(df_areal_innbyggerantall_20['Innbyggerantall']))\n",
    "df_areal_innbyggerantall_imp.filter(df_areal_innbyggerantall_imp.Innbyggerantall.isNull()).show()"
   ]
  },
  {
   "cell_type": "markdown",
   "metadata": {},
   "source": [
    "#### Erstatte missing-verdier i innbyggertall ved bruk av funksjonen set_miss_to_zero (kode)"
   ]
  },
  {
   "cell_type": "code",
   "execution_count": null,
   "metadata": {},
   "outputs": [],
   "source": [
    "df_areal_innbyggerantall_imp2 = set_miss_to_zero(df_areal_innbyggerantall_20, ['Innbyggerantall'])\n",
    "df_areal_innbyggerantall_imp2.filter(df_areal_innbyggerantall_imp2.Lkode.isin(['RO','GL','CZ','SK'])).show()"
   ]
  },
  {
   "cell_type": "markdown",
   "metadata": {},
   "source": [
    "#### Erstatte negativ verdi i bnp med 0 ved bruk av logisk regel (kode)"
   ]
  },
  {
   "cell_type": "code",
   "execution_count": null,
   "metadata": {},
   "outputs": [],
   "source": [
    "df_bnp_imp = df_bnp.withColumn('BNPimp', F.when(df_bnp['BNP']<0,F.lit(0)).otherwise(df_bnp['BNP']))\n",
    "df_bnp_imp.filter(df_bnp_imp['BNP'] < 0).show()"
   ]
  },
  {
   "cell_type": "markdown",
   "metadata": {},
   "source": [
    "#### Erstatte negativ verdi i bnp med 0 ved bruk av funksjonen set_neg_to_zero (kode)"
   ]
  },
  {
   "cell_type": "code",
   "execution_count": null,
   "metadata": {},
   "outputs": [],
   "source": [
    "df_bnp_imp2 = set_neg_to_zero(df_bnp,['BNP'])\n",
    "df_bnp_imp2.filter(df_bnp_imp2.Landkode.isin(['PT','SI'])).show()"
   ]
  },
  {
   "cell_type": "markdown",
   "metadata": {},
   "source": [
    "#### Erstatte negativ verdi av bnp med absoluttverdien ved bruk av logisk regel (kode)"
   ]
  },
  {
   "cell_type": "code",
   "execution_count": null,
   "metadata": {},
   "outputs": [],
   "source": [
    "df_bnp_imp_abs = df_bnp.withColumn('BNPpos',F.when(df_bnp['BNP']<0, F.abs(df_bnp['BNP']))\\\n",
    "            .otherwise(df_bnp['BNP']))\n",
    "df_bnp_imp_abs.filter(df_bnp_imp2.Landkode.isin(['PT','SI'])).show()"
   ]
  },
  {
   "cell_type": "markdown",
   "metadata": {},
   "source": [
    "#### Erstatte negativ verdi med absoluttverdien ved bruk av funksjonen set_neg_to_plus (kode)"
   ]
  },
  {
   "cell_type": "code",
   "execution_count": null,
   "metadata": {},
   "outputs": [],
   "source": [
    "df_bnp_imp_abs2 = set_neg_to_plus(df_bnp,['BNP'])\n",
    "df_bnp_imp_abs2.filter(df_bnp_imp2.Landkode.isin(['PT','SI'])).show()"
   ]
  },
  {
   "cell_type": "markdown",
   "metadata": {},
   "source": [
    "#### Lage datasett til bruk i eksempel på historisk imputering.\n",
    "Først lages et mindre datasett over innbyggerantall i fire land i 2020. Deretter kobles et datsett med tall fra 2020 og et med tall fra 2018 sammen i neste paragraf. Variablene på datasettet fra 2018 gis nye navn."
   ]
  },
  {
   "cell_type": "code",
   "execution_count": null,
   "metadata": {},
   "outputs": [],
   "source": [
    "df_innbyggerantall_2020_lite = df_innbyggerantall_2020.select(df_innbyggerantall_2020.columns).filter(df_innbyggerantall_2020.Landkode.isin(['FO','SE','BE','DK']))\n",
    "df_innbyggerantall_2020_lite.show()"
   ]
  },
  {
   "cell_type": "code",
   "execution_count": null,
   "metadata": {},
   "outputs": [],
   "source": [
    "df_innbyggere_2018 = df_innbyggerantall_2018.withColumnRenamed('Innbyggerantall','Innbyggerantall_2018').withColumnRenamed('År','Årstall').withColumnRenamed('Kilde','Kilde_2018').withColumnRenamed('Landkode','Landkode_2018')\n",
    "df_innbyggere_2020_2018 = df_innbyggerantall_2020_lite.join(df_innbyggere_2018, 'Land', 'left')\n",
    "df_innbyggere_2020_2018.show()"
   ]
  },
  {
   "cell_type": "markdown",
   "metadata": {},
   "source": [
    "#### Til slutt lages et nytt datasett der verdier fra variablene fra 2018-datasettet er satt inn for verdiene der innbyggerantallet var 0.\n",
    "Samtidig settes årstallet lik 2018 der vi har imputert 2018-tall og kilden endres til kilden fra 2018."
   ]
  },
  {
   "cell_type": "code",
   "execution_count": null,
   "metadata": {},
   "outputs": [],
   "source": [
    "df_midl = df_innbyggere_2020_2018.withColumn('Innbyggere', F.when(df_innbyggere_2020_2018['Innbyggerantall'] <= 0, df_innbyggere_2020_2018['Innbyggerantall_2018']).otherwise(df_innbyggere_2020_2018['Innbyggerantall']))\\\n",
    "                                 .withColumn('Aar', F.when(df_innbyggere_2020_2018['Innbyggerantall'] <= 0, df_innbyggere_2020_2018['Årstall']).otherwise(df_innbyggere_2020_2018['År'])) \\\n",
    "                                 .withColumn('Kilde_ny', F.when(df_innbyggere_2020_2018['Innbyggerantall'] <= 0, df_innbyggere_2020_2018['Kilde_2018']).otherwise(df_innbyggere_2020_2018['Kilde']))\n",
    "    \n",
    "df_innbyggere_imp = df_midl.select(['Land','Innbyggere','Aar','Kilde_ny']).withColumnRenamed('Innbyggere','Innbyggerantall').withColumnRenamed('Aar','År').withColumnRenamed('Kilde_ny','Kilde')\n",
    "df_innbyggere_imp.show(10,False)"
   ]
  },
  {
   "cell_type": "code",
   "execution_count": null,
   "metadata": {},
   "outputs": [],
   "source": []
  },
  {
   "cell_type": "code",
   "execution_count": null,
   "metadata": {},
   "outputs": [],
   "source": []
  }
 ],
 "metadata": {
  "kernelspec": {
   "display_name": "Pyspark (local)",
   "language": "python",
   "name": "pyspark_local"
  },
  "language_info": {
   "codemirror_mode": {
    "name": "ipython",
    "version": 3
   },
   "file_extension": ".py",
   "mimetype": "text/x-python",
   "name": "python",
   "nbconvert_exporter": "python",
   "pygments_lexer": "ipython3",
   "version": "3.7.6"
  }
 },
 "nbformat": 4,
 "nbformat_minor": 4
}
