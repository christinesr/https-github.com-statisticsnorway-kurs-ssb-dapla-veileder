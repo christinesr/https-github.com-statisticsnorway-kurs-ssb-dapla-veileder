{
 "cells": [
  {
   "cell_type": "markdown",
   "metadata": {},
   "source": [
    "### Eksempler\n",
    "<font size=2>Vi tar utgangspunkt i datasettet med landenes innbyggertall.\n",
    "<ol>\n",
    "<li>Lese inn og vise dataframe\n",
    "<li>Sortere dataframe etter variabel\n",
    "<li>Telle opp antall duplikater i form av identiske rader i dataframen og vise i liste\n",
    "<li>Telle opp anntall duplikater i en variabel\n",
    "<li>ny dataframe hvor duplikater på land er fjernet (dvs det skal gjenstå en rad pr land)- Fjerne dubletter, beholde en rad basert på et gitt kriterie\n",
    "<li>Lage ny dataframe hvor duplikater på land er fjernet. Den som gjenstår skal være den rad med høyest innbyggerantall\n",
    "<li>Ta ut de rader som har to eller flere forekomster på samme land i egen dataframe\n",
    "<li>Telle opp antall og skrive ut/printe hvor mange rader som er identiske (duplikat på alle dvs variablene er identiske)\n",
    "<li>Lage ny dataframe hvor rader som er identiske fjernet (dvs det skal gjenstå en rad) (edited)\n",
    "</ol>\n",
    "</font>"
   ]
  },
  {
   "cell_type": "markdown",
   "metadata": {},
   "source": [
    "#### Importerer biblioteker"
   ]
  },
  {
   "cell_type": "code",
   "execution_count": null,
   "metadata": {},
   "outputs": [],
   "source": [
    "from pyspark.sql import DataFrame\n",
    "from pyspark.sql.types import *\n",
    "import pyspark.sql.functions as F"
   ]
  },
  {
   "cell_type": "markdown",
   "metadata": {},
   "source": [
    "### 1. Lese inn og vise dataframe \n",
    "<font size=2>Lese inn dataframe: <code><i>navn_dataframe</i>.spark.read.path(\"/felles/sti\")</code>\n",
    "Vise dataframe: <code><i>navn_dataframe</i>.show()</code>\n",
    "</font>"
   ]
  },
  {
   "cell_type": "markdown",
   "metadata": {},
   "source": [
    "#### Leser inn og viser dataframen \"df_innbyggertall\" (kode)"
   ]
  },
  {
   "cell_type": "code",
   "execution_count": null,
   "metadata": {},
   "outputs": [],
   "source": [
    "#Her leses dataframen inn fra dataplattformen som vi ønsker å undersøke nærmere for dubletter\n",
    "\n",
    "df_innbyggerantall = spark.read.path(\"/felles/veiledning/pyspark/eksempler/innbyggerantall/2020\")\n",
    "\n",
    "# Her vises dataframen vi har lest inn \n",
    "df_innbyggerantall.show(30, False)"
   ]
  },
  {
   "cell_type": "markdown",
   "metadata": {},
   "source": [
    "### 2. Sortere dataframe etter kolonne\n",
    "\n",
    "<code><i>dataframe</i>.orderBy('kolonnenavn')</code>"
   ]
  },
  {
   "cell_type": "markdown",
   "metadata": {},
   "source": [
    "#### Lager nytt dataframe 'df_innbyggerantall_sort' som er sortert etter variabelen 'Land' (kode)"
   ]
  },
  {
   "cell_type": "code",
   "execution_count": null,
   "metadata": {},
   "outputs": [],
   "source": [
    "#Sorterer dataframen etter variabelen \"land\" alfabetisk\n",
    "df_innbyggerantall_sort = df_innbyggerantall.orderBy('Land')\n",
    "#lister ut den sorterte dataframen\n",
    "df_innbyggerantall_sort.show()"
   ]
  },
  {
   "cell_type": "markdown",
   "metadata": {},
   "source": [
    "### 3.Telle opp antall duplikater  dataframen og vise i liste\n",
    "<font size=2><code>'dataframe'.groupBy('dataframe'.columns)\\\n",
    "    .count()\\\n",
    "    .where(F.col('count') > 1)\\\n",
    "    .select(F.sum('count'))\n",
    "    .show()</code>\n",
    "</font>"
   ]
  },
  {
   "cell_type": "markdown",
   "metadata": {},
   "source": [
    "#### Telle opp antall dublikater og vise i liste (kode)"
   ]
  },
  {
   "cell_type": "code",
   "execution_count": null,
   "metadata": {},
   "outputs": [],
   "source": [
    "#Sjekke og telle om det er duplikater i form av identiske rader i dataframe. \n",
    "\n",
    "df_innbyggerantall_sort.groupBy(df_innbyggerantall_sort.columns)\\\n",
    "    .count()\\\n",
    "    .where(F.col('count') > 1)\\\n",
    "    .select(F.sum('count'))\\\n",
    "    .show()"
   ]
  },
  {
   "cell_type": "markdown",
   "metadata": {},
   "source": [
    "### 4. Telle opp antall dublikater i en kolonne"
   ]
  },
  {
   "cell_type": "markdown",
   "metadata": {},
   "source": [
    "#### Antall duplikater i variabelen 'Land' i dataframen 'df_innbyggerantall_sort' (kode)"
   ]
  },
  {
   "cell_type": "code",
   "execution_count": null,
   "metadata": {},
   "outputs": [],
   "source": [
    "# Telle opp antall duplikater i variabelen \"Land\" i dataframen. \n",
    "df_innbyggerantall_sort.groupBy(df_innbyggerantall_sort.Land)\\\n",
    "    .count()\\\n",
    "    .where(F.col('count') > 1)\\\n",
    "    .select(F.sum('count'))\\\n",
    "    .show()"
   ]
  },
  {
   "cell_type": "markdown",
   "metadata": {},
   "source": [
    "#### Lager ny dataframe 'df_land_dup' med dublettene i variabelen 'land' (kode)"
   ]
  },
  {
   "cell_type": "code",
   "execution_count": null,
   "metadata": {},
   "outputs": [],
   "source": [
    "#lager ny dataframe med bestående av land og tilhørende duplikater. \n",
    "\n",
    "df_land_dup=df_innbyggerantall_sort.groupBy(df_innbyggerantall_sort.Land)\\\n",
    "    .count()\\\n",
    "    .filter(F.col('count') > 1)\n",
    "df_land_dup.show()"
   ]
  },
  {
   "cell_type": "code",
   "execution_count": null,
   "metadata": {},
   "outputs": [],
   "source": [
    "#Tar ut oversikt over de radene i kolonnen \"Land\" som er duplikater\n",
    "df_innbyggerantall_sort.exceptAll(df_innbyggerantall_sort.dropDuplicates(['Land'])).show()"
   ]
  },
  {
   "cell_type": "code",
   "execution_count": null,
   "metadata": {},
   "outputs": [],
   "source": [
    "#Tar ut oversikt over de radene med likt \"land\" som forekommer flere enn en gang i dataframen, og sånn sett utgjør den samlede mengden av duplikater\n",
    "df_land_dub_alle  = df_innbyggerantall_sort.join(df_innbyggerantall_sort.groupBy('Land')\\\n",
    "          .count().where('count = 1').drop('count'),\n",
    "        on=['Land'],\n",
    "        how='left_anti')\n",
    "df_land_dub_alle.show()        "
   ]
  },
  {
   "cell_type": "markdown",
   "metadata": {},
   "source": [
    "### Alternativ"
   ]
  },
  {
   "cell_type": "code",
   "execution_count": null,
   "metadata": {},
   "outputs": [],
   "source": [
    "df_antall_dublikater= df_innbyggerantall.groupBy('Land').count()\n",
    "\n",
    "df_antall_dublikater=df_antall_dublikater.filter((F.col('count')>1))\n",
    "\n",
    "print(\"Antall dublikater:\")\n",
    "df_antall_dublikater.show()\n",
    "\n",
    "dublikater = df_innbyggerantall.join(df_antall_dublikater,'Land','inner')\n",
    "\n",
    "print(\"Dublikatene:\")\n",
    "dublikater.show()"
   ]
  },
  {
   "cell_type": "code",
   "execution_count": null,
   "metadata": {},
   "outputs": [],
   "source": [
    "#Sorterer duplikat-dataframe etter land og innbyggerantall\n",
    "df_land_dub_alle.orderBy(['Land','Innbyggerantall']).show()"
   ]
  },
  {
   "cell_type": "markdown",
   "metadata": {},
   "source": [
    "### Å fjerne dublikater\n"
   ]
  },
  {
   "cell_type": "code",
   "execution_count": null,
   "metadata": {},
   "outputs": [],
   "source": [
    "#Fjerner/dropper rader som er helt like\n",
    "df_innbyggerantall_udub=df_innbyggerantall.dropDuplicates()\n",
    "df_innbyggerantall_udub.show()\n",
    "df_innbyggerantall_udub.count()\n",
    "#\n"
   ]
  },
  {
   "cell_type": "code",
   "execution_count": null,
   "metadata": {},
   "outputs": [],
   "source": [
    "#Fjerner/dropper rader med duplikat på land\n",
    "df_innbyggerantall_udubLand=df_innbyggerantall.dropDuplicates(['Land'])\n",
    "df_innbyggerantall_udubLand.show()\n",
    "df_innbyggerantall_udubLand.count()"
   ]
  },
  {
   "cell_type": "code",
   "execution_count": null,
   "metadata": {},
   "outputs": [],
   "source": [
    "#Velger den første duplikatene\n",
    "#Overfører df_land_dub_alle til pandas dataframe (pdf)\n",
    "pdf = df_land_dub_alle.toPandas()\n",
    "df_pdf_udub = pdf.drop_duplicates(subset=['Land'], keep='first', inplace=False)\n",
    "\n",
    "#Overfører \"tilbake\" til spark dataframe\n",
    "schema_land_innbyggerantall = StructType([\\\n",
    "    StructField('Land',StringType(), False),\\\n",
    "    StructField('Landkode',StringType(), False),\\\n",
    "    StructField('Innbyggerantall', IntegerType(), False),\\\n",
    "    StructField('År', IntegerType(), False),\\\n",
    "    StructField('Kilde', StringType(), False)])\n",
    "\n",
    "df_spark_udub = spark.createDataFrame(df_pdf_udub,  schema_land_innbyggerantall)\n",
    "df_spark_udub.show()"
   ]
  }
 ],
 "metadata": {
  "kernelspec": {
   "display_name": "Pyspark (local)",
   "language": "python",
   "name": "pyspark_local"
  },
  "language_info": {
   "codemirror_mode": {
    "name": "ipython",
    "version": 3
   },
   "file_extension": ".py",
   "mimetype": "text/x-python",
   "name": "python",
   "nbconvert_exporter": "python",
   "pygments_lexer": "ipython3",
   "version": "3.7.6"
  }
 },
 "nbformat": 4,
 "nbformat_minor": 4
}
