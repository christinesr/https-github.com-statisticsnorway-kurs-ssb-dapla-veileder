{
 "cells": [
  {
   "cell_type": "markdown",
   "metadata": {},
   "source": [
    "## Her skal det være en relevant overskrift."
   ]
  },
  {
   "cell_type": "markdown",
   "metadata": {},
   "source": [
    "#### Daplas Python pakke (dapla) og bilioteket pandas importeres."
   ]
  },
  {
   "cell_type": "code",
   "execution_count": null,
   "metadata": {},
   "outputs": [],
   "source": [
    "import dapla as dp\n",
    "import pandas as pd"
   ]
  },
  {
   "cell_type": "markdown",
   "metadata": {},
   "source": [
    "#### Kjører metoden show for å få oversikt over hvilke parquet datasett som er tilrettelagt i tilknytning veilderens lagringsområde i sky.  Oversikt blir lest inn i egen dataframe - df_datsets.\n",
    "Aktuelt lagringsområde blir lagt inn som parameter (string objekt som vi definerer selv) INNDATA_PATH"
   ]
  },
  {
   "cell_type": "code",
   "execution_count": null,
   "metadata": {},
   "outputs": [],
   "source": [
    "INNDATA_PATH = '/felles/veiledning/pyspark/eksempler/'\n",
    "df_datasets = dp.show(INNDATA_PATH)\n"
   ]
  },
  {
   "cell_type": "markdown",
   "metadata": {},
   "source": [
    "#### df_datsets skrives ut i output vindu. Setter opsjonen max_colwith til 150 slik at vi får se all informasjon i df_datasets i output.\n",
    "Oversikt over ulike options som kan settes i Pandas:https://pandas.pydata.org/pandas-docs/stable/user_guide/options.html"
   ]
  },
  {
   "cell_type": "code",
   "execution_count": null,
   "metadata": {},
   "outputs": [],
   "source": [
    "pd.options.display.max_colwidth = 150\n",
    "df_datasets"
   ]
  },
  {
   "cell_type": "markdown",
   "metadata": {},
   "source": [
    "#### Avleder variabel filname fra variabel path"
   ]
  },
  {
   "cell_type": "code",
   "execution_count": null,
   "metadata": {},
   "outputs": [],
   "source": [
    "df_datasets[\"filename\"]= df_datasets[\"path\"].str[len(INNDATA_PATH):]\n",
    "df_datasets"
   ]
  },
  {
   "cell_type": "markdown",
   "metadata": {},
   "source": [
    "#### Selketerer ut rader bestående av de filnavn som vi ønsker å trekke ut for videre bearbeiding. \n",
    "Viser hvordan man kan bruke liste (Phyton list) for å gjøre en slik seleksjon."
   ]
  },
  {
   "cell_type": "code",
   "execution_count": null,
   "metadata": {},
   "outputs": [],
   "source": []
  },
  {
   "cell_type": "code",
   "execution_count": null,
   "metadata": {},
   "outputs": [],
   "source": [
    "filenames = ['areal', 'bnp', 'innbyggerantall/2020']\n",
    "df_datasets = df_datasets[df_datasets.filename.isin(filenames)]\n",
    "df_datasets"
   ]
  },
  {
   "cell_type": "markdown",
   "metadata": {},
   "source": [
    "#### Oppretter dictionaryet dict_df og leser så de tre parquet datsettene i output vindu over inn som dataframes i dictionaryet. \n",
    "Filnavnene blir keys i dictionaryet. Avslutningsvis i pargraf skrives key-navnene ut i output ."
   ]
  },
  {
   "cell_type": "code",
   "execution_count": null,
   "metadata": {},
   "outputs": [],
   "source": [
    "dict_df = {}\n",
    "for rows in df_datasets.itertuples():\n",
    "    dict_df[rows.filename] = dp.read_pandas(rows.path)\n",
    "for key in dict_df:\n",
    "    print(key)"
   ]
  },
  {
   "cell_type": "markdown",
   "metadata": {},
   "source": [
    "### Skriver ut innhold i dataframene i dictionaryet"
   ]
  },
  {
   "cell_type": "markdown",
   "metadata": {},
   "source": [
    "#### Areal"
   ]
  },
  {
   "cell_type": "code",
   "execution_count": null,
   "metadata": {},
   "outputs": [],
   "source": [
    "dict_df['areal']"
   ]
  },
  {
   "cell_type": "markdown",
   "metadata": {},
   "source": [
    "#### BNP"
   ]
  },
  {
   "cell_type": "code",
   "execution_count": null,
   "metadata": {},
   "outputs": [],
   "source": [
    "dict_df['bnp']"
   ]
  },
  {
   "cell_type": "markdown",
   "metadata": {},
   "source": [
    "#### Innbyggerantall 2020"
   ]
  },
  {
   "cell_type": "code",
   "execution_count": null,
   "metadata": {},
   "outputs": [],
   "source": [
    "dict_df['innbyggerantall/2020']"
   ]
  },
  {
   "cell_type": "markdown",
   "metadata": {},
   "source": [
    "### Fjerner duplikater og kolonner vi ikke ønsker å ha med videre\n",
    "Vi ønsker å sette sammen informasjon fra datasettene i dictinaryet til et nytt datasett. Dette vil vi gjøre ved å koble de sammen via Landkode variabel. Vi fjerner eventuelle dublikater (tar med første forekomst) på Landkode og dropper variable som vi ikke trenger/ønsker å ha med på det nye datasettet i innledende steg under.\n"
   ]
  },
  {
   "cell_type": "markdown",
   "metadata": {},
   "source": [
    "Areal"
   ]
  },
  {
   "cell_type": "code",
   "execution_count": null,
   "metadata": {},
   "outputs": [],
   "source": [
    "dict_df['areal'] = dict_df['areal'].drop_duplicates(subset=\"Landkode\", keep='first', inplace=False).drop(columns='Kilde')"
   ]
  },
  {
   "cell_type": "markdown",
   "metadata": {},
   "source": [
    "BNP (bruker liste funksjonalitet)"
   ]
  },
  {
   "cell_type": "code",
   "execution_count": null,
   "metadata": {},
   "outputs": [],
   "source": [
    "liste_drop_kolonner = ['Land', 'Kilde', 'År']\n",
    "dict_df['bnp'] = dict_df['bnp'].drop_duplicates(subset=\"Landkode\", keep='first', inplace=False).drop(columns=liste_drop_kolonner)"
   ]
  },
  {
   "cell_type": "markdown",
   "metadata": {},
   "source": [
    "Innbyggerantall"
   ]
  },
  {
   "cell_type": "code",
   "execution_count": null,
   "metadata": {},
   "outputs": [],
   "source": [
    "liste_drop_kolonner = ['Land', 'Kilde', 'År']\n",
    "dict_df['innbyggerantall/2020'] = dict_df['innbyggerantall/2020'].drop_duplicates(subset=\"Landkode\", keep='first', inplace=False).drop(columns=liste_drop_kolonner)"
   ]
  },
  {
   "cell_type": "markdown",
   "metadata": {},
   "source": [
    "### Kobler sammen datsettene og etablerer en dataframe vi skal utføre statistisk analyse på. "
   ]
  },
  {
   "cell_type": "markdown",
   "metadata": {},
   "source": [
    "Kobler først areal og bnp og oppretter dataframen df_areal_bnp. Vi legger ikke denne dataframen inn i dictionaryet. Det hadde imidlertid enkelt latt seg gjøre ved å skrive f.eks. å bytte ut df_areal_bnp med dict['areal_bnp]."
   ]
  },
  {
   "cell_type": "code",
   "execution_count": null,
   "metadata": {},
   "outputs": [],
   "source": [
    "df_areal_bnp = pd.merge(left=dict_df['areal'], right=dict_df['bnp'], left_on='Landkode', right_on='Landkode')"
   ]
  },
  {
   "cell_type": "markdown",
   "metadata": {},
   "source": [
    "Kobler derettet df_areal_bnp med innbyggerantall/2020 dataframen (i dictionaryet). Dermed får vi produsert den dataframen som vi ænsker å utføre en nærmere statistk analyse på. "
   ]
  },
  {
   "cell_type": "code",
   "execution_count": null,
   "metadata": {},
   "outputs": [],
   "source": [
    "df_sammensatt = pd.merge(left=df_areal_bnp, right=dict_df['innbyggerantall/2020'], left_on='Landkode', right_on='Landkode')"
   ]
  },
  {
   "cell_type": "markdown",
   "metadata": {},
   "source": [
    "Skriver ut innhold i df_sammensatt i output"
   ]
  },
  {
   "cell_type": "code",
   "execution_count": null,
   "metadata": {},
   "outputs": [],
   "source": [
    "df_sammensatt"
   ]
  },
  {
   "cell_type": "markdown",
   "metadata": {},
   "source": [
    "### Lagrer dataframe som parquet datasett på Dapla\n",
    "Skriver pandas dataframe til GCS bucket i parquet format\n",
    "Merknad: Prøvde å skrive til hjemmekatalog under /user. Får feilmelding og beskjed om at jeg ikke har tilgang. Skriver derfor inntil videre datasettet til temporært område \n",
    "til skattestatistikk. Dette må det rettes opp i."
   ]
  },
  {
   "cell_type": "code",
   "execution_count": null,
   "metadata": {},
   "outputs": [],
   "source": [
    "dp.write_pandas(df_sammensatt, '/produkt/skatt/person/temp/mif/df_sammensatt', valuation='INTERNAL', state= 'INPUT')\n"
   ]
  },
  {
   "cell_type": "code",
   "execution_count": null,
   "metadata": {},
   "outputs": [],
   "source": [
    "dp.show('/produkt/skatt/person/temp/mif/df_sammensatt')"
   ]
  },
  {
   "cell_type": "code",
   "execution_count": null,
   "metadata": {},
   "outputs": [],
   "source": []
  }
 ],
 "metadata": {
  "kernelspec": {
   "display_name": "Python 3",
   "language": "python",
   "name": "python3"
  },
  "language_info": {
   "codemirror_mode": {
    "name": "ipython",
    "version": 3
   },
   "file_extension": ".py",
   "mimetype": "text/x-python",
   "name": "python",
   "nbconvert_exporter": "python",
   "pygments_lexer": "ipython3",
   "version": "3.8.5"
  }
 },
 "nbformat": 4,
 "nbformat_minor": 4
}
